{
 "cells": [
  {
   "cell_type": "markdown",
   "metadata": {},
   "source": [
    "<p style=\"text-align:center\">\n",
    "    <a href=\"https://skills.network\" target=\"_blank\">\n",
    "    <img src=\"https://cf-courses-data.s3.us.cloud-object-storage.appdomain.cloud/assets/logos/SN_web_lightmode.png\" width=\"200\" alt=\"Skills Network Logo\"  />\n",
    "    </a>\n",
    "</p>\n"
   ]
  },
  {
   "cell_type": "markdown",
   "metadata": {},
   "source": [
    "# **Data Wrangling**\n"
   ]
  },
  {
   "cell_type": "markdown",
   "metadata": {},
   "source": [
    "Estimated time needed: **45** minutes\n"
   ]
  },
  {
   "cell_type": "markdown",
   "metadata": {},
   "source": [
    "In this lab, you will perform data wrangling tasks to prepare raw data for analysis. Data wrangling involves cleaning, transforming, and organizing data into a structured format suitable for analysis. This lab focuses on tasks like identifying inconsistencies, encoding categorical variables, and feature transformation.\n"
   ]
  },
  {
   "cell_type": "markdown",
   "metadata": {},
   "source": [
    "## Objectives\n"
   ]
  },
  {
   "cell_type": "markdown",
   "metadata": {},
   "source": [
    "After completing this lab, you will be able to:\n"
   ]
  },
  {
   "cell_type": "markdown",
   "metadata": {},
   "source": [
    "- Identify and remove inconsistent data entries.\n",
    "\n",
    "- Encode categorical variables for analysis.\n",
    "\n",
    "- Handle missing values using multiple imputation strategies.\n",
    "\n",
    "- Apply feature scaling and transformation techniques.\n"
   ]
  },
  {
   "cell_type": "markdown",
   "metadata": {},
   "source": [
    "#### Install the required libraries\n"
   ]
  },
  {
   "cell_type": "code",
   "execution_count": 1,
   "metadata": {},
   "outputs": [],
   "source": [
    "# !pip install pandas\n",
    "# !pip install matplotlib"
   ]
  },
  {
   "cell_type": "markdown",
   "metadata": {},
   "source": [
    "## Tasks\n"
   ]
  },
  {
   "cell_type": "markdown",
   "metadata": {},
   "source": [
    "#### Step 1: Import the necessary module.\n"
   ]
  },
  {
   "cell_type": "markdown",
   "metadata": {},
   "source": [
    "### 1. Load the Dataset\n"
   ]
  },
  {
   "cell_type": "markdown",
   "metadata": {},
   "source": [
    "<h5>1.1 Import necessary libraries and load the dataset.</h5>\n"
   ]
  },
  {
   "cell_type": "markdown",
   "metadata": {},
   "source": [
    "Ensure the dataset is loaded correctly by displaying the first few rows.\n"
   ]
  },
  {
   "cell_type": "code",
   "execution_count": 2,
   "metadata": {},
   "outputs": [
    {
     "data": {
      "text/html": [
       "<div>\n",
       "<style scoped>\n",
       "    .dataframe tbody tr th:only-of-type {\n",
       "        vertical-align: middle;\n",
       "    }\n",
       "\n",
       "    .dataframe tbody tr th {\n",
       "        vertical-align: top;\n",
       "    }\n",
       "\n",
       "    .dataframe thead th {\n",
       "        text-align: right;\n",
       "    }\n",
       "</style>\n",
       "<table border=\"1\" class=\"dataframe\">\n",
       "  <thead>\n",
       "    <tr style=\"text-align: right;\">\n",
       "      <th></th>\n",
       "      <th>ResponseId</th>\n",
       "      <th>MainBranch</th>\n",
       "      <th>Age</th>\n",
       "      <th>Employment</th>\n",
       "      <th>RemoteWork</th>\n",
       "      <th>Check</th>\n",
       "      <th>CodingActivities</th>\n",
       "      <th>EdLevel</th>\n",
       "      <th>LearnCode</th>\n",
       "      <th>LearnCodeOnline</th>\n",
       "      <th>...</th>\n",
       "      <th>JobSatPoints_6</th>\n",
       "      <th>JobSatPoints_7</th>\n",
       "      <th>JobSatPoints_8</th>\n",
       "      <th>JobSatPoints_9</th>\n",
       "      <th>JobSatPoints_10</th>\n",
       "      <th>JobSatPoints_11</th>\n",
       "      <th>SurveyLength</th>\n",
       "      <th>SurveyEase</th>\n",
       "      <th>ConvertedCompYearly</th>\n",
       "      <th>JobSat</th>\n",
       "    </tr>\n",
       "  </thead>\n",
       "  <tbody>\n",
       "    <tr>\n",
       "      <th>0</th>\n",
       "      <td>1</td>\n",
       "      <td>I am a developer by profession</td>\n",
       "      <td>Under 18 years old</td>\n",
       "      <td>Employed, full-time</td>\n",
       "      <td>Remote</td>\n",
       "      <td>Apples</td>\n",
       "      <td>Hobby</td>\n",
       "      <td>Primary/elementary school</td>\n",
       "      <td>Books / Physical media</td>\n",
       "      <td>NaN</td>\n",
       "      <td>...</td>\n",
       "      <td>NaN</td>\n",
       "      <td>NaN</td>\n",
       "      <td>NaN</td>\n",
       "      <td>NaN</td>\n",
       "      <td>NaN</td>\n",
       "      <td>NaN</td>\n",
       "      <td>NaN</td>\n",
       "      <td>NaN</td>\n",
       "      <td>NaN</td>\n",
       "      <td>NaN</td>\n",
       "    </tr>\n",
       "    <tr>\n",
       "      <th>1</th>\n",
       "      <td>2</td>\n",
       "      <td>I am a developer by profession</td>\n",
       "      <td>35-44 years old</td>\n",
       "      <td>Employed, full-time</td>\n",
       "      <td>Remote</td>\n",
       "      <td>Apples</td>\n",
       "      <td>Hobby;Contribute to open-source projects;Other...</td>\n",
       "      <td>Bachelor’s degree (B.A., B.S., B.Eng., etc.)</td>\n",
       "      <td>Books / Physical media;Colleague;On the job tr...</td>\n",
       "      <td>Technical documentation;Blogs;Books;Written Tu...</td>\n",
       "      <td>...</td>\n",
       "      <td>0.0</td>\n",
       "      <td>0.0</td>\n",
       "      <td>0.0</td>\n",
       "      <td>0.0</td>\n",
       "      <td>0.0</td>\n",
       "      <td>0.0</td>\n",
       "      <td>NaN</td>\n",
       "      <td>NaN</td>\n",
       "      <td>NaN</td>\n",
       "      <td>NaN</td>\n",
       "    </tr>\n",
       "    <tr>\n",
       "      <th>2</th>\n",
       "      <td>3</td>\n",
       "      <td>I am a developer by profession</td>\n",
       "      <td>45-54 years old</td>\n",
       "      <td>Employed, full-time</td>\n",
       "      <td>Remote</td>\n",
       "      <td>Apples</td>\n",
       "      <td>Hobby;Contribute to open-source projects;Other...</td>\n",
       "      <td>Master’s degree (M.A., M.S., M.Eng., MBA, etc.)</td>\n",
       "      <td>Books / Physical media;Colleague;On the job tr...</td>\n",
       "      <td>Technical documentation;Blogs;Books;Written Tu...</td>\n",
       "      <td>...</td>\n",
       "      <td>NaN</td>\n",
       "      <td>NaN</td>\n",
       "      <td>NaN</td>\n",
       "      <td>NaN</td>\n",
       "      <td>NaN</td>\n",
       "      <td>NaN</td>\n",
       "      <td>Appropriate in length</td>\n",
       "      <td>Easy</td>\n",
       "      <td>NaN</td>\n",
       "      <td>NaN</td>\n",
       "    </tr>\n",
       "    <tr>\n",
       "      <th>3</th>\n",
       "      <td>4</td>\n",
       "      <td>I am learning to code</td>\n",
       "      <td>18-24 years old</td>\n",
       "      <td>Student, full-time</td>\n",
       "      <td>NaN</td>\n",
       "      <td>Apples</td>\n",
       "      <td>NaN</td>\n",
       "      <td>Some college/university study without earning ...</td>\n",
       "      <td>Other online resources (e.g., videos, blogs, f...</td>\n",
       "      <td>Stack Overflow;How-to videos;Interactive tutorial</td>\n",
       "      <td>...</td>\n",
       "      <td>NaN</td>\n",
       "      <td>NaN</td>\n",
       "      <td>NaN</td>\n",
       "      <td>NaN</td>\n",
       "      <td>NaN</td>\n",
       "      <td>NaN</td>\n",
       "      <td>Too long</td>\n",
       "      <td>Easy</td>\n",
       "      <td>NaN</td>\n",
       "      <td>NaN</td>\n",
       "    </tr>\n",
       "    <tr>\n",
       "      <th>4</th>\n",
       "      <td>5</td>\n",
       "      <td>I am a developer by profession</td>\n",
       "      <td>18-24 years old</td>\n",
       "      <td>Student, full-time</td>\n",
       "      <td>NaN</td>\n",
       "      <td>Apples</td>\n",
       "      <td>NaN</td>\n",
       "      <td>Secondary school (e.g. American high school, G...</td>\n",
       "      <td>Other online resources (e.g., videos, blogs, f...</td>\n",
       "      <td>Technical documentation;Blogs;Written Tutorial...</td>\n",
       "      <td>...</td>\n",
       "      <td>NaN</td>\n",
       "      <td>NaN</td>\n",
       "      <td>NaN</td>\n",
       "      <td>NaN</td>\n",
       "      <td>NaN</td>\n",
       "      <td>NaN</td>\n",
       "      <td>Too short</td>\n",
       "      <td>Easy</td>\n",
       "      <td>NaN</td>\n",
       "      <td>NaN</td>\n",
       "    </tr>\n",
       "  </tbody>\n",
       "</table>\n",
       "<p>5 rows × 114 columns</p>\n",
       "</div>"
      ],
      "text/plain": [
       "   ResponseId                      MainBranch                 Age  \\\n",
       "0           1  I am a developer by profession  Under 18 years old   \n",
       "1           2  I am a developer by profession     35-44 years old   \n",
       "2           3  I am a developer by profession     45-54 years old   \n",
       "3           4           I am learning to code     18-24 years old   \n",
       "4           5  I am a developer by profession     18-24 years old   \n",
       "\n",
       "            Employment RemoteWork   Check  \\\n",
       "0  Employed, full-time     Remote  Apples   \n",
       "1  Employed, full-time     Remote  Apples   \n",
       "2  Employed, full-time     Remote  Apples   \n",
       "3   Student, full-time        NaN  Apples   \n",
       "4   Student, full-time        NaN  Apples   \n",
       "\n",
       "                                    CodingActivities  \\\n",
       "0                                              Hobby   \n",
       "1  Hobby;Contribute to open-source projects;Other...   \n",
       "2  Hobby;Contribute to open-source projects;Other...   \n",
       "3                                                NaN   \n",
       "4                                                NaN   \n",
       "\n",
       "                                             EdLevel  \\\n",
       "0                          Primary/elementary school   \n",
       "1       Bachelor’s degree (B.A., B.S., B.Eng., etc.)   \n",
       "2    Master’s degree (M.A., M.S., M.Eng., MBA, etc.)   \n",
       "3  Some college/university study without earning ...   \n",
       "4  Secondary school (e.g. American high school, G...   \n",
       "\n",
       "                                           LearnCode  \\\n",
       "0                             Books / Physical media   \n",
       "1  Books / Physical media;Colleague;On the job tr...   \n",
       "2  Books / Physical media;Colleague;On the job tr...   \n",
       "3  Other online resources (e.g., videos, blogs, f...   \n",
       "4  Other online resources (e.g., videos, blogs, f...   \n",
       "\n",
       "                                     LearnCodeOnline  ... JobSatPoints_6  \\\n",
       "0                                                NaN  ...            NaN   \n",
       "1  Technical documentation;Blogs;Books;Written Tu...  ...            0.0   \n",
       "2  Technical documentation;Blogs;Books;Written Tu...  ...            NaN   \n",
       "3  Stack Overflow;How-to videos;Interactive tutorial  ...            NaN   \n",
       "4  Technical documentation;Blogs;Written Tutorial...  ...            NaN   \n",
       "\n",
       "  JobSatPoints_7 JobSatPoints_8 JobSatPoints_9 JobSatPoints_10  \\\n",
       "0            NaN            NaN            NaN             NaN   \n",
       "1            0.0            0.0            0.0             0.0   \n",
       "2            NaN            NaN            NaN             NaN   \n",
       "3            NaN            NaN            NaN             NaN   \n",
       "4            NaN            NaN            NaN             NaN   \n",
       "\n",
       "  JobSatPoints_11           SurveyLength SurveyEase ConvertedCompYearly JobSat  \n",
       "0             NaN                    NaN        NaN                 NaN    NaN  \n",
       "1             0.0                    NaN        NaN                 NaN    NaN  \n",
       "2             NaN  Appropriate in length       Easy                 NaN    NaN  \n",
       "3             NaN               Too long       Easy                 NaN    NaN  \n",
       "4             NaN              Too short       Easy                 NaN    NaN  \n",
       "\n",
       "[5 rows x 114 columns]"
      ]
     },
     "execution_count": 2,
     "metadata": {},
     "output_type": "execute_result"
    }
   ],
   "source": [
    "# Import necessary libraries\n",
    "import pandas as pd\n",
    "\n",
    "# Load the Stack Overflow survey data\n",
    "dataset_url = \"https://cf-courses-data.s3.us.cloud-object-storage.appdomain.cloud/n01PQ9pSmiRX6520flujwQ/survey-data.csv\"\n",
    "df = pd.read_csv(dataset_url)\n",
    "\n",
    "# Display the first few rows\n",
    "df.head()"
   ]
  },
  {
   "cell_type": "markdown",
   "metadata": {},
   "source": [
    "#### 2. Explore the Dataset\n"
   ]
  },
  {
   "cell_type": "markdown",
   "metadata": {},
   "source": [
    "<h5>2.1 Summarize the dataset by displaying the column data types, counts, and missing values.</h5>\n"
   ]
  },
  {
   "cell_type": "code",
   "execution_count": 3,
   "metadata": {},
   "outputs": [
    {
     "data": {
      "text/plain": [
       "(65437, 114)"
      ]
     },
     "execution_count": 3,
     "metadata": {},
     "output_type": "execute_result"
    }
   ],
   "source": [
    "df.shape # (rows, cols)"
   ]
  },
  {
   "cell_type": "code",
   "execution_count": 4,
   "metadata": {},
   "outputs": [
    {
     "name": "stdout",
     "output_type": "stream",
     "text": [
      "<class 'pandas.core.frame.DataFrame'>\n",
      "RangeIndex: 65437 entries, 0 to 65436\n",
      "Columns: 114 entries, ResponseId to JobSat\n",
      "dtypes: float64(13), int64(1), object(100)\n",
      "memory usage: 56.9+ MB\n"
     ]
    }
   ],
   "source": [
    "df.info()"
   ]
  },
  {
   "cell_type": "code",
   "execution_count": 5,
   "metadata": {},
   "outputs": [
    {
     "data": {
      "text/plain": [
       "Index(['ResponseId', 'MainBranch', 'Age', 'Employment', 'RemoteWork', 'Check',\n",
       "       'CodingActivities', 'EdLevel', 'LearnCode', 'LearnCodeOnline',\n",
       "       ...\n",
       "       'JobSatPoints_6', 'JobSatPoints_7', 'JobSatPoints_8', 'JobSatPoints_9',\n",
       "       'JobSatPoints_10', 'JobSatPoints_11', 'SurveyLength', 'SurveyEase',\n",
       "       'ConvertedCompYearly', 'JobSat'],\n",
       "      dtype='object', length=114)"
      ]
     },
     "execution_count": 5,
     "metadata": {},
     "output_type": "execute_result"
    }
   ],
   "source": [
    "df.columns"
   ]
  },
  {
   "cell_type": "code",
   "execution_count": 6,
   "metadata": {},
   "outputs": [
    {
     "data": {
      "text/html": [
       "<div>\n",
       "<style scoped>\n",
       "    .dataframe tbody tr th:only-of-type {\n",
       "        vertical-align: middle;\n",
       "    }\n",
       "\n",
       "    .dataframe tbody tr th {\n",
       "        vertical-align: top;\n",
       "    }\n",
       "\n",
       "    .dataframe thead th {\n",
       "        text-align: right;\n",
       "    }\n",
       "</style>\n",
       "<table border=\"1\" class=\"dataframe\">\n",
       "  <thead>\n",
       "    <tr style=\"text-align: right;\">\n",
       "      <th></th>\n",
       "      <th>ResponseId</th>\n",
       "      <th>MainBranch</th>\n",
       "      <th>Age</th>\n",
       "      <th>Employment</th>\n",
       "      <th>RemoteWork</th>\n",
       "      <th>Check</th>\n",
       "      <th>CodingActivities</th>\n",
       "      <th>EdLevel</th>\n",
       "      <th>LearnCode</th>\n",
       "      <th>LearnCodeOnline</th>\n",
       "      <th>...</th>\n",
       "      <th>JobSatPoints_6</th>\n",
       "      <th>JobSatPoints_7</th>\n",
       "      <th>JobSatPoints_8</th>\n",
       "      <th>JobSatPoints_9</th>\n",
       "      <th>JobSatPoints_10</th>\n",
       "      <th>JobSatPoints_11</th>\n",
       "      <th>SurveyLength</th>\n",
       "      <th>SurveyEase</th>\n",
       "      <th>ConvertedCompYearly</th>\n",
       "      <th>JobSat</th>\n",
       "    </tr>\n",
       "  </thead>\n",
       "  <tbody>\n",
       "    <tr>\n",
       "      <th>count</th>\n",
       "      <td>65437.000000</td>\n",
       "      <td>65437</td>\n",
       "      <td>65437</td>\n",
       "      <td>65437</td>\n",
       "      <td>54806</td>\n",
       "      <td>65437</td>\n",
       "      <td>54466</td>\n",
       "      <td>60784</td>\n",
       "      <td>60488</td>\n",
       "      <td>49237</td>\n",
       "      <td>...</td>\n",
       "      <td>29450.000000</td>\n",
       "      <td>29448.00000</td>\n",
       "      <td>29456.000000</td>\n",
       "      <td>29456.000000</td>\n",
       "      <td>29450.000000</td>\n",
       "      <td>29445.000000</td>\n",
       "      <td>56182</td>\n",
       "      <td>56238</td>\n",
       "      <td>2.343500e+04</td>\n",
       "      <td>29126.000000</td>\n",
       "    </tr>\n",
       "    <tr>\n",
       "      <th>unique</th>\n",
       "      <td>NaN</td>\n",
       "      <td>5</td>\n",
       "      <td>8</td>\n",
       "      <td>110</td>\n",
       "      <td>3</td>\n",
       "      <td>1</td>\n",
       "      <td>118</td>\n",
       "      <td>8</td>\n",
       "      <td>418</td>\n",
       "      <td>10853</td>\n",
       "      <td>...</td>\n",
       "      <td>NaN</td>\n",
       "      <td>NaN</td>\n",
       "      <td>NaN</td>\n",
       "      <td>NaN</td>\n",
       "      <td>NaN</td>\n",
       "      <td>NaN</td>\n",
       "      <td>3</td>\n",
       "      <td>3</td>\n",
       "      <td>NaN</td>\n",
       "      <td>NaN</td>\n",
       "    </tr>\n",
       "    <tr>\n",
       "      <th>top</th>\n",
       "      <td>NaN</td>\n",
       "      <td>I am a developer by profession</td>\n",
       "      <td>25-34 years old</td>\n",
       "      <td>Employed, full-time</td>\n",
       "      <td>Hybrid (some remote, some in-person)</td>\n",
       "      <td>Apples</td>\n",
       "      <td>Hobby</td>\n",
       "      <td>Bachelor’s degree (B.A., B.S., B.Eng., etc.)</td>\n",
       "      <td>Other online resources (e.g., videos, blogs, f...</td>\n",
       "      <td>Technical documentation;Blogs;Written Tutorial...</td>\n",
       "      <td>...</td>\n",
       "      <td>NaN</td>\n",
       "      <td>NaN</td>\n",
       "      <td>NaN</td>\n",
       "      <td>NaN</td>\n",
       "      <td>NaN</td>\n",
       "      <td>NaN</td>\n",
       "      <td>Appropriate in length</td>\n",
       "      <td>Easy</td>\n",
       "      <td>NaN</td>\n",
       "      <td>NaN</td>\n",
       "    </tr>\n",
       "    <tr>\n",
       "      <th>freq</th>\n",
       "      <td>NaN</td>\n",
       "      <td>50207</td>\n",
       "      <td>23911</td>\n",
       "      <td>39041</td>\n",
       "      <td>23015</td>\n",
       "      <td>65437</td>\n",
       "      <td>9993</td>\n",
       "      <td>24942</td>\n",
       "      <td>3674</td>\n",
       "      <td>603</td>\n",
       "      <td>...</td>\n",
       "      <td>NaN</td>\n",
       "      <td>NaN</td>\n",
       "      <td>NaN</td>\n",
       "      <td>NaN</td>\n",
       "      <td>NaN</td>\n",
       "      <td>NaN</td>\n",
       "      <td>38767</td>\n",
       "      <td>30071</td>\n",
       "      <td>NaN</td>\n",
       "      <td>NaN</td>\n",
       "    </tr>\n",
       "    <tr>\n",
       "      <th>mean</th>\n",
       "      <td>32719.000000</td>\n",
       "      <td>NaN</td>\n",
       "      <td>NaN</td>\n",
       "      <td>NaN</td>\n",
       "      <td>NaN</td>\n",
       "      <td>NaN</td>\n",
       "      <td>NaN</td>\n",
       "      <td>NaN</td>\n",
       "      <td>NaN</td>\n",
       "      <td>NaN</td>\n",
       "      <td>...</td>\n",
       "      <td>24.343232</td>\n",
       "      <td>22.96522</td>\n",
       "      <td>20.278165</td>\n",
       "      <td>16.169432</td>\n",
       "      <td>10.955713</td>\n",
       "      <td>9.953948</td>\n",
       "      <td>NaN</td>\n",
       "      <td>NaN</td>\n",
       "      <td>8.615529e+04</td>\n",
       "      <td>6.935041</td>\n",
       "    </tr>\n",
       "    <tr>\n",
       "      <th>std</th>\n",
       "      <td>18890.179119</td>\n",
       "      <td>NaN</td>\n",
       "      <td>NaN</td>\n",
       "      <td>NaN</td>\n",
       "      <td>NaN</td>\n",
       "      <td>NaN</td>\n",
       "      <td>NaN</td>\n",
       "      <td>NaN</td>\n",
       "      <td>NaN</td>\n",
       "      <td>NaN</td>\n",
       "      <td>...</td>\n",
       "      <td>27.089360</td>\n",
       "      <td>27.01774</td>\n",
       "      <td>26.108110</td>\n",
       "      <td>24.845032</td>\n",
       "      <td>22.906263</td>\n",
       "      <td>21.775652</td>\n",
       "      <td>NaN</td>\n",
       "      <td>NaN</td>\n",
       "      <td>1.867570e+05</td>\n",
       "      <td>2.088259</td>\n",
       "    </tr>\n",
       "    <tr>\n",
       "      <th>min</th>\n",
       "      <td>1.000000</td>\n",
       "      <td>NaN</td>\n",
       "      <td>NaN</td>\n",
       "      <td>NaN</td>\n",
       "      <td>NaN</td>\n",
       "      <td>NaN</td>\n",
       "      <td>NaN</td>\n",
       "      <td>NaN</td>\n",
       "      <td>NaN</td>\n",
       "      <td>NaN</td>\n",
       "      <td>...</td>\n",
       "      <td>0.000000</td>\n",
       "      <td>0.00000</td>\n",
       "      <td>0.000000</td>\n",
       "      <td>0.000000</td>\n",
       "      <td>0.000000</td>\n",
       "      <td>0.000000</td>\n",
       "      <td>NaN</td>\n",
       "      <td>NaN</td>\n",
       "      <td>1.000000e+00</td>\n",
       "      <td>0.000000</td>\n",
       "    </tr>\n",
       "    <tr>\n",
       "      <th>25%</th>\n",
       "      <td>16360.000000</td>\n",
       "      <td>NaN</td>\n",
       "      <td>NaN</td>\n",
       "      <td>NaN</td>\n",
       "      <td>NaN</td>\n",
       "      <td>NaN</td>\n",
       "      <td>NaN</td>\n",
       "      <td>NaN</td>\n",
       "      <td>NaN</td>\n",
       "      <td>NaN</td>\n",
       "      <td>...</td>\n",
       "      <td>0.000000</td>\n",
       "      <td>0.00000</td>\n",
       "      <td>0.000000</td>\n",
       "      <td>0.000000</td>\n",
       "      <td>0.000000</td>\n",
       "      <td>0.000000</td>\n",
       "      <td>NaN</td>\n",
       "      <td>NaN</td>\n",
       "      <td>3.271200e+04</td>\n",
       "      <td>6.000000</td>\n",
       "    </tr>\n",
       "    <tr>\n",
       "      <th>50%</th>\n",
       "      <td>32719.000000</td>\n",
       "      <td>NaN</td>\n",
       "      <td>NaN</td>\n",
       "      <td>NaN</td>\n",
       "      <td>NaN</td>\n",
       "      <td>NaN</td>\n",
       "      <td>NaN</td>\n",
       "      <td>NaN</td>\n",
       "      <td>NaN</td>\n",
       "      <td>NaN</td>\n",
       "      <td>...</td>\n",
       "      <td>20.000000</td>\n",
       "      <td>15.00000</td>\n",
       "      <td>10.000000</td>\n",
       "      <td>5.000000</td>\n",
       "      <td>0.000000</td>\n",
       "      <td>0.000000</td>\n",
       "      <td>NaN</td>\n",
       "      <td>NaN</td>\n",
       "      <td>6.500000e+04</td>\n",
       "      <td>7.000000</td>\n",
       "    </tr>\n",
       "    <tr>\n",
       "      <th>75%</th>\n",
       "      <td>49078.000000</td>\n",
       "      <td>NaN</td>\n",
       "      <td>NaN</td>\n",
       "      <td>NaN</td>\n",
       "      <td>NaN</td>\n",
       "      <td>NaN</td>\n",
       "      <td>NaN</td>\n",
       "      <td>NaN</td>\n",
       "      <td>NaN</td>\n",
       "      <td>NaN</td>\n",
       "      <td>...</td>\n",
       "      <td>30.000000</td>\n",
       "      <td>30.00000</td>\n",
       "      <td>25.000000</td>\n",
       "      <td>20.000000</td>\n",
       "      <td>10.000000</td>\n",
       "      <td>10.000000</td>\n",
       "      <td>NaN</td>\n",
       "      <td>NaN</td>\n",
       "      <td>1.079715e+05</td>\n",
       "      <td>8.000000</td>\n",
       "    </tr>\n",
       "    <tr>\n",
       "      <th>max</th>\n",
       "      <td>65437.000000</td>\n",
       "      <td>NaN</td>\n",
       "      <td>NaN</td>\n",
       "      <td>NaN</td>\n",
       "      <td>NaN</td>\n",
       "      <td>NaN</td>\n",
       "      <td>NaN</td>\n",
       "      <td>NaN</td>\n",
       "      <td>NaN</td>\n",
       "      <td>NaN</td>\n",
       "      <td>...</td>\n",
       "      <td>100.000000</td>\n",
       "      <td>100.00000</td>\n",
       "      <td>100.000000</td>\n",
       "      <td>100.000000</td>\n",
       "      <td>100.000000</td>\n",
       "      <td>100.000000</td>\n",
       "      <td>NaN</td>\n",
       "      <td>NaN</td>\n",
       "      <td>1.625660e+07</td>\n",
       "      <td>10.000000</td>\n",
       "    </tr>\n",
       "  </tbody>\n",
       "</table>\n",
       "<p>11 rows × 114 columns</p>\n",
       "</div>"
      ],
      "text/plain": [
       "          ResponseId                      MainBranch              Age  \\\n",
       "count   65437.000000                           65437            65437   \n",
       "unique           NaN                               5                8   \n",
       "top              NaN  I am a developer by profession  25-34 years old   \n",
       "freq             NaN                           50207            23911   \n",
       "mean    32719.000000                             NaN              NaN   \n",
       "std     18890.179119                             NaN              NaN   \n",
       "min         1.000000                             NaN              NaN   \n",
       "25%     16360.000000                             NaN              NaN   \n",
       "50%     32719.000000                             NaN              NaN   \n",
       "75%     49078.000000                             NaN              NaN   \n",
       "max     65437.000000                             NaN              NaN   \n",
       "\n",
       "                 Employment                            RemoteWork   Check  \\\n",
       "count                 65437                                 54806   65437   \n",
       "unique                  110                                     3       1   \n",
       "top     Employed, full-time  Hybrid (some remote, some in-person)  Apples   \n",
       "freq                  39041                                 23015   65437   \n",
       "mean                    NaN                                   NaN     NaN   \n",
       "std                     NaN                                   NaN     NaN   \n",
       "min                     NaN                                   NaN     NaN   \n",
       "25%                     NaN                                   NaN     NaN   \n",
       "50%                     NaN                                   NaN     NaN   \n",
       "75%                     NaN                                   NaN     NaN   \n",
       "max                     NaN                                   NaN     NaN   \n",
       "\n",
       "       CodingActivities                                       EdLevel  \\\n",
       "count             54466                                         60784   \n",
       "unique              118                                             8   \n",
       "top               Hobby  Bachelor’s degree (B.A., B.S., B.Eng., etc.)   \n",
       "freq               9993                                         24942   \n",
       "mean                NaN                                           NaN   \n",
       "std                 NaN                                           NaN   \n",
       "min                 NaN                                           NaN   \n",
       "25%                 NaN                                           NaN   \n",
       "50%                 NaN                                           NaN   \n",
       "75%                 NaN                                           NaN   \n",
       "max                 NaN                                           NaN   \n",
       "\n",
       "                                                LearnCode  \\\n",
       "count                                               60488   \n",
       "unique                                                418   \n",
       "top     Other online resources (e.g., videos, blogs, f...   \n",
       "freq                                                 3674   \n",
       "mean                                                  NaN   \n",
       "std                                                   NaN   \n",
       "min                                                   NaN   \n",
       "25%                                                   NaN   \n",
       "50%                                                   NaN   \n",
       "75%                                                   NaN   \n",
       "max                                                   NaN   \n",
       "\n",
       "                                          LearnCodeOnline  ... JobSatPoints_6  \\\n",
       "count                                               49237  ...   29450.000000   \n",
       "unique                                              10853  ...            NaN   \n",
       "top     Technical documentation;Blogs;Written Tutorial...  ...            NaN   \n",
       "freq                                                  603  ...            NaN   \n",
       "mean                                                  NaN  ...      24.343232   \n",
       "std                                                   NaN  ...      27.089360   \n",
       "min                                                   NaN  ...       0.000000   \n",
       "25%                                                   NaN  ...       0.000000   \n",
       "50%                                                   NaN  ...      20.000000   \n",
       "75%                                                   NaN  ...      30.000000   \n",
       "max                                                   NaN  ...     100.000000   \n",
       "\n",
       "       JobSatPoints_7 JobSatPoints_8 JobSatPoints_9 JobSatPoints_10  \\\n",
       "count     29448.00000   29456.000000   29456.000000    29450.000000   \n",
       "unique            NaN            NaN            NaN             NaN   \n",
       "top               NaN            NaN            NaN             NaN   \n",
       "freq              NaN            NaN            NaN             NaN   \n",
       "mean         22.96522      20.278165      16.169432       10.955713   \n",
       "std          27.01774      26.108110      24.845032       22.906263   \n",
       "min           0.00000       0.000000       0.000000        0.000000   \n",
       "25%           0.00000       0.000000       0.000000        0.000000   \n",
       "50%          15.00000      10.000000       5.000000        0.000000   \n",
       "75%          30.00000      25.000000      20.000000       10.000000   \n",
       "max         100.00000     100.000000     100.000000      100.000000   \n",
       "\n",
       "       JobSatPoints_11           SurveyLength SurveyEase ConvertedCompYearly  \\\n",
       "count     29445.000000                  56182      56238        2.343500e+04   \n",
       "unique             NaN                      3          3                 NaN   \n",
       "top                NaN  Appropriate in length       Easy                 NaN   \n",
       "freq               NaN                  38767      30071                 NaN   \n",
       "mean          9.953948                    NaN        NaN        8.615529e+04   \n",
       "std          21.775652                    NaN        NaN        1.867570e+05   \n",
       "min           0.000000                    NaN        NaN        1.000000e+00   \n",
       "25%           0.000000                    NaN        NaN        3.271200e+04   \n",
       "50%           0.000000                    NaN        NaN        6.500000e+04   \n",
       "75%          10.000000                    NaN        NaN        1.079715e+05   \n",
       "max         100.000000                    NaN        NaN        1.625660e+07   \n",
       "\n",
       "              JobSat  \n",
       "count   29126.000000  \n",
       "unique           NaN  \n",
       "top              NaN  \n",
       "freq             NaN  \n",
       "mean        6.935041  \n",
       "std         2.088259  \n",
       "min         0.000000  \n",
       "25%         6.000000  \n",
       "50%         7.000000  \n",
       "75%         8.000000  \n",
       "max        10.000000  \n",
       "\n",
       "[11 rows x 114 columns]"
      ]
     },
     "execution_count": 6,
     "metadata": {},
     "output_type": "execute_result"
    }
   ],
   "source": [
    "df.describe(include='all')"
   ]
  },
  {
   "cell_type": "code",
   "execution_count": 7,
   "metadata": {},
   "outputs": [
    {
     "data": {
      "text/html": [
       "<div>\n",
       "<style scoped>\n",
       "    .dataframe tbody tr th:only-of-type {\n",
       "        vertical-align: middle;\n",
       "    }\n",
       "\n",
       "    .dataframe tbody tr th {\n",
       "        vertical-align: top;\n",
       "    }\n",
       "\n",
       "    .dataframe thead th {\n",
       "        text-align: right;\n",
       "    }\n",
       "</style>\n",
       "<table border=\"1\" class=\"dataframe\">\n",
       "  <thead>\n",
       "    <tr style=\"text-align: right;\">\n",
       "      <th></th>\n",
       "      <th>Column</th>\n",
       "      <th>Data Type</th>\n",
       "      <th>Unique Values</th>\n",
       "      <th>Non-Null Values</th>\n",
       "      <th>Duplicate Values</th>\n",
       "      <th>Missing Values</th>\n",
       "      <th>% Missing</th>\n",
       "      <th>Is Constant</th>\n",
       "      <th>Values</th>\n",
       "    </tr>\n",
       "  </thead>\n",
       "  <tbody>\n",
       "    <tr>\n",
       "      <th>0</th>\n",
       "      <td>ResponseId</td>\n",
       "      <td>int64</td>\n",
       "      <td>65437</td>\n",
       "      <td>65437</td>\n",
       "      <td>0</td>\n",
       "      <td>0</td>\n",
       "      <td>0.00</td>\n",
       "      <td>False</td>\n",
       "      <td>[1, 2, 3, 4, 5, 6, 7, 8, 9, 10, 11, 12, 13, 14...</td>\n",
       "    </tr>\n",
       "    <tr>\n",
       "      <th>1</th>\n",
       "      <td>LanguageHaveWorkedWith</td>\n",
       "      <td>object</td>\n",
       "      <td>23864</td>\n",
       "      <td>59745</td>\n",
       "      <td>41572</td>\n",
       "      <td>5692</td>\n",
       "      <td>8.70</td>\n",
       "      <td>False</td>\n",
       "      <td>[Bash/Shell (all shells);Go;HTML/CSS;Java;Java...</td>\n",
       "    </tr>\n",
       "    <tr>\n",
       "      <th>2</th>\n",
       "      <td>LanguageWantToWorkWith</td>\n",
       "      <td>object</td>\n",
       "      <td>22769</td>\n",
       "      <td>55752</td>\n",
       "      <td>42667</td>\n",
       "      <td>9685</td>\n",
       "      <td>14.80</td>\n",
       "      <td>False</td>\n",
       "      <td>[Bash/Shell (all shells);Go;HTML/CSS;Java;Java...</td>\n",
       "    </tr>\n",
       "    <tr>\n",
       "      <th>3</th>\n",
       "      <td>ToolsTechHaveWorkedWith</td>\n",
       "      <td>object</td>\n",
       "      <td>19883</td>\n",
       "      <td>52482</td>\n",
       "      <td>45553</td>\n",
       "      <td>12955</td>\n",
       "      <td>19.80</td>\n",
       "      <td>False</td>\n",
       "      <td>[Docker;Homebrew;Kubernetes;npm;Vite;Webpack, ...</td>\n",
       "    </tr>\n",
       "    <tr>\n",
       "      <th>4</th>\n",
       "      <td>ToolsTechWantToWorkWith</td>\n",
       "      <td>object</td>\n",
       "      <td>16549</td>\n",
       "      <td>46084</td>\n",
       "      <td>48887</td>\n",
       "      <td>19353</td>\n",
       "      <td>29.58</td>\n",
       "      <td>False</td>\n",
       "      <td>[Docker;Homebrew;Kubernetes;npm;Vite;Webpack, ...</td>\n",
       "    </tr>\n",
       "    <tr>\n",
       "      <th>...</th>\n",
       "      <td>...</td>\n",
       "      <td>...</td>\n",
       "      <td>...</td>\n",
       "      <td>...</td>\n",
       "      <td>...</td>\n",
       "      <td>...</td>\n",
       "      <td>...</td>\n",
       "      <td>...</td>\n",
       "      <td>...</td>\n",
       "    </tr>\n",
       "    <tr>\n",
       "      <th>109</th>\n",
       "      <td>AISelect</td>\n",
       "      <td>object</td>\n",
       "      <td>3</td>\n",
       "      <td>60907</td>\n",
       "      <td>65433</td>\n",
       "      <td>4530</td>\n",
       "      <td>6.92</td>\n",
       "      <td>False</td>\n",
       "      <td>[Yes, No, and I don't plan to, No, but I plan ...</td>\n",
       "    </tr>\n",
       "    <tr>\n",
       "      <th>110</th>\n",
       "      <td>SurveyLength</td>\n",
       "      <td>object</td>\n",
       "      <td>3</td>\n",
       "      <td>56182</td>\n",
       "      <td>65433</td>\n",
       "      <td>9255</td>\n",
       "      <td>14.14</td>\n",
       "      <td>False</td>\n",
       "      <td>[Appropriate in length, Too long, Too short]</td>\n",
       "    </tr>\n",
       "    <tr>\n",
       "      <th>111</th>\n",
       "      <td>ICorPM</td>\n",
       "      <td>object</td>\n",
       "      <td>2</td>\n",
       "      <td>29801</td>\n",
       "      <td>65434</td>\n",
       "      <td>35636</td>\n",
       "      <td>54.46</td>\n",
       "      <td>False</td>\n",
       "      <td>[Individual contributor, People manager]</td>\n",
       "    </tr>\n",
       "    <tr>\n",
       "      <th>112</th>\n",
       "      <td>TBranch</td>\n",
       "      <td>object</td>\n",
       "      <td>2</td>\n",
       "      <td>44477</td>\n",
       "      <td>65434</td>\n",
       "      <td>20960</td>\n",
       "      <td>32.03</td>\n",
       "      <td>False</td>\n",
       "      <td>[No, Yes]</td>\n",
       "    </tr>\n",
       "    <tr>\n",
       "      <th>113</th>\n",
       "      <td>Check</td>\n",
       "      <td>object</td>\n",
       "      <td>1</td>\n",
       "      <td>65437</td>\n",
       "      <td>65436</td>\n",
       "      <td>0</td>\n",
       "      <td>0.00</td>\n",
       "      <td>True</td>\n",
       "      <td>[Apples]</td>\n",
       "    </tr>\n",
       "  </tbody>\n",
       "</table>\n",
       "<p>114 rows × 9 columns</p>\n",
       "</div>"
      ],
      "text/plain": [
       "                      Column Data Type  Unique Values  Non-Null Values  \\\n",
       "0                 ResponseId     int64          65437            65437   \n",
       "1     LanguageHaveWorkedWith    object          23864            59745   \n",
       "2     LanguageWantToWorkWith    object          22769            55752   \n",
       "3    ToolsTechHaveWorkedWith    object          19883            52482   \n",
       "4    ToolsTechWantToWorkWith    object          16549            46084   \n",
       "..                       ...       ...            ...              ...   \n",
       "109                 AISelect    object              3            60907   \n",
       "110             SurveyLength    object              3            56182   \n",
       "111                   ICorPM    object              2            29801   \n",
       "112                  TBranch    object              2            44477   \n",
       "113                    Check    object              1            65437   \n",
       "\n",
       "     Duplicate Values  Missing Values  % Missing  Is Constant  \\\n",
       "0                   0               0       0.00        False   \n",
       "1               41572            5692       8.70        False   \n",
       "2               42667            9685      14.80        False   \n",
       "3               45553           12955      19.80        False   \n",
       "4               48887           19353      29.58        False   \n",
       "..                ...             ...        ...          ...   \n",
       "109             65433            4530       6.92        False   \n",
       "110             65433            9255      14.14        False   \n",
       "111             65434           35636      54.46        False   \n",
       "112             65434           20960      32.03        False   \n",
       "113             65436               0       0.00         True   \n",
       "\n",
       "                                                Values  \n",
       "0    [1, 2, 3, 4, 5, 6, 7, 8, 9, 10, 11, 12, 13, 14...  \n",
       "1    [Bash/Shell (all shells);Go;HTML/CSS;Java;Java...  \n",
       "2    [Bash/Shell (all shells);Go;HTML/CSS;Java;Java...  \n",
       "3    [Docker;Homebrew;Kubernetes;npm;Vite;Webpack, ...  \n",
       "4    [Docker;Homebrew;Kubernetes;npm;Vite;Webpack, ...  \n",
       "..                                                 ...  \n",
       "109  [Yes, No, and I don't plan to, No, but I plan ...  \n",
       "110       [Appropriate in length, Too long, Too short]  \n",
       "111           [Individual contributor, People manager]  \n",
       "112                                          [No, Yes]  \n",
       "113                                           [Apples]  \n",
       "\n",
       "[114 rows x 9 columns]"
      ]
     },
     "execution_count": 7,
     "metadata": {},
     "output_type": "execute_result"
    }
   ],
   "source": [
    "summary = pd.DataFrame({\n",
    "    'Column': df.columns,\n",
    "    'Data Type': df.dtypes.values,\n",
    "    'Unique Values': df.nunique().values,\n",
    "    'Non-Null Values': df.notnull().sum().values,\n",
    "    'Duplicate Values': [df.duplicated(subset=[col]).sum() for col in df.columns],\n",
    "    'Missing Values': df.isnull().sum().values,\n",
    "    '% Missing': (df.isnull().mean() * 100).round(2).values,\n",
    "    'Is Constant' : (df.nunique() == 1).values,\n",
    "    'Values' : [df[col].dropna().unique().tolist() for col in df.columns]\n",
    "})\n",
    "summary = summary.sort_values('Unique Values', ascending=False).reset_index(drop=True)\n",
    "pd.DataFrame(summary)"
   ]
  },
  {
   "cell_type": "markdown",
   "metadata": {},
   "source": [
    "### 3. Identifying and Removing Inconsistencies\n"
   ]
  },
  {
   "cell_type": "markdown",
   "metadata": {},
   "source": [
    "<h5>3.1 Identify inconsistent or irrelevant entries in specific columns (e.g., Country).</h5>\n"
   ]
  },
  {
   "cell_type": "code",
   "execution_count": 8,
   "metadata": {},
   "outputs": [
    {
     "name": "stdout",
     "output_type": "stream",
     "text": [
      "['United States of America'\n",
      " 'United Kingdom of Great Britain and Northern Ireland' 'Canada' 'Norway'\n",
      " 'Uzbekistan' 'Serbia' 'Poland' 'Philippines' 'Bulgaria' 'Switzerland'\n",
      " 'India' 'Germany' 'Ireland' 'Italy' 'Ukraine' 'Australia' 'Brazil'\n",
      " 'Japan' 'Austria' 'Iran, Islamic Republic of...' 'France' 'Saudi Arabia'\n",
      " 'Romania' 'Turkey' 'Nepal' 'Algeria' 'Sweden' 'Netherlands' 'Croatia'\n",
      " 'Pakistan' 'Czech Republic' 'Republic of North Macedonia' 'Finland'\n",
      " 'Slovakia' 'Russian Federation' 'Greece' 'Israel' 'Belgium' 'Mexico'\n",
      " 'United Republic of Tanzania' 'Hungary' 'Argentina' 'Portugal'\n",
      " 'Sri Lanka' 'Latvia' 'China' 'Singapore' 'Lebanon' 'Spain' 'South Africa'\n",
      " 'Lithuania' 'Viet Nam' 'Dominican Republic' 'Indonesia' 'Kosovo'\n",
      " 'Morocco' 'Taiwan' 'Georgia' 'San Marino' 'Tunisia' 'Bangladesh'\n",
      " 'Nigeria' 'Liechtenstein' 'Denmark' 'Ecuador' 'Malaysia' 'Albania'\n",
      " 'Azerbaijan' 'Chile' 'Ghana' 'Peru' 'Bolivia' 'Egypt' 'Luxembourg'\n",
      " 'Montenegro' 'Cyprus' 'Paraguay' 'Kazakhstan' 'Slovenia' 'Jordan'\n",
      " 'Venezuela, Bolivarian Republic of...' 'Costa Rica' 'Jamaica' 'Thailand'\n",
      " 'Nicaragua' 'Myanmar' 'Republic of Korea' 'Rwanda'\n",
      " 'Bosnia and Herzegovina' 'Benin' 'El Salvador' 'Zimbabwe' 'Afghanistan'\n",
      " 'Estonia' 'Malta' 'Uruguay' 'Belarus' 'Colombia' 'Republic of Moldova'\n",
      " 'Isle of Man' 'Nomadic' 'New Zealand' 'Palestine' 'Armenia'\n",
      " 'United Arab Emirates' 'Maldives' 'Ethiopia' 'Fiji' 'Guatemala' 'Uganda'\n",
      " 'Turkmenistan' 'Mauritius' 'Kenya' 'Cuba' 'Gabon' 'Bahamas' 'South Korea'\n",
      " 'Iceland' 'Honduras' 'Hong Kong (S.A.R.)'\n",
      " \"Lao People's Democratic Republic\" 'Mongolia' 'Cambodia' 'Madagascar'\n",
      " 'Angola' 'Democratic Republic of the Congo' 'Syrian Arab Republic' 'Iraq'\n",
      " 'Namibia' 'Senegal' 'Kyrgyzstan' 'Zambia' 'Swaziland' \"Côte d'Ivoire\"\n",
      " 'Kuwait' 'Tajikistan' 'Burundi' 'Trinidad and Tobago' 'Mauritania'\n",
      " 'Sierra Leone' 'Panama' 'Somalia' 'North Korea' 'Dominica' 'Guyana'\n",
      " 'Togo' 'Oman' 'Barbados' 'Andorra'\n",
      " \"Democratic People's Republic of Korea\" 'Qatar' 'Sudan' 'Cameroon'\n",
      " 'Papua New Guinea' 'Bahrain' 'Yemen' 'Malawi' 'Burkina Faso'\n",
      " 'Congo, Republic of the...' 'Botswana' 'Guinea-Bissau' 'Mozambique'\n",
      " 'Central African Republic' 'Equatorial Guinea' 'Suriname' 'Belize'\n",
      " 'Libyan Arab Jamahiriya' 'Cape Verde' 'Brunei Darussalam' 'Bhutan'\n",
      " 'Guinea' 'Niger' 'Antigua and Barbuda' 'Mali' 'Samoa' 'Lesotho'\n",
      " 'Saint Kitts and Nevis' 'Monaco' 'Micronesia, Federated States of...'\n",
      " 'Haiti' nan 'Nauru' 'Liberia' 'Chad' 'Djibouti' 'Solomon Islands']\n",
      "['Primary/elementary school'\n",
      " 'Bachelor’s degree (B.A., B.S., B.Eng., etc.)'\n",
      " 'Master’s degree (M.A., M.S., M.Eng., MBA, etc.)'\n",
      " 'Some college/university study without earning a degree'\n",
      " 'Secondary school (e.g. American high school, German Realschule or Gymnasium, etc.)'\n",
      " 'Professional degree (JD, MD, Ph.D, Ed.D, etc.)'\n",
      " 'Associate degree (A.A., A.S., etc.)' 'Something else' nan]\n"
     ]
    }
   ],
   "source": [
    "# Manually scan values\n",
    "print(df['Country'].unique())\n",
    "print(df['EdLevel'].unique())"
   ]
  },
  {
   "cell_type": "code",
   "execution_count": 9,
   "metadata": {},
   "outputs": [
    {
     "name": "stdout",
     "output_type": "stream",
     "text": [
      "['United States of America', 'United Kingdom of Great Britain and Northern Ireland', 'Iran, Islamic Republic of...', 'Republic of North Macedonia', 'United Republic of Tanzania', 'Venezuela, Bolivarian Republic of...', 'Bosnia and Herzegovina', 'Hong Kong (S.A.R.)', \"Lao People's Democratic Republic\", 'Democratic Republic of the Congo', \"Côte d'Ivoire\", \"Democratic People's Republic of Korea\", 'Congo, Republic of the...', 'Guinea-Bissau', 'Central African Republic', 'Libyan Arab Jamahiriya', 'Saint Kitts and Nevis', 'Micronesia, Federated States of...']\n"
     ]
    }
   ],
   "source": [
    "# Check for weird values (too short/long or non-letter)\n",
    "weird_countries = df['Country'].dropna().unique()\n",
    "weird_countries = [c for c in weird_countries if\n",
    "                   len(str(c)) < 3\n",
    "                   or len(str(c)) > 20\n",
    "                   or not str(c).replace(' ', '').isalpha()] # remove space, look for non-letter\n",
    "print(weird_countries)"
   ]
  },
  {
   "cell_type": "code",
   "execution_count": 10,
   "metadata": {},
   "outputs": [
    {
     "name": "stdout",
     "output_type": "stream",
     "text": [
      "['Primary/elementary school', 'Bachelor’s degree (B.A., B.S., B.Eng., etc.)', 'Master’s degree (M.A., M.S., M.Eng., MBA, etc.)', 'Some college/university study without earning a degree', 'Secondary school (e.g. American high school, German Realschule or Gymnasium, etc.)', 'Professional degree (JD, MD, Ph.D, Ed.D, etc.)', 'Associate degree (A.A., A.S., etc.)', 'Something else']\n"
     ]
    }
   ],
   "source": [
    "# Check for weird values (too short/long or non-letter)\n",
    "weird_edlevel = df['EdLevel'].dropna().unique()\n",
    "weird_edlevel = [c for c in weird_edlevel if\n",
    "                   len(str(c)) < 3\n",
    "                   or len(str(c)) > 10\n",
    "                   or not str(c).replace(' ', '').isalpha()] # remove space, look for non-letter\n",
    "print(weird_edlevel)"
   ]
  },
  {
   "cell_type": "markdown",
   "metadata": {},
   "source": [
    "<h5>3.2 Standardize entries in columns like Country or EdLevel by mapping inconsistent values to a consistent format.</h5>\n"
   ]
  },
  {
   "cell_type": "code",
   "execution_count": 11,
   "metadata": {},
   "outputs": [],
   "source": [
    "# Country mapping\n",
    "country_mapping = {\n",
    "    'United States of America': 'USA',\n",
    "    'United Kingdom of Great Britain and Northern Ireland': 'UK',\n",
    "    'Iran, Islamic Republic of...': 'Iran',\n",
    "    'Republic of North Macedonia': 'North Macedonia',\n",
    "    'United Republic of Tanzania': 'Tanzania',\n",
    "    'Venezuela, Bolivarian Republic of...': 'Venezuela',\n",
    "    'Bosnia and Herzegovina': 'Bosnia',\n",
    "    'Hong Kong (S.A.R.)': 'Hong Kong',\n",
    "    \"Lao People's Democratic Republic\": 'Laos',\n",
    "    'Democratic Republic of the Congo': 'DR Congo',\n",
    "    \"Côte d'Ivoire\": \"Ivory Coast\",\n",
    "    \"Democratic People's Republic of Korea\": 'North Korea',\n",
    "    'Congo, Republic of the...': 'Republic of Congo',\n",
    "    'Guinea-Bissau': 'Guinea-Bissau',\n",
    "    'Central African Republic': 'CAR',\n",
    "    'Libyan Arab Jamahiriya': 'Libya',\n",
    "    'Saint Kitts and Nevis': 'St. Kitts & Nevis',\n",
    "    'Micronesia, Federated States of...': 'Micronesia'\n",
    "}\n",
    "\n",
    "df['Country'] = df['Country'].replace(country_mapping)"
   ]
  },
  {
   "cell_type": "code",
   "execution_count": 12,
   "metadata": {},
   "outputs": [],
   "source": [
    "# Education Level mapping\n",
    "edlevel_mapping = {\n",
    "    'Primary/elementary school': 'Primary School',\n",
    "    'Secondary school (e.g. American high school, German Realschule or Gymnasium, etc.)': 'High School',\n",
    "    'Some college/university study without earning a degree': 'Some College',\n",
    "    'Associate degree (A.A., A.S., etc.)': 'Associate Degree',\n",
    "    'Bachelor’s degree (B.A., B.S., B.Eng., etc.)': 'Bachelor’s Degree',\n",
    "    'Master’s degree (M.A., M.S., M.Eng., MBA, etc.)': 'Master’s Degree',\n",
    "    'Professional degree (JD, MD, Ph.D, Ed.D, etc.)': 'Doctorate or Professional Degree',\n",
    "    'Something else': 'Other'\n",
    "}\n",
    "\n",
    "df['EdLevel'] = df['EdLevel'].replace(edlevel_mapping)"
   ]
  },
  {
   "cell_type": "code",
   "execution_count": 13,
   "metadata": {},
   "outputs": [
    {
     "name": "stdout",
     "output_type": "stream",
     "text": [
      "['USA' 'UK' 'Canada' 'Norway' 'Uzbekistan' 'Serbia' 'Poland' 'Philippines'\n",
      " 'Bulgaria' 'Switzerland' 'India' 'Germany' 'Ireland' 'Italy' 'Ukraine'\n",
      " 'Australia' 'Brazil' 'Japan' 'Austria' 'Iran' 'France' 'Saudi Arabia'\n",
      " 'Romania' 'Turkey' 'Nepal' 'Algeria' 'Sweden' 'Netherlands' 'Croatia'\n",
      " 'Pakistan' 'Czech Republic' 'North Macedonia' 'Finland' 'Slovakia'\n",
      " 'Russian Federation' 'Greece' 'Israel' 'Belgium' 'Mexico' 'Tanzania'\n",
      " 'Hungary' 'Argentina' 'Portugal' 'Sri Lanka' 'Latvia' 'China' 'Singapore'\n",
      " 'Lebanon' 'Spain' 'South Africa' 'Lithuania' 'Viet Nam'\n",
      " 'Dominican Republic' 'Indonesia' 'Kosovo' 'Morocco' 'Taiwan' 'Georgia'\n",
      " 'San Marino' 'Tunisia' 'Bangladesh' 'Nigeria' 'Liechtenstein' 'Denmark'\n",
      " 'Ecuador' 'Malaysia' 'Albania' 'Azerbaijan' 'Chile' 'Ghana' 'Peru'\n",
      " 'Bolivia' 'Egypt' 'Luxembourg' 'Montenegro' 'Cyprus' 'Paraguay'\n",
      " 'Kazakhstan' 'Slovenia' 'Jordan' 'Venezuela' 'Costa Rica' 'Jamaica'\n",
      " 'Thailand' 'Nicaragua' 'Myanmar' 'Republic of Korea' 'Rwanda' 'Bosnia'\n",
      " 'Benin' 'El Salvador' 'Zimbabwe' 'Afghanistan' 'Estonia' 'Malta'\n",
      " 'Uruguay' 'Belarus' 'Colombia' 'Republic of Moldova' 'Isle of Man'\n",
      " 'Nomadic' 'New Zealand' 'Palestine' 'Armenia' 'United Arab Emirates'\n",
      " 'Maldives' 'Ethiopia' 'Fiji' 'Guatemala' 'Uganda' 'Turkmenistan'\n",
      " 'Mauritius' 'Kenya' 'Cuba' 'Gabon' 'Bahamas' 'South Korea' 'Iceland'\n",
      " 'Honduras' 'Hong Kong' 'Laos' 'Mongolia' 'Cambodia' 'Madagascar' 'Angola'\n",
      " 'DR Congo' 'Syrian Arab Republic' 'Iraq' 'Namibia' 'Senegal' 'Kyrgyzstan'\n",
      " 'Zambia' 'Swaziland' 'Ivory Coast' 'Kuwait' 'Tajikistan' 'Burundi'\n",
      " 'Trinidad and Tobago' 'Mauritania' 'Sierra Leone' 'Panama' 'Somalia'\n",
      " 'North Korea' 'Dominica' 'Guyana' 'Togo' 'Oman' 'Barbados' 'Andorra'\n",
      " 'Qatar' 'Sudan' 'Cameroon' 'Papua New Guinea' 'Bahrain' 'Yemen' 'Malawi'\n",
      " 'Burkina Faso' 'Republic of Congo' 'Botswana' 'Guinea-Bissau'\n",
      " 'Mozambique' 'CAR' 'Equatorial Guinea' 'Suriname' 'Belize' 'Libya'\n",
      " 'Cape Verde' 'Brunei Darussalam' 'Bhutan' 'Guinea' 'Niger'\n",
      " 'Antigua and Barbuda' 'Mali' 'Samoa' 'Lesotho' 'St. Kitts & Nevis'\n",
      " 'Monaco' 'Micronesia' 'Haiti' nan 'Nauru' 'Liberia' 'Chad' 'Djibouti'\n",
      " 'Solomon Islands']\n",
      "['Primary School' 'Bachelor’s Degree' 'Master’s Degree' 'Some College'\n",
      " 'High School' 'Doctorate or Professional Degree' 'Associate Degree'\n",
      " 'Other' nan]\n"
     ]
    }
   ],
   "source": [
    "# Verify\n",
    "print(df['Country'].unique())\n",
    "print(df['EdLevel'].unique())"
   ]
  },
  {
   "cell_type": "markdown",
   "metadata": {},
   "source": [
    "### 4. Encoding Categorical Variables (One-Hot Encoding)\n"
   ]
  },
  {
   "cell_type": "markdown",
   "metadata": {},
   "source": [
    "<h5>4.1 Encode the Employment column using one-hot encoding.</h5>\n"
   ]
  },
  {
   "cell_type": "code",
   "execution_count": 14,
   "metadata": {},
   "outputs": [
    {
     "name": "stdout",
     "output_type": "stream",
     "text": [
      "['Employed, full-time' 'Student, full-time'\n",
      " 'Student, full-time;Not employed, but looking for work'\n",
      " 'Independent contractor, freelancer, or self-employed'\n",
      " 'Not employed, and not looking for work'\n",
      " 'Employed, full-time;Student, part-time'\n",
      " 'Employed, full-time;Independent contractor, freelancer, or self-employed'\n",
      " 'Employed, full-time;Student, full-time' 'Employed, part-time'\n",
      " 'Student, full-time;Employed, part-time'\n",
      " 'Student, part-time;Employed, part-time' 'I prefer not to say'\n",
      " 'Not employed, but looking for work' 'Student, part-time'\n",
      " 'Employed, full-time;Student, full-time;Independent contractor, freelancer, or self-employed;Employed, part-time'\n",
      " 'Employed, full-time;Independent contractor, freelancer, or self-employed;Student, part-time'\n",
      " 'Independent contractor, freelancer, or self-employed;Employed, part-time'\n",
      " 'Independent contractor, freelancer, or self-employed;Student, part-time;Employed, part-time'\n",
      " 'Student, full-time;Not employed, but looking for work;Independent contractor, freelancer, or self-employed'\n",
      " 'Student, full-time;Independent contractor, freelancer, or self-employed'\n",
      " 'Employed, full-time;Employed, part-time'\n",
      " 'Not employed, but looking for work;Independent contractor, freelancer, or self-employed'\n",
      " 'Student, full-time;Not employed, and not looking for work' 'Retired'\n",
      " 'Independent contractor, freelancer, or self-employed;Student, part-time'\n",
      " 'Employed, full-time;Independent contractor, freelancer, or self-employed;Employed, part-time'\n",
      " 'Not employed, but looking for work;Independent contractor, freelancer, or self-employed;Student, part-time'\n",
      " 'Not employed, but looking for work;Student, part-time'\n",
      " 'Not employed, but looking for work;Not employed, and not looking for work'\n",
      " 'Independent contractor, freelancer, or self-employed;Retired'\n",
      " 'Not employed, but looking for work;Student, part-time;Employed, part-time'\n",
      " 'Student, full-time;Not employed, but looking for work;Not employed, and not looking for work'\n",
      " 'Employed, full-time;Not employed, but looking for work'\n",
      " 'Student, full-time;Not employed, and not looking for work;Student, part-time'\n",
      " 'Employed, full-time;Retired'\n",
      " 'Employed, full-time;Independent contractor, freelancer, or self-employed;Student, part-time;Employed, part-time'\n",
      " 'Not employed, but looking for work;Independent contractor, freelancer, or self-employed;Not employed, and not looking for work'\n",
      " 'Not employed, but looking for work;Independent contractor, freelancer, or self-employed;Employed, part-time'\n",
      " 'Not employed, but looking for work;Employed, part-time'\n",
      " 'Employed, full-time;Student, full-time;Employed, part-time'\n",
      " 'Independent contractor, freelancer, or self-employed;Not employed, and not looking for work'\n",
      " 'Not employed, and not looking for work;Student, part-time'\n",
      " 'Student, full-time;Independent contractor, freelancer, or self-employed;Employed, part-time'\n",
      " 'Student, full-time;Student, part-time'\n",
      " 'Student, full-time;Not employed, but looking for work;Student, part-time'\n",
      " 'Independent contractor, freelancer, or self-employed;Not employed, and not looking for work;Retired'\n",
      " 'Employed, full-time;Independent contractor, freelancer, or self-employed;Not employed, and not looking for work'\n",
      " 'Employed, full-time;Student, full-time;Independent contractor, freelancer, or self-employed'\n",
      " 'Employed, full-time;Student, full-time;Student, part-time'\n",
      " 'Not employed, but looking for work;Retired'\n",
      " 'Employed, full-time;Student, full-time;Not employed, but looking for work'\n",
      " 'Not employed, and not looking for work;Retired'\n",
      " 'Not employed, but looking for work;Independent contractor, freelancer, or self-employed;Not employed, and not looking for work;Retired'\n",
      " 'Employed, full-time;Not employed, but looking for work;Employed, part-time'\n",
      " 'Student, full-time;Not employed, but looking for work;Independent contractor, freelancer, or self-employed;Student, part-time;Employed, part-time;Retired'\n",
      " 'Employed, full-time;Independent contractor, freelancer, or self-employed;Not employed, and not looking for work;Employed, part-time'\n",
      " 'Student, full-time;Independent contractor, freelancer, or self-employed;Not employed, and not looking for work'\n",
      " 'Employed, full-time;Student, full-time;Not employed, but looking for work;Independent contractor, freelancer, or self-employed;Not employed, and not looking for work;Student, part-time;Employed, part-time;Retired'\n",
      " 'Employed, full-time;Not employed, but looking for work;Independent contractor, freelancer, or self-employed'\n",
      " 'Independent contractor, freelancer, or self-employed;Not employed, and not looking for work;Student, part-time'\n",
      " 'Student, full-time;Not employed, but looking for work;Retired'\n",
      " 'Student, full-time;Not employed, but looking for work;Independent contractor, freelancer, or self-employed;Student, part-time'\n",
      " 'Student, part-time;Retired'\n",
      " 'Student, full-time;Not employed, but looking for work;Not employed, and not looking for work;Student, part-time'\n",
      " 'Employed, full-time;Student, full-time;Not employed, but looking for work;Independent contractor, freelancer, or self-employed;Student, part-time;Employed, part-time'\n",
      " 'Not employed, but looking for work;Independent contractor, freelancer, or self-employed;Retired'\n",
      " 'Employed, full-time;Student, full-time;Student, part-time;Employed, part-time'\n",
      " 'Not employed, but looking for work;Independent contractor, freelancer, or self-employed;Student, part-time;Employed, part-time'\n",
      " 'Student, full-time;Not employed, but looking for work;Employed, part-time'\n",
      " 'Employed, full-time;Independent contractor, freelancer, or self-employed;Not employed, and not looking for work;Student, part-time'\n",
      " 'Independent contractor, freelancer, or self-employed;Student, part-time;Retired'\n",
      " 'Student, full-time;Independent contractor, freelancer, or self-employed;Student, part-time;Employed, part-time'\n",
      " 'Employed, full-time;Independent contractor, freelancer, or self-employed;Student, part-time;Retired'\n",
      " 'Student, full-time;Not employed, but looking for work;Independent contractor, freelancer, or self-employed;Not employed, and not looking for work'\n",
      " 'Student, full-time;Not employed, but looking for work;Independent contractor, freelancer, or self-employed;Employed, part-time'\n",
      " 'Student, full-time;Independent contractor, freelancer, or self-employed;Student, part-time'\n",
      " 'Independent contractor, freelancer, or self-employed;Employed, part-time;Retired'\n",
      " 'Employed, full-time;Not employed, and not looking for work'\n",
      " 'Employed, full-time;Independent contractor, freelancer, or self-employed;Retired'\n",
      " 'Student, full-time;Student, part-time;Employed, part-time'\n",
      " 'Employed, part-time;Retired'\n",
      " 'Employed, full-time;Independent contractor, freelancer, or self-employed;Employed, part-time;Retired'\n",
      " 'Employed, full-time;Student, part-time;Employed, part-time'\n",
      " 'Employed, full-time;Student, full-time;Independent contractor, freelancer, or self-employed;Student, part-time;Employed, part-time;Retired'\n",
      " 'Student, full-time;Student, part-time;Retired'\n",
      " 'Student, full-time;Not employed, and not looking for work;Employed, part-time'\n",
      " 'Employed, full-time;Not employed, but looking for work;Independent contractor, freelancer, or self-employed;Employed, part-time'\n",
      " 'Not employed, but looking for work;Not employed, and not looking for work;Student, part-time;Employed, part-time'\n",
      " 'Independent contractor, freelancer, or self-employed;Not employed, and not looking for work;Employed, part-time'\n",
      " 'Employed, full-time;Not employed, but looking for work;Independent contractor, freelancer, or self-employed;Not employed, and not looking for work;Employed, part-time'\n",
      " 'Employed, full-time;Student, full-time;Not employed, but looking for work;Independent contractor, freelancer, or self-employed;Not employed, and not looking for work;Student, part-time;Employed, part-time'\n",
      " 'Employed, full-time;Student, full-time;Independent contractor, freelancer, or self-employed;Student, part-time;Employed, part-time'\n",
      " 'Not employed, and not looking for work;Employed, part-time'\n",
      " 'Employed, full-time;Student, full-time;Not employed, but looking for work;Student, part-time'\n",
      " 'Employed, full-time;Student, full-time;Not employed, but looking for work;Independent contractor, freelancer, or self-employed;Employed, part-time'\n",
      " 'Employed, full-time;Not employed, but looking for work;Not employed, and not looking for work;Employed, part-time'\n",
      " 'Student, full-time;Independent contractor, freelancer, or self-employed;Employed, part-time;Retired'\n",
      " 'Not employed, but looking for work;Student, part-time;Retired'\n",
      " 'Independent contractor, freelancer, or self-employed;Not employed, and not looking for work;Student, part-time;Retired'\n",
      " 'Employed, full-time;Student, full-time;Not employed, but looking for work;Independent contractor, freelancer, or self-employed'\n",
      " 'Not employed, but looking for work;Not employed, and not looking for work;Student, part-time'\n",
      " 'Employed, full-time;Student, full-time;Independent contractor, freelancer, or self-employed;Student, part-time;Retired'\n",
      " 'Employed, full-time;Student, full-time;Not employed, but looking for work;Student, part-time;Employed, part-time'\n",
      " 'Student, full-time;Not employed, but looking for work;Independent contractor, freelancer, or self-employed;Not employed, and not looking for work;Student, part-time'\n",
      " 'Employed, full-time;Student, full-time;Not employed, but looking for work;Independent contractor, freelancer, or self-employed;Student, part-time;Employed, part-time;Retired'\n",
      " 'Not employed, but looking for work;Independent contractor, freelancer, or self-employed;Not employed, and not looking for work;Employed, part-time'\n",
      " 'Student, full-time;Retired'\n",
      " 'Employed, full-time;Not employed, but looking for work;Student, part-time'\n",
      " 'Not employed, and not looking for work;Student, part-time;Employed, part-time'\n",
      " 'Not employed, but looking for work;Independent contractor, freelancer, or self-employed;Student, part-time;Retired']\n"
     ]
    }
   ],
   "source": [
    "print(df['Employment'].unique())"
   ]
  },
  {
   "cell_type": "code",
   "execution_count": 15,
   "metadata": {},
   "outputs": [
    {
     "data": {
      "text/html": [
       "<div>\n",
       "<style scoped>\n",
       "    .dataframe tbody tr th:only-of-type {\n",
       "        vertical-align: middle;\n",
       "    }\n",
       "\n",
       "    .dataframe tbody tr th {\n",
       "        vertical-align: top;\n",
       "    }\n",
       "\n",
       "    .dataframe thead th {\n",
       "        text-align: right;\n",
       "    }\n",
       "</style>\n",
       "<table border=\"1\" class=\"dataframe\">\n",
       "  <thead>\n",
       "    <tr style=\"text-align: right;\">\n",
       "      <th></th>\n",
       "      <th>Column</th>\n",
       "      <th>Unique Values</th>\n",
       "    </tr>\n",
       "  </thead>\n",
       "  <tbody>\n",
       "    <tr>\n",
       "      <th>113</th>\n",
       "      <td>Check</td>\n",
       "      <td>1</td>\n",
       "    </tr>\n",
       "    <tr>\n",
       "      <th>111</th>\n",
       "      <td>ICorPM</td>\n",
       "      <td>2</td>\n",
       "    </tr>\n",
       "    <tr>\n",
       "      <th>112</th>\n",
       "      <td>TBranch</td>\n",
       "      <td>2</td>\n",
       "    </tr>\n",
       "    <tr>\n",
       "      <th>105</th>\n",
       "      <td>RemoteWork</td>\n",
       "      <td>3</td>\n",
       "    </tr>\n",
       "    <tr>\n",
       "      <th>109</th>\n",
       "      <td>AISelect</td>\n",
       "      <td>3</td>\n",
       "    </tr>\n",
       "  </tbody>\n",
       "</table>\n",
       "</div>"
      ],
      "text/plain": [
       "         Column  Unique Values\n",
       "113       Check              1\n",
       "111      ICorPM              2\n",
       "112     TBranch              2\n",
       "105  RemoteWork              3\n",
       "109    AISelect              3"
      ]
     },
     "execution_count": 15,
     "metadata": {},
     "output_type": "execute_result"
    }
   ],
   "source": [
    "# Employment has too many unique values, let me find other fields!\n",
    "summary[['Column', 'Unique Values']].sort_values(by='Unique Values').head()"
   ]
  },
  {
   "cell_type": "code",
   "execution_count": 16,
   "metadata": {},
   "outputs": [
    {
     "name": "stdout",
     "output_type": "stream",
     "text": [
      "[nan 'Individual contributor' 'People manager']\n"
     ]
    }
   ],
   "source": [
    "print(df['ICorPM'].unique())"
   ]
  },
  {
   "cell_type": "code",
   "execution_count": 17,
   "metadata": {},
   "outputs": [
    {
     "data": {
      "text/html": [
       "<div>\n",
       "<style scoped>\n",
       "    .dataframe tbody tr th:only-of-type {\n",
       "        vertical-align: middle;\n",
       "    }\n",
       "\n",
       "    .dataframe tbody tr th {\n",
       "        vertical-align: top;\n",
       "    }\n",
       "\n",
       "    .dataframe thead th {\n",
       "        text-align: right;\n",
       "    }\n",
       "</style>\n",
       "<table border=\"1\" class=\"dataframe\">\n",
       "  <thead>\n",
       "    <tr style=\"text-align: right;\">\n",
       "      <th></th>\n",
       "      <th>ICorPM_Individual contributor</th>\n",
       "      <th>ICorPM_People manager</th>\n",
       "    </tr>\n",
       "  </thead>\n",
       "  <tbody>\n",
       "    <tr>\n",
       "      <th>0</th>\n",
       "      <td>False</td>\n",
       "      <td>False</td>\n",
       "    </tr>\n",
       "    <tr>\n",
       "      <th>1</th>\n",
       "      <td>True</td>\n",
       "      <td>False</td>\n",
       "    </tr>\n",
       "    <tr>\n",
       "      <th>2</th>\n",
       "      <td>False</td>\n",
       "      <td>False</td>\n",
       "    </tr>\n",
       "    <tr>\n",
       "      <th>3</th>\n",
       "      <td>False</td>\n",
       "      <td>False</td>\n",
       "    </tr>\n",
       "    <tr>\n",
       "      <th>4</th>\n",
       "      <td>False</td>\n",
       "      <td>False</td>\n",
       "    </tr>\n",
       "  </tbody>\n",
       "</table>\n",
       "</div>"
      ],
      "text/plain": [
       "   ICorPM_Individual contributor  ICorPM_People manager\n",
       "0                          False                  False\n",
       "1                           True                  False\n",
       "2                          False                  False\n",
       "3                          False                  False\n",
       "4                          False                  False"
      ]
     },
     "execution_count": 17,
     "metadata": {},
     "output_type": "execute_result"
    }
   ],
   "source": [
    "# One-hot encoding on ICorPM\n",
    "df_1hot = pd.get_dummies(df, columns=['ICorPM'])\n",
    "df_1hot = df_1hot.filter(like='ICorPM')\n",
    "df_1hot.head()"
   ]
  },
  {
   "cell_type": "markdown",
   "metadata": {},
   "source": [
    "### 5. Handling Missing Values\n"
   ]
  },
  {
   "cell_type": "markdown",
   "metadata": {},
   "source": [
    "<h5>5.1 Identify columns with the highest number of missing values.</h5>\n"
   ]
  },
  {
   "cell_type": "code",
   "execution_count": 18,
   "metadata": {},
   "outputs": [
    {
     "data": {
      "text/html": [
       "<div>\n",
       "<style scoped>\n",
       "    .dataframe tbody tr th:only-of-type {\n",
       "        vertical-align: middle;\n",
       "    }\n",
       "\n",
       "    .dataframe tbody tr th {\n",
       "        vertical-align: top;\n",
       "    }\n",
       "\n",
       "    .dataframe thead th {\n",
       "        text-align: right;\n",
       "    }\n",
       "</style>\n",
       "<table border=\"1\" class=\"dataframe\">\n",
       "  <thead>\n",
       "    <tr style=\"text-align: right;\">\n",
       "      <th></th>\n",
       "      <th>Column</th>\n",
       "      <th>Missing Values</th>\n",
       "    </tr>\n",
       "  </thead>\n",
       "  <tbody>\n",
       "    <tr>\n",
       "      <th>49</th>\n",
       "      <td>AINextMuch less integrated</td>\n",
       "      <td>64289</td>\n",
       "    </tr>\n",
       "    <tr>\n",
       "      <th>50</th>\n",
       "      <td>AINextLess integrated</td>\n",
       "      <td>63082</td>\n",
       "    </tr>\n",
       "    <tr>\n",
       "      <th>45</th>\n",
       "      <td>AINextNo change</td>\n",
       "      <td>52939</td>\n",
       "    </tr>\n",
       "    <tr>\n",
       "      <th>44</th>\n",
       "      <td>AINextMuch more integrated</td>\n",
       "      <td>51999</td>\n",
       "    </tr>\n",
       "    <tr>\n",
       "      <th>41</th>\n",
       "      <td>EmbeddedAdmired</td>\n",
       "      <td>48704</td>\n",
       "    </tr>\n",
       "  </tbody>\n",
       "</table>\n",
       "</div>"
      ],
      "text/plain": [
       "                        Column  Missing Values\n",
       "49  AINextMuch less integrated           64289\n",
       "50       AINextLess integrated           63082\n",
       "45             AINextNo change           52939\n",
       "44  AINextMuch more integrated           51999\n",
       "41             EmbeddedAdmired           48704"
      ]
     },
     "execution_count": 18,
     "metadata": {},
     "output_type": "execute_result"
    }
   ],
   "source": [
    "summary[['Column', 'Missing Values']].sort_values(by='Missing Values', ascending=False).head()"
   ]
  },
  {
   "cell_type": "markdown",
   "metadata": {},
   "source": [
    "<h5>5.2 Impute missing values in numerical columns (e.g., `ConvertedCompYearly`) with the mean or median.</h5>\n"
   ]
  },
  {
   "cell_type": "code",
   "execution_count": 19,
   "metadata": {},
   "outputs": [
    {
     "name": "stdout",
     "output_type": "stream",
     "text": [
      "Nulls before imputation: 42002\n",
      "Nulls before imputation: 0\n"
     ]
    }
   ],
   "source": [
    "print('Nulls before imputation:', df['ConvertedCompYearly'].isnull().sum())\n",
    "\n",
    "mean_ConvertedCompYearly = df['ConvertedCompYearly'].mean()\n",
    "df.fillna({'ConvertedCompYearly' : mean_ConvertedCompYearly}, inplace=True)\n",
    "\n",
    "print('Nulls before imputation:', df['ConvertedCompYearly'].isnull().sum())"
   ]
  },
  {
   "cell_type": "markdown",
   "metadata": {},
   "source": [
    "<h5>5.3 Impute missing values in categorical columns (e.g., `RemoteWork`) with the most frequent value.</h5>\n"
   ]
  },
  {
   "cell_type": "code",
   "execution_count": 20,
   "metadata": {},
   "outputs": [
    {
     "name": "stdout",
     "output_type": "stream",
     "text": [
      "Nulls before imputation: 10631\n",
      "Nulls before imputation: 0\n"
     ]
    }
   ],
   "source": [
    "print('Nulls before imputation:', df['RemoteWork'].isnull().sum())\n",
    "\n",
    "mode_RemoteWork = df['RemoteWork'].mode()[0]\n",
    "df.fillna({'RemoteWork' : mode_RemoteWork}, inplace=True)\n",
    "\n",
    "print('Nulls before imputation:', df['RemoteWork'].isnull().sum())"
   ]
  },
  {
   "cell_type": "markdown",
   "metadata": {},
   "source": [
    "### 6. Feature Scaling and Transformation\n"
   ]
  },
  {
   "cell_type": "markdown",
   "metadata": {},
   "source": [
    "<h5>6.1 Apply Min-Max Scaling to normalize the `ConvertedCompYearly` column.</h5>\n"
   ]
  },
  {
   "cell_type": "code",
   "execution_count": 21,
   "metadata": {},
   "outputs": [
    {
     "data": {
      "text/html": [
       "<div>\n",
       "<style scoped>\n",
       "    .dataframe tbody tr th:only-of-type {\n",
       "        vertical-align: middle;\n",
       "    }\n",
       "\n",
       "    .dataframe tbody tr th {\n",
       "        vertical-align: top;\n",
       "    }\n",
       "\n",
       "    .dataframe thead th {\n",
       "        text-align: right;\n",
       "    }\n",
       "</style>\n",
       "<table border=\"1\" class=\"dataframe\">\n",
       "  <thead>\n",
       "    <tr style=\"text-align: right;\">\n",
       "      <th></th>\n",
       "      <th>ConvertedCompYearly</th>\n",
       "      <th>ConvertedCompYearly_MinMax</th>\n",
       "    </tr>\n",
       "  </thead>\n",
       "  <tbody>\n",
       "    <tr>\n",
       "      <th>count</th>\n",
       "      <td>6.543700e+04</td>\n",
       "      <td>65437.000000</td>\n",
       "    </tr>\n",
       "    <tr>\n",
       "      <th>mean</th>\n",
       "      <td>8.615529e+04</td>\n",
       "      <td>0.005300</td>\n",
       "    </tr>\n",
       "    <tr>\n",
       "      <th>std</th>\n",
       "      <td>1.117614e+05</td>\n",
       "      <td>0.006875</td>\n",
       "    </tr>\n",
       "    <tr>\n",
       "      <th>min</th>\n",
       "      <td>1.000000e+00</td>\n",
       "      <td>0.000000</td>\n",
       "    </tr>\n",
       "    <tr>\n",
       "      <th>25%</th>\n",
       "      <td>8.615529e+04</td>\n",
       "      <td>0.005300</td>\n",
       "    </tr>\n",
       "    <tr>\n",
       "      <th>50%</th>\n",
       "      <td>8.615529e+04</td>\n",
       "      <td>0.005300</td>\n",
       "    </tr>\n",
       "    <tr>\n",
       "      <th>75%</th>\n",
       "      <td>8.615529e+04</td>\n",
       "      <td>0.005300</td>\n",
       "    </tr>\n",
       "    <tr>\n",
       "      <th>max</th>\n",
       "      <td>1.625660e+07</td>\n",
       "      <td>1.000000</td>\n",
       "    </tr>\n",
       "  </tbody>\n",
       "</table>\n",
       "</div>"
      ],
      "text/plain": [
       "       ConvertedCompYearly  ConvertedCompYearly_MinMax\n",
       "count         6.543700e+04                65437.000000\n",
       "mean          8.615529e+04                    0.005300\n",
       "std           1.117614e+05                    0.006875\n",
       "min           1.000000e+00                    0.000000\n",
       "25%           8.615529e+04                    0.005300\n",
       "50%           8.615529e+04                    0.005300\n",
       "75%           8.615529e+04                    0.005300\n",
       "max           1.625660e+07                    1.000000"
      ]
     },
     "execution_count": 21,
     "metadata": {},
     "output_type": "execute_result"
    }
   ],
   "source": [
    "x = df['ConvertedCompYearly']\n",
    "df['ConvertedCompYearly_MinMax'] = (x - x.min()) / (x.max() - x.min())\n",
    "df[['ConvertedCompYearly', 'ConvertedCompYearly_MinMax']].describe()"
   ]
  },
  {
   "cell_type": "code",
   "execution_count": 22,
   "metadata": {},
   "outputs": [
    {
     "data": {
      "text/plain": [
       "Text(0, 0.5, 'Frequency')"
      ]
     },
     "execution_count": 22,
     "metadata": {},
     "output_type": "execute_result"
    },
    {
     "data": {
      "image/png": "[encoded data removed]",
      "text/plain": [
       "<Figure size 700x700 with 1 Axes>"
      ]
     },
     "metadata": {},
     "output_type": "display_data"
    }
   ],
   "source": [
    "import matplotlib.pyplot as plt\n",
    "\n",
    "plt.figure(figsize=(7, 7))\n",
    "plt.hist(df['ConvertedCompYearly_MinMax'].dropna(), bins=500, color='mediumseagreen')\n",
    "plt.title('Normalized by Min-Max')\n",
    "plt.xlabel('Normalized Salary (0-1)')\n",
    "plt.ylabel('Frequency')"
   ]
  },
  {
   "cell_type": "markdown",
   "metadata": {},
   "source": [
    "<h5>6.2 Log-transform the ConvertedCompYearly column to reduce skewness.</h5>\n"
   ]
  },
  {
   "cell_type": "code",
   "execution_count": 23,
   "metadata": {},
   "outputs": [
    {
     "data": {
      "text/html": [
       "<div>\n",
       "<style scoped>\n",
       "    .dataframe tbody tr th:only-of-type {\n",
       "        vertical-align: middle;\n",
       "    }\n",
       "\n",
       "    .dataframe tbody tr th {\n",
       "        vertical-align: top;\n",
       "    }\n",
       "\n",
       "    .dataframe thead th {\n",
       "        text-align: right;\n",
       "    }\n",
       "</style>\n",
       "<table border=\"1\" class=\"dataframe\">\n",
       "  <thead>\n",
       "    <tr style=\"text-align: right;\">\n",
       "      <th></th>\n",
       "      <th>ConvertedCompYearly</th>\n",
       "      <th>ConvertedCompYearly_Log</th>\n",
       "    </tr>\n",
       "  </thead>\n",
       "  <tbody>\n",
       "    <tr>\n",
       "      <th>count</th>\n",
       "      <td>6.543700e+04</td>\n",
       "      <td>65437.000000</td>\n",
       "    </tr>\n",
       "    <tr>\n",
       "      <th>mean</th>\n",
       "      <td>8.615529e+04</td>\n",
       "      <td>11.156906</td>\n",
       "    </tr>\n",
       "    <tr>\n",
       "      <th>std</th>\n",
       "      <td>1.117614e+05</td>\n",
       "      <td>0.884085</td>\n",
       "    </tr>\n",
       "    <tr>\n",
       "      <th>min</th>\n",
       "      <td>1.000000e+00</td>\n",
       "      <td>0.693147</td>\n",
       "    </tr>\n",
       "    <tr>\n",
       "      <th>25%</th>\n",
       "      <td>8.615529e+04</td>\n",
       "      <td>11.363918</td>\n",
       "    </tr>\n",
       "    <tr>\n",
       "      <th>50%</th>\n",
       "      <td>8.615529e+04</td>\n",
       "      <td>11.363918</td>\n",
       "    </tr>\n",
       "    <tr>\n",
       "      <th>75%</th>\n",
       "      <td>8.615529e+04</td>\n",
       "      <td>11.363918</td>\n",
       "    </tr>\n",
       "    <tr>\n",
       "      <th>max</th>\n",
       "      <td>1.625660e+07</td>\n",
       "      <td>16.604010</td>\n",
       "    </tr>\n",
       "  </tbody>\n",
       "</table>\n",
       "</div>"
      ],
      "text/plain": [
       "       ConvertedCompYearly  ConvertedCompYearly_Log\n",
       "count         6.543700e+04             65437.000000\n",
       "mean          8.615529e+04                11.156906\n",
       "std           1.117614e+05                 0.884085\n",
       "min           1.000000e+00                 0.693147\n",
       "25%           8.615529e+04                11.363918\n",
       "50%           8.615529e+04                11.363918\n",
       "75%           8.615529e+04                11.363918\n",
       "max           1.625660e+07                16.604010"
      ]
     },
     "execution_count": 23,
     "metadata": {},
     "output_type": "execute_result"
    }
   ],
   "source": [
    "import numpy as np\n",
    "\n",
    "df['ConvertedCompYearly_Log'] = np.log1p(df['ConvertedCompYearly']) # add 1 to avoid log(0) errors\n",
    "df[['ConvertedCompYearly', 'ConvertedCompYearly_Log']].describe()"
   ]
  },
  {
   "cell_type": "code",
   "execution_count": 24,
   "metadata": {},
   "outputs": [
    {
     "data": {
      "text/plain": [
       "Text(0, 0.5, 'Frequency')"
      ]
     },
     "execution_count": 24,
     "metadata": {},
     "output_type": "execute_result"
    },
    {
     "data": {
      "image/png": "[encoded data removed]",
      "text/plain": [
       "<Figure size 700x700 with 1 Axes>"
      ]
     },
     "metadata": {},
     "output_type": "display_data"
    }
   ],
   "source": [
    "plt.figure(figsize=(7, 7))\n",
    "plt.hist(df['ConvertedCompYearly_Log'].dropna(), bins=500, color='mediumseagreen')\n",
    "plt.title('Log-Transformed')\n",
    "plt.xlabel('Log Salary')\n",
    "plt.ylabel('Frequency')"
   ]
  },
  {
   "cell_type": "markdown",
   "metadata": {},
   "source": [
    "### 7. Feature Engineering\n"
   ]
  },
  {
   "cell_type": "markdown",
   "metadata": {},
   "source": [
    "<h5>7.1 Create a new column `ExperienceLevel` based on the `YearsCodePro` column:</h5>\n"
   ]
  },
  {
   "cell_type": "code",
   "execution_count": 25,
   "metadata": {},
   "outputs": [
    {
     "data": {
      "text/plain": [
       "count     51610\n",
       "unique       52\n",
       "top           2\n",
       "freq       4168\n",
       "Name: YearsCodePro, dtype: object"
      ]
     },
     "execution_count": 25,
     "metadata": {},
     "output_type": "execute_result"
    }
   ],
   "source": [
    "df['YearsCodePro'].describe()"
   ]
  },
  {
   "cell_type": "code",
   "execution_count": 26,
   "metadata": {},
   "outputs": [
    {
     "data": {
      "text/plain": [
       "array([nan, '17', '27', '7', '11', '25', '12', '10', '3',\n",
       "       'Less than 1 year', '18', '37', '15', '20', '6', '2', '16', '8',\n",
       "       '14', '4', '45', '1', '24', '29', '5', '30', '26', '9', '33', '13',\n",
       "       '35', '23', '22', '31', '19', '21', '28', '34', '32', '40', '50',\n",
       "       '39', '44', '42', '41', '36', '38', 'More than 50 years', '43',\n",
       "       '47', '48', '46', '49'], dtype=object)"
      ]
     },
     "execution_count": 26,
     "metadata": {},
     "output_type": "execute_result"
    }
   ],
   "source": [
    "# Why is it a categorical column?\n",
    "df['YearsCodePro'].unique()"
   ]
  },
  {
   "cell_type": "code",
   "execution_count": 27,
   "metadata": {},
   "outputs": [
    {
     "data": {
      "text/plain": [
       "count    51610.000000\n",
       "mean        10.184344\n",
       "std          9.109703\n",
       "min          0.000000\n",
       "25%          3.000000\n",
       "50%          7.000000\n",
       "75%         15.000000\n",
       "max         51.000000\n",
       "Name: YearsCodePro, dtype: float64"
      ]
     },
     "execution_count": 27,
     "metadata": {},
     "output_type": "execute_result"
    }
   ],
   "source": [
    "# Replace strings with approximate numeric values\n",
    "df['YearsCodePro'] = df['YearsCodePro'].replace({\n",
    "    'Less than 1 year': '0',\n",
    "    'More than 50 years': '51'  # or cap it to 50\n",
    "})\n",
    "\n",
    "# Convert to numeric\n",
    "df['YearsCodePro'] = pd.to_numeric(df['YearsCodePro'], errors='coerce')\n",
    "\n",
    "# Verify\n",
    "df['YearsCodePro'].describe()"
   ]
  },
  {
   "cell_type": "code",
   "execution_count": 28,
   "metadata": {},
   "outputs": [
    {
     "data": {
      "text/plain": [
       "ExperienceLevel\n",
       "No experience     2856\n",
       "Intermediate      9584\n",
       "Experienced       9810\n",
       "Beginner         10900\n",
       "Unknown          13827\n",
       "Expert           18460\n",
       "Name: count, dtype: int64"
      ]
     },
     "execution_count": 28,
     "metadata": {},
     "output_type": "execute_result"
    }
   ],
   "source": [
    "# Define a function that takes and categorize 'years'\n",
    "def categorize_experience(years):\n",
    "    if pd.isna(years):\n",
    "        return 'Unknown'\n",
    "    elif years == 0:\n",
    "        return 'No experience'\n",
    "    elif years <= 3:\n",
    "        return 'Beginner'\n",
    "    elif years <= 6:\n",
    "        return 'Intermediate'\n",
    "    elif years <= 10:\n",
    "        return 'Experienced'\n",
    "    else:\n",
    "        return 'Expert'\n",
    "\n",
    "# Create 'ExperienceLevel' column\n",
    "df['ExperienceLevel'] = df['YearsCodePro'].apply(categorize_experience)\n",
    "\n",
    "# Verify\n",
    "dist_ExperienceLevel = df['ExperienceLevel'].value_counts(dropna=False).sort_values()\n",
    "dist_ExperienceLevel"
   ]
  },
  {
   "cell_type": "code",
   "execution_count": 29,
   "metadata": {},
   "outputs": [
    {
     "data": {
      "image/png": "[encoded data removed]",
      "text/plain": [
       "<Figure size 700x700 with 1 Axes>"
      ]
     },
     "metadata": {},
     "output_type": "display_data"
    }
   ],
   "source": [
    "plt.figure(figsize=(7, 7))\n",
    "dist_ExperienceLevel.plot(kind='barh', color='slateblue')\n",
    "plt.title('Distribution of Experience Level')\n",
    "plt.xlabel('Number of Responses')\n",
    "plt.ylabel('Experience Level')\n",
    "plt.show()"
   ]
  },
  {
   "cell_type": "markdown",
   "metadata": {},
   "source": [
    "### Summary\n"
   ]
  },
  {
   "cell_type": "markdown",
   "metadata": {},
   "source": [
    "In this lab, you:\n",
    "\n",
    "- Explored the dataset to identify inconsistencies and missing values.\n",
    "\n",
    "- Encoded categorical variables for analysis.\n",
    "\n",
    "- Handled missing values using imputation techniques.\n",
    "\n",
    "- Normalized and transformed numerical data to prepare it for analysis.\n",
    "\n",
    "- Engineered a new feature to enhance data interpretation.\n"
   ]
  },
  {
   "cell_type": "markdown",
   "metadata": {},
   "source": [
    "Copyright © IBM Corporation. All rights reserved.\n"
   ]
  }
 ],
 "metadata": {
  "kernelspec": {
   "display_name": "Python 3",
   "language": "python",
   "name": "python3"
  },
  "language_info": {
   "codemirror_mode": {
    "name": "ipython",
    "version": 3
   },
   "file_extension": ".py",
   "mimetype": "text/x-python",
   "name": "python",
   "nbconvert_exporter": "python",
   "pygments_lexer": "ipython3",
   "version": "3.12.10"
  },
  "prev_pub_hash": "1e8e234f19fd098e27b0518a87f18de690e1c51f1d3263d5690927d19971251e"
 },
 "nbformat": 4,
 "nbformat_minor": 4
}
