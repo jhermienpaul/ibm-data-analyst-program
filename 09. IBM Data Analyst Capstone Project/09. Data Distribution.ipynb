{
 "cells": [
  {
   "cell_type": "markdown",
   "id": "a4bb1ec1-7fcf-40e0-9ef9-50095345ff33",
   "metadata": {},
   "source": [
    "<p style=\"text-align:center\">\n",
    "    <a href=\"https://skills.network\" target=\"_blank\">\n",
    "    <img src=\"https://cf-courses-data.s3.us.cloud-object-storage.appdomain.cloud/assets/logos/SN_web_lightmode.png\" width=\"200\" alt=\"Skills Network Logo\"  />\n",
    "    </a>\n",
    "</p>\n"
   ]
  },
  {
   "cell_type": "markdown",
   "id": "91791624-7d3e-4711-b7a5-4422067901c3",
   "metadata": {},
   "source": [
    "# **Data Distribution**\n"
   ]
  },
  {
   "cell_type": "markdown",
   "id": "cf857ea3-edc5-457d-a43f-f33084470431",
   "metadata": {},
   "source": [
    "Estimated time needed: **30** minutes\n"
   ]
  },
  {
   "cell_type": "markdown",
   "id": "3a3b8bc4-47bb-47d5-aec2-43344298fbe6",
   "metadata": {},
   "source": [
    "In this lab, you will work with a cleaned dataset to perform Exploratory Data Analysis (EDA). You will examine the structure of the data, visualize key variables, and analyze trends related to developer experience, tools, job satisfaction, and other important aspects.\n"
   ]
  },
  {
   "cell_type": "markdown",
   "id": "9891ea87-d548-4351-8dda-52ed76ca0a04",
   "metadata": {},
   "source": [
    "## Objectives\n"
   ]
  },
  {
   "cell_type": "markdown",
   "id": "ec0b2970-e176-44da-9f41-cedae8c6f48c",
   "metadata": {},
   "source": [
    "In this lab you will perform the following:\n"
   ]
  },
  {
   "cell_type": "markdown",
   "id": "77b2cb25-6250-49b3-8662-8abefbe88102",
   "metadata": {},
   "source": [
    "- Understand the structure of the dataset.\n",
    "\n",
    "- Perform summary statistics and data visualization.\n",
    "\n",
    "- Identify trends in developer experience, tools, job satisfaction, and other key variables.\n"
   ]
  },
  {
   "cell_type": "markdown",
   "id": "05365474-1d2f-47e6-a82a-8ae37168a6e6",
   "metadata": {},
   "source": [
    "### Install the required libraries\n"
   ]
  },
  {
   "cell_type": "code",
   "execution_count": 1,
   "id": "457f8080-3629-41d8-8c14-bd67db4bb7c5",
   "metadata": {},
   "outputs": [],
   "source": [
    "# !pip install pandas\n",
    "# !pip install matplotlib\n",
    "# !pip install seaborn"
   ]
  },
  {
   "cell_type": "markdown",
   "id": "f8e4658f-ef44-4eab-90a6-ba0a56de1927",
   "metadata": {},
   "source": [
    "### Step 1: Import Libraries and Load Data\n"
   ]
  },
  {
   "cell_type": "markdown",
   "id": "de8a41af-a4eb-4195-97a0-aff2d2858b6b",
   "metadata": {},
   "source": [
    "- Import the `pandas`, `matplotlib.pyplot`, and `seaborn` libraries.\n"
   ]
  },
  {
   "cell_type": "markdown",
   "id": "9b821ec8-0438-4f09-b1c4-3e6d0ce88e23",
   "metadata": {},
   "source": [
    "- You will begin with loading the dataset. You can use the pyfetch method if working on JupyterLite. Otherwise, you can use pandas' read_csv() function directly on their local machines or cloud environments.\n"
   ]
  },
  {
   "cell_type": "code",
   "execution_count": 2,
   "id": "d766d6cc-bfd0-4f36-ae01-391047856406",
   "metadata": {},
   "outputs": [
    {
     "data": {
      "text/html": [
       "<div>\n",
       "<style scoped>\n",
       "    .dataframe tbody tr th:only-of-type {\n",
       "        vertical-align: middle;\n",
       "    }\n",
       "\n",
       "    .dataframe tbody tr th {\n",
       "        vertical-align: top;\n",
       "    }\n",
       "\n",
       "    .dataframe thead th {\n",
       "        text-align: right;\n",
       "    }\n",
       "</style>\n",
       "<table border=\"1\" class=\"dataframe\">\n",
       "  <thead>\n",
       "    <tr style=\"text-align: right;\">\n",
       "      <th></th>\n",
       "      <th>ResponseId</th>\n",
       "      <th>MainBranch</th>\n",
       "      <th>Age</th>\n",
       "      <th>Employment</th>\n",
       "      <th>RemoteWork</th>\n",
       "      <th>Check</th>\n",
       "      <th>CodingActivities</th>\n",
       "      <th>EdLevel</th>\n",
       "      <th>LearnCode</th>\n",
       "      <th>LearnCodeOnline</th>\n",
       "      <th>...</th>\n",
       "      <th>JobSatPoints_6</th>\n",
       "      <th>JobSatPoints_7</th>\n",
       "      <th>JobSatPoints_8</th>\n",
       "      <th>JobSatPoints_9</th>\n",
       "      <th>JobSatPoints_10</th>\n",
       "      <th>JobSatPoints_11</th>\n",
       "      <th>SurveyLength</th>\n",
       "      <th>SurveyEase</th>\n",
       "      <th>ConvertedCompYearly</th>\n",
       "      <th>JobSat</th>\n",
       "    </tr>\n",
       "  </thead>\n",
       "  <tbody>\n",
       "    <tr>\n",
       "      <th>0</th>\n",
       "      <td>1</td>\n",
       "      <td>I am a developer by profession</td>\n",
       "      <td>Under 18 years old</td>\n",
       "      <td>Employed, full-time</td>\n",
       "      <td>Remote</td>\n",
       "      <td>Apples</td>\n",
       "      <td>Hobby</td>\n",
       "      <td>Primary/elementary school</td>\n",
       "      <td>Books / Physical media</td>\n",
       "      <td>NaN</td>\n",
       "      <td>...</td>\n",
       "      <td>NaN</td>\n",
       "      <td>NaN</td>\n",
       "      <td>NaN</td>\n",
       "      <td>NaN</td>\n",
       "      <td>NaN</td>\n",
       "      <td>NaN</td>\n",
       "      <td>NaN</td>\n",
       "      <td>NaN</td>\n",
       "      <td>NaN</td>\n",
       "      <td>NaN</td>\n",
       "    </tr>\n",
       "    <tr>\n",
       "      <th>1</th>\n",
       "      <td>2</td>\n",
       "      <td>I am a developer by profession</td>\n",
       "      <td>35-44 years old</td>\n",
       "      <td>Employed, full-time</td>\n",
       "      <td>Remote</td>\n",
       "      <td>Apples</td>\n",
       "      <td>Hobby;Contribute to open-source projects;Other...</td>\n",
       "      <td>Bachelor’s degree (B.A., B.S., B.Eng., etc.)</td>\n",
       "      <td>Books / Physical media;Colleague;On the job tr...</td>\n",
       "      <td>Technical documentation;Blogs;Books;Written Tu...</td>\n",
       "      <td>...</td>\n",
       "      <td>0.0</td>\n",
       "      <td>0.0</td>\n",
       "      <td>0.0</td>\n",
       "      <td>0.0</td>\n",
       "      <td>0.0</td>\n",
       "      <td>0.0</td>\n",
       "      <td>NaN</td>\n",
       "      <td>NaN</td>\n",
       "      <td>NaN</td>\n",
       "      <td>NaN</td>\n",
       "    </tr>\n",
       "    <tr>\n",
       "      <th>2</th>\n",
       "      <td>3</td>\n",
       "      <td>I am a developer by profession</td>\n",
       "      <td>45-54 years old</td>\n",
       "      <td>Employed, full-time</td>\n",
       "      <td>Remote</td>\n",
       "      <td>Apples</td>\n",
       "      <td>Hobby;Contribute to open-source projects;Other...</td>\n",
       "      <td>Master’s degree (M.A., M.S., M.Eng., MBA, etc.)</td>\n",
       "      <td>Books / Physical media;Colleague;On the job tr...</td>\n",
       "      <td>Technical documentation;Blogs;Books;Written Tu...</td>\n",
       "      <td>...</td>\n",
       "      <td>NaN</td>\n",
       "      <td>NaN</td>\n",
       "      <td>NaN</td>\n",
       "      <td>NaN</td>\n",
       "      <td>NaN</td>\n",
       "      <td>NaN</td>\n",
       "      <td>Appropriate in length</td>\n",
       "      <td>Easy</td>\n",
       "      <td>NaN</td>\n",
       "      <td>NaN</td>\n",
       "    </tr>\n",
       "    <tr>\n",
       "      <th>3</th>\n",
       "      <td>4</td>\n",
       "      <td>I am learning to code</td>\n",
       "      <td>18-24 years old</td>\n",
       "      <td>Student, full-time</td>\n",
       "      <td>NaN</td>\n",
       "      <td>Apples</td>\n",
       "      <td>NaN</td>\n",
       "      <td>Some college/university study without earning ...</td>\n",
       "      <td>Other online resources (e.g., videos, blogs, f...</td>\n",
       "      <td>Stack Overflow;How-to videos;Interactive tutorial</td>\n",
       "      <td>...</td>\n",
       "      <td>NaN</td>\n",
       "      <td>NaN</td>\n",
       "      <td>NaN</td>\n",
       "      <td>NaN</td>\n",
       "      <td>NaN</td>\n",
       "      <td>NaN</td>\n",
       "      <td>Too long</td>\n",
       "      <td>Easy</td>\n",
       "      <td>NaN</td>\n",
       "      <td>NaN</td>\n",
       "    </tr>\n",
       "    <tr>\n",
       "      <th>4</th>\n",
       "      <td>5</td>\n",
       "      <td>I am a developer by profession</td>\n",
       "      <td>18-24 years old</td>\n",
       "      <td>Student, full-time</td>\n",
       "      <td>NaN</td>\n",
       "      <td>Apples</td>\n",
       "      <td>NaN</td>\n",
       "      <td>Secondary school (e.g. American high school, G...</td>\n",
       "      <td>Other online resources (e.g., videos, blogs, f...</td>\n",
       "      <td>Technical documentation;Blogs;Written Tutorial...</td>\n",
       "      <td>...</td>\n",
       "      <td>NaN</td>\n",
       "      <td>NaN</td>\n",
       "      <td>NaN</td>\n",
       "      <td>NaN</td>\n",
       "      <td>NaN</td>\n",
       "      <td>NaN</td>\n",
       "      <td>Too short</td>\n",
       "      <td>Easy</td>\n",
       "      <td>NaN</td>\n",
       "      <td>NaN</td>\n",
       "    </tr>\n",
       "  </tbody>\n",
       "</table>\n",
       "<p>5 rows × 114 columns</p>\n",
       "</div>"
      ],
      "text/plain": [
       "   ResponseId                      MainBranch                 Age  \\\n",
       "0           1  I am a developer by profession  Under 18 years old   \n",
       "1           2  I am a developer by profession     35-44 years old   \n",
       "2           3  I am a developer by profession     45-54 years old   \n",
       "3           4           I am learning to code     18-24 years old   \n",
       "4           5  I am a developer by profession     18-24 years old   \n",
       "\n",
       "            Employment RemoteWork   Check  \\\n",
       "0  Employed, full-time     Remote  Apples   \n",
       "1  Employed, full-time     Remote  Apples   \n",
       "2  Employed, full-time     Remote  Apples   \n",
       "3   Student, full-time        NaN  Apples   \n",
       "4   Student, full-time        NaN  Apples   \n",
       "\n",
       "                                    CodingActivities  \\\n",
       "0                                              Hobby   \n",
       "1  Hobby;Contribute to open-source projects;Other...   \n",
       "2  Hobby;Contribute to open-source projects;Other...   \n",
       "3                                                NaN   \n",
       "4                                                NaN   \n",
       "\n",
       "                                             EdLevel  \\\n",
       "0                          Primary/elementary school   \n",
       "1       Bachelor’s degree (B.A., B.S., B.Eng., etc.)   \n",
       "2    Master’s degree (M.A., M.S., M.Eng., MBA, etc.)   \n",
       "3  Some college/university study without earning ...   \n",
       "4  Secondary school (e.g. American high school, G...   \n",
       "\n",
       "                                           LearnCode  \\\n",
       "0                             Books / Physical media   \n",
       "1  Books / Physical media;Colleague;On the job tr...   \n",
       "2  Books / Physical media;Colleague;On the job tr...   \n",
       "3  Other online resources (e.g., videos, blogs, f...   \n",
       "4  Other online resources (e.g., videos, blogs, f...   \n",
       "\n",
       "                                     LearnCodeOnline  ... JobSatPoints_6  \\\n",
       "0                                                NaN  ...            NaN   \n",
       "1  Technical documentation;Blogs;Books;Written Tu...  ...            0.0   \n",
       "2  Technical documentation;Blogs;Books;Written Tu...  ...            NaN   \n",
       "3  Stack Overflow;How-to videos;Interactive tutorial  ...            NaN   \n",
       "4  Technical documentation;Blogs;Written Tutorial...  ...            NaN   \n",
       "\n",
       "  JobSatPoints_7 JobSatPoints_8 JobSatPoints_9 JobSatPoints_10  \\\n",
       "0            NaN            NaN            NaN             NaN   \n",
       "1            0.0            0.0            0.0             0.0   \n",
       "2            NaN            NaN            NaN             NaN   \n",
       "3            NaN            NaN            NaN             NaN   \n",
       "4            NaN            NaN            NaN             NaN   \n",
       "\n",
       "  JobSatPoints_11           SurveyLength SurveyEase ConvertedCompYearly JobSat  \n",
       "0             NaN                    NaN        NaN                 NaN    NaN  \n",
       "1             0.0                    NaN        NaN                 NaN    NaN  \n",
       "2             NaN  Appropriate in length       Easy                 NaN    NaN  \n",
       "3             NaN               Too long       Easy                 NaN    NaN  \n",
       "4             NaN              Too short       Easy                 NaN    NaN  \n",
       "\n",
       "[5 rows x 114 columns]"
      ]
     },
     "execution_count": 2,
     "metadata": {},
     "output_type": "execute_result"
    }
   ],
   "source": [
    "# Import necessary libraries\n",
    "import pandas as pd\n",
    "import matplotlib.pyplot as plt\n",
    "import seaborn as sns\n",
    "\n",
    "# Load the Stack Overflow survey dataset\n",
    "data_url = 'https://cf-courses-data.s3.us.cloud-object-storage.appdomain.cloud/n01PQ9pSmiRX6520flujwQ/survey-data.csv'\n",
    "df = pd.read_csv(data_url)\n",
    "\n",
    "# Display the first few rows of the dataset\n",
    "df.head()\n"
   ]
  },
  {
   "cell_type": "code",
   "execution_count": 3,
   "metadata": {},
   "outputs": [],
   "source": [
    "data = df.copy() # for backup"
   ]
  },
  {
   "cell_type": "markdown",
   "id": "33022f03-6167-45e1-a0d8-4cff0b259349",
   "metadata": {},
   "source": [
    "### Step 2: Examine the Structure of the Data\n"
   ]
  },
  {
   "cell_type": "markdown",
   "id": "dc80f61d-644c-47a0-917c-61a1486ed324",
   "metadata": {},
   "source": [
    "- Display the column names, data types, and summary information to understand the data structure.\n",
    "\n",
    "- Objective: Gain insights into the dataset's shape and available variables.\n"
   ]
  },
  {
   "cell_type": "code",
   "execution_count": 4,
   "metadata": {},
   "outputs": [
    {
     "data": {
      "text/plain": [
       "Index(['ResponseId', 'MainBranch', 'Age', 'Employment', 'RemoteWork', 'Check',\n",
       "       'CodingActivities', 'EdLevel', 'LearnCode', 'LearnCodeOnline',\n",
       "       ...\n",
       "       'JobSatPoints_6', 'JobSatPoints_7', 'JobSatPoints_8', 'JobSatPoints_9',\n",
       "       'JobSatPoints_10', 'JobSatPoints_11', 'SurveyLength', 'SurveyEase',\n",
       "       'ConvertedCompYearly', 'JobSat'],\n",
       "      dtype='object', length=114)"
      ]
     },
     "execution_count": 4,
     "metadata": {},
     "output_type": "execute_result"
    }
   ],
   "source": [
    "data.columns"
   ]
  },
  {
   "cell_type": "code",
   "execution_count": 5,
   "metadata": {},
   "outputs": [
    {
     "data": {
      "text/plain": [
       "ResponseId               int64\n",
       "MainBranch              object\n",
       "Age                     object\n",
       "Employment              object\n",
       "RemoteWork              object\n",
       "                        ...   \n",
       "JobSatPoints_11        float64\n",
       "SurveyLength            object\n",
       "SurveyEase              object\n",
       "ConvertedCompYearly    float64\n",
       "JobSat                 float64\n",
       "Length: 114, dtype: object"
      ]
     },
     "execution_count": 5,
     "metadata": {},
     "output_type": "execute_result"
    }
   ],
   "source": [
    "data.dtypes"
   ]
  },
  {
   "cell_type": "code",
   "execution_count": 6,
   "metadata": {},
   "outputs": [
    {
     "data": {
      "text/html": [
       "<div>\n",
       "<style scoped>\n",
       "    .dataframe tbody tr th:only-of-type {\n",
       "        vertical-align: middle;\n",
       "    }\n",
       "\n",
       "    .dataframe tbody tr th {\n",
       "        vertical-align: top;\n",
       "    }\n",
       "\n",
       "    .dataframe thead th {\n",
       "        text-align: right;\n",
       "    }\n",
       "</style>\n",
       "<table border=\"1\" class=\"dataframe\">\n",
       "  <thead>\n",
       "    <tr style=\"text-align: right;\">\n",
       "      <th></th>\n",
       "      <th>ResponseId</th>\n",
       "      <th>MainBranch</th>\n",
       "      <th>Age</th>\n",
       "      <th>Employment</th>\n",
       "      <th>RemoteWork</th>\n",
       "      <th>Check</th>\n",
       "      <th>CodingActivities</th>\n",
       "      <th>EdLevel</th>\n",
       "      <th>LearnCode</th>\n",
       "      <th>LearnCodeOnline</th>\n",
       "      <th>...</th>\n",
       "      <th>JobSatPoints_6</th>\n",
       "      <th>JobSatPoints_7</th>\n",
       "      <th>JobSatPoints_8</th>\n",
       "      <th>JobSatPoints_9</th>\n",
       "      <th>JobSatPoints_10</th>\n",
       "      <th>JobSatPoints_11</th>\n",
       "      <th>SurveyLength</th>\n",
       "      <th>SurveyEase</th>\n",
       "      <th>ConvertedCompYearly</th>\n",
       "      <th>JobSat</th>\n",
       "    </tr>\n",
       "  </thead>\n",
       "  <tbody>\n",
       "    <tr>\n",
       "      <th>count</th>\n",
       "      <td>65437.000000</td>\n",
       "      <td>65437</td>\n",
       "      <td>65437</td>\n",
       "      <td>65437</td>\n",
       "      <td>54806</td>\n",
       "      <td>65437</td>\n",
       "      <td>54466</td>\n",
       "      <td>60784</td>\n",
       "      <td>60488</td>\n",
       "      <td>49237</td>\n",
       "      <td>...</td>\n",
       "      <td>29450.000000</td>\n",
       "      <td>29448.00000</td>\n",
       "      <td>29456.000000</td>\n",
       "      <td>29456.000000</td>\n",
       "      <td>29450.000000</td>\n",
       "      <td>29445.000000</td>\n",
       "      <td>56182</td>\n",
       "      <td>56238</td>\n",
       "      <td>2.343500e+04</td>\n",
       "      <td>29126.000000</td>\n",
       "    </tr>\n",
       "    <tr>\n",
       "      <th>unique</th>\n",
       "      <td>NaN</td>\n",
       "      <td>5</td>\n",
       "      <td>8</td>\n",
       "      <td>110</td>\n",
       "      <td>3</td>\n",
       "      <td>1</td>\n",
       "      <td>118</td>\n",
       "      <td>8</td>\n",
       "      <td>418</td>\n",
       "      <td>10853</td>\n",
       "      <td>...</td>\n",
       "      <td>NaN</td>\n",
       "      <td>NaN</td>\n",
       "      <td>NaN</td>\n",
       "      <td>NaN</td>\n",
       "      <td>NaN</td>\n",
       "      <td>NaN</td>\n",
       "      <td>3</td>\n",
       "      <td>3</td>\n",
       "      <td>NaN</td>\n",
       "      <td>NaN</td>\n",
       "    </tr>\n",
       "    <tr>\n",
       "      <th>top</th>\n",
       "      <td>NaN</td>\n",
       "      <td>I am a developer by profession</td>\n",
       "      <td>25-34 years old</td>\n",
       "      <td>Employed, full-time</td>\n",
       "      <td>Hybrid (some remote, some in-person)</td>\n",
       "      <td>Apples</td>\n",
       "      <td>Hobby</td>\n",
       "      <td>Bachelor’s degree (B.A., B.S., B.Eng., etc.)</td>\n",
       "      <td>Other online resources (e.g., videos, blogs, f...</td>\n",
       "      <td>Technical documentation;Blogs;Written Tutorial...</td>\n",
       "      <td>...</td>\n",
       "      <td>NaN</td>\n",
       "      <td>NaN</td>\n",
       "      <td>NaN</td>\n",
       "      <td>NaN</td>\n",
       "      <td>NaN</td>\n",
       "      <td>NaN</td>\n",
       "      <td>Appropriate in length</td>\n",
       "      <td>Easy</td>\n",
       "      <td>NaN</td>\n",
       "      <td>NaN</td>\n",
       "    </tr>\n",
       "    <tr>\n",
       "      <th>freq</th>\n",
       "      <td>NaN</td>\n",
       "      <td>50207</td>\n",
       "      <td>23911</td>\n",
       "      <td>39041</td>\n",
       "      <td>23015</td>\n",
       "      <td>65437</td>\n",
       "      <td>9993</td>\n",
       "      <td>24942</td>\n",
       "      <td>3674</td>\n",
       "      <td>603</td>\n",
       "      <td>...</td>\n",
       "      <td>NaN</td>\n",
       "      <td>NaN</td>\n",
       "      <td>NaN</td>\n",
       "      <td>NaN</td>\n",
       "      <td>NaN</td>\n",
       "      <td>NaN</td>\n",
       "      <td>38767</td>\n",
       "      <td>30071</td>\n",
       "      <td>NaN</td>\n",
       "      <td>NaN</td>\n",
       "    </tr>\n",
       "    <tr>\n",
       "      <th>mean</th>\n",
       "      <td>32719.000000</td>\n",
       "      <td>NaN</td>\n",
       "      <td>NaN</td>\n",
       "      <td>NaN</td>\n",
       "      <td>NaN</td>\n",
       "      <td>NaN</td>\n",
       "      <td>NaN</td>\n",
       "      <td>NaN</td>\n",
       "      <td>NaN</td>\n",
       "      <td>NaN</td>\n",
       "      <td>...</td>\n",
       "      <td>24.343232</td>\n",
       "      <td>22.96522</td>\n",
       "      <td>20.278165</td>\n",
       "      <td>16.169432</td>\n",
       "      <td>10.955713</td>\n",
       "      <td>9.953948</td>\n",
       "      <td>NaN</td>\n",
       "      <td>NaN</td>\n",
       "      <td>8.615529e+04</td>\n",
       "      <td>6.935041</td>\n",
       "    </tr>\n",
       "    <tr>\n",
       "      <th>std</th>\n",
       "      <td>18890.179119</td>\n",
       "      <td>NaN</td>\n",
       "      <td>NaN</td>\n",
       "      <td>NaN</td>\n",
       "      <td>NaN</td>\n",
       "      <td>NaN</td>\n",
       "      <td>NaN</td>\n",
       "      <td>NaN</td>\n",
       "      <td>NaN</td>\n",
       "      <td>NaN</td>\n",
       "      <td>...</td>\n",
       "      <td>27.089360</td>\n",
       "      <td>27.01774</td>\n",
       "      <td>26.108110</td>\n",
       "      <td>24.845032</td>\n",
       "      <td>22.906263</td>\n",
       "      <td>21.775652</td>\n",
       "      <td>NaN</td>\n",
       "      <td>NaN</td>\n",
       "      <td>1.867570e+05</td>\n",
       "      <td>2.088259</td>\n",
       "    </tr>\n",
       "    <tr>\n",
       "      <th>min</th>\n",
       "      <td>1.000000</td>\n",
       "      <td>NaN</td>\n",
       "      <td>NaN</td>\n",
       "      <td>NaN</td>\n",
       "      <td>NaN</td>\n",
       "      <td>NaN</td>\n",
       "      <td>NaN</td>\n",
       "      <td>NaN</td>\n",
       "      <td>NaN</td>\n",
       "      <td>NaN</td>\n",
       "      <td>...</td>\n",
       "      <td>0.000000</td>\n",
       "      <td>0.00000</td>\n",
       "      <td>0.000000</td>\n",
       "      <td>0.000000</td>\n",
       "      <td>0.000000</td>\n",
       "      <td>0.000000</td>\n",
       "      <td>NaN</td>\n",
       "      <td>NaN</td>\n",
       "      <td>1.000000e+00</td>\n",
       "      <td>0.000000</td>\n",
       "    </tr>\n",
       "    <tr>\n",
       "      <th>25%</th>\n",
       "      <td>16360.000000</td>\n",
       "      <td>NaN</td>\n",
       "      <td>NaN</td>\n",
       "      <td>NaN</td>\n",
       "      <td>NaN</td>\n",
       "      <td>NaN</td>\n",
       "      <td>NaN</td>\n",
       "      <td>NaN</td>\n",
       "      <td>NaN</td>\n",
       "      <td>NaN</td>\n",
       "      <td>...</td>\n",
       "      <td>0.000000</td>\n",
       "      <td>0.00000</td>\n",
       "      <td>0.000000</td>\n",
       "      <td>0.000000</td>\n",
       "      <td>0.000000</td>\n",
       "      <td>0.000000</td>\n",
       "      <td>NaN</td>\n",
       "      <td>NaN</td>\n",
       "      <td>3.271200e+04</td>\n",
       "      <td>6.000000</td>\n",
       "    </tr>\n",
       "    <tr>\n",
       "      <th>50%</th>\n",
       "      <td>32719.000000</td>\n",
       "      <td>NaN</td>\n",
       "      <td>NaN</td>\n",
       "      <td>NaN</td>\n",
       "      <td>NaN</td>\n",
       "      <td>NaN</td>\n",
       "      <td>NaN</td>\n",
       "      <td>NaN</td>\n",
       "      <td>NaN</td>\n",
       "      <td>NaN</td>\n",
       "      <td>...</td>\n",
       "      <td>20.000000</td>\n",
       "      <td>15.00000</td>\n",
       "      <td>10.000000</td>\n",
       "      <td>5.000000</td>\n",
       "      <td>0.000000</td>\n",
       "      <td>0.000000</td>\n",
       "      <td>NaN</td>\n",
       "      <td>NaN</td>\n",
       "      <td>6.500000e+04</td>\n",
       "      <td>7.000000</td>\n",
       "    </tr>\n",
       "    <tr>\n",
       "      <th>75%</th>\n",
       "      <td>49078.000000</td>\n",
       "      <td>NaN</td>\n",
       "      <td>NaN</td>\n",
       "      <td>NaN</td>\n",
       "      <td>NaN</td>\n",
       "      <td>NaN</td>\n",
       "      <td>NaN</td>\n",
       "      <td>NaN</td>\n",
       "      <td>NaN</td>\n",
       "      <td>NaN</td>\n",
       "      <td>...</td>\n",
       "      <td>30.000000</td>\n",
       "      <td>30.00000</td>\n",
       "      <td>25.000000</td>\n",
       "      <td>20.000000</td>\n",
       "      <td>10.000000</td>\n",
       "      <td>10.000000</td>\n",
       "      <td>NaN</td>\n",
       "      <td>NaN</td>\n",
       "      <td>1.079715e+05</td>\n",
       "      <td>8.000000</td>\n",
       "    </tr>\n",
       "    <tr>\n",
       "      <th>max</th>\n",
       "      <td>65437.000000</td>\n",
       "      <td>NaN</td>\n",
       "      <td>NaN</td>\n",
       "      <td>NaN</td>\n",
       "      <td>NaN</td>\n",
       "      <td>NaN</td>\n",
       "      <td>NaN</td>\n",
       "      <td>NaN</td>\n",
       "      <td>NaN</td>\n",
       "      <td>NaN</td>\n",
       "      <td>...</td>\n",
       "      <td>100.000000</td>\n",
       "      <td>100.00000</td>\n",
       "      <td>100.000000</td>\n",
       "      <td>100.000000</td>\n",
       "      <td>100.000000</td>\n",
       "      <td>100.000000</td>\n",
       "      <td>NaN</td>\n",
       "      <td>NaN</td>\n",
       "      <td>1.625660e+07</td>\n",
       "      <td>10.000000</td>\n",
       "    </tr>\n",
       "  </tbody>\n",
       "</table>\n",
       "<p>11 rows × 114 columns</p>\n",
       "</div>"
      ],
      "text/plain": [
       "          ResponseId                      MainBranch              Age  \\\n",
       "count   65437.000000                           65437            65437   \n",
       "unique           NaN                               5                8   \n",
       "top              NaN  I am a developer by profession  25-34 years old   \n",
       "freq             NaN                           50207            23911   \n",
       "mean    32719.000000                             NaN              NaN   \n",
       "std     18890.179119                             NaN              NaN   \n",
       "min         1.000000                             NaN              NaN   \n",
       "25%     16360.000000                             NaN              NaN   \n",
       "50%     32719.000000                             NaN              NaN   \n",
       "75%     49078.000000                             NaN              NaN   \n",
       "max     65437.000000                             NaN              NaN   \n",
       "\n",
       "                 Employment                            RemoteWork   Check  \\\n",
       "count                 65437                                 54806   65437   \n",
       "unique                  110                                     3       1   \n",
       "top     Employed, full-time  Hybrid (some remote, some in-person)  Apples   \n",
       "freq                  39041                                 23015   65437   \n",
       "mean                    NaN                                   NaN     NaN   \n",
       "std                     NaN                                   NaN     NaN   \n",
       "min                     NaN                                   NaN     NaN   \n",
       "25%                     NaN                                   NaN     NaN   \n",
       "50%                     NaN                                   NaN     NaN   \n",
       "75%                     NaN                                   NaN     NaN   \n",
       "max                     NaN                                   NaN     NaN   \n",
       "\n",
       "       CodingActivities                                       EdLevel  \\\n",
       "count             54466                                         60784   \n",
       "unique              118                                             8   \n",
       "top               Hobby  Bachelor’s degree (B.A., B.S., B.Eng., etc.)   \n",
       "freq               9993                                         24942   \n",
       "mean                NaN                                           NaN   \n",
       "std                 NaN                                           NaN   \n",
       "min                 NaN                                           NaN   \n",
       "25%                 NaN                                           NaN   \n",
       "50%                 NaN                                           NaN   \n",
       "75%                 NaN                                           NaN   \n",
       "max                 NaN                                           NaN   \n",
       "\n",
       "                                                LearnCode  \\\n",
       "count                                               60488   \n",
       "unique                                                418   \n",
       "top     Other online resources (e.g., videos, blogs, f...   \n",
       "freq                                                 3674   \n",
       "mean                                                  NaN   \n",
       "std                                                   NaN   \n",
       "min                                                   NaN   \n",
       "25%                                                   NaN   \n",
       "50%                                                   NaN   \n",
       "75%                                                   NaN   \n",
       "max                                                   NaN   \n",
       "\n",
       "                                          LearnCodeOnline  ... JobSatPoints_6  \\\n",
       "count                                               49237  ...   29450.000000   \n",
       "unique                                              10853  ...            NaN   \n",
       "top     Technical documentation;Blogs;Written Tutorial...  ...            NaN   \n",
       "freq                                                  603  ...            NaN   \n",
       "mean                                                  NaN  ...      24.343232   \n",
       "std                                                   NaN  ...      27.089360   \n",
       "min                                                   NaN  ...       0.000000   \n",
       "25%                                                   NaN  ...       0.000000   \n",
       "50%                                                   NaN  ...      20.000000   \n",
       "75%                                                   NaN  ...      30.000000   \n",
       "max                                                   NaN  ...     100.000000   \n",
       "\n",
       "       JobSatPoints_7 JobSatPoints_8 JobSatPoints_9 JobSatPoints_10  \\\n",
       "count     29448.00000   29456.000000   29456.000000    29450.000000   \n",
       "unique            NaN            NaN            NaN             NaN   \n",
       "top               NaN            NaN            NaN             NaN   \n",
       "freq              NaN            NaN            NaN             NaN   \n",
       "mean         22.96522      20.278165      16.169432       10.955713   \n",
       "std          27.01774      26.108110      24.845032       22.906263   \n",
       "min           0.00000       0.000000       0.000000        0.000000   \n",
       "25%           0.00000       0.000000       0.000000        0.000000   \n",
       "50%          15.00000      10.000000       5.000000        0.000000   \n",
       "75%          30.00000      25.000000      20.000000       10.000000   \n",
       "max         100.00000     100.000000     100.000000      100.000000   \n",
       "\n",
       "       JobSatPoints_11           SurveyLength SurveyEase ConvertedCompYearly  \\\n",
       "count     29445.000000                  56182      56238        2.343500e+04   \n",
       "unique             NaN                      3          3                 NaN   \n",
       "top                NaN  Appropriate in length       Easy                 NaN   \n",
       "freq               NaN                  38767      30071                 NaN   \n",
       "mean          9.953948                    NaN        NaN        8.615529e+04   \n",
       "std          21.775652                    NaN        NaN        1.867570e+05   \n",
       "min           0.000000                    NaN        NaN        1.000000e+00   \n",
       "25%           0.000000                    NaN        NaN        3.271200e+04   \n",
       "50%           0.000000                    NaN        NaN        6.500000e+04   \n",
       "75%          10.000000                    NaN        NaN        1.079715e+05   \n",
       "max         100.000000                    NaN        NaN        1.625660e+07   \n",
       "\n",
       "              JobSat  \n",
       "count   29126.000000  \n",
       "unique           NaN  \n",
       "top              NaN  \n",
       "freq             NaN  \n",
       "mean        6.935041  \n",
       "std         2.088259  \n",
       "min         0.000000  \n",
       "25%         6.000000  \n",
       "50%         7.000000  \n",
       "75%         8.000000  \n",
       "max        10.000000  \n",
       "\n",
       "[11 rows x 114 columns]"
      ]
     },
     "execution_count": 6,
     "metadata": {},
     "output_type": "execute_result"
    }
   ],
   "source": [
    "data.describe(include='all')"
   ]
  },
  {
   "cell_type": "markdown",
   "id": "42a43355-828c-4a69-b64f-2825a0ff825d",
   "metadata": {},
   "source": [
    "### Step 3: Handle Missing Data\n"
   ]
  },
  {
   "cell_type": "markdown",
   "id": "14ac2c5a-4e17-41b6-af66-93588957ce6b",
   "metadata": {},
   "source": [
    "- Identify missing values in the dataset.\n",
    "\n",
    "- Impute or remove missing values as necessary to ensure data completeness.\n",
    "\n"
   ]
  },
  {
   "cell_type": "code",
   "execution_count": 7,
   "id": "f98036e8-19a3-415b-91ff-0cb5acf362de",
   "metadata": {},
   "outputs": [
    {
     "data": {
      "text/html": [
       "<div>\n",
       "<style scoped>\n",
       "    .dataframe tbody tr th:only-of-type {\n",
       "        vertical-align: middle;\n",
       "    }\n",
       "\n",
       "    .dataframe tbody tr th {\n",
       "        vertical-align: top;\n",
       "    }\n",
       "\n",
       "    .dataframe thead th {\n",
       "        text-align: right;\n",
       "    }\n",
       "</style>\n",
       "<table border=\"1\" class=\"dataframe\">\n",
       "  <thead>\n",
       "    <tr style=\"text-align: right;\">\n",
       "      <th></th>\n",
       "      <th>ResponseId</th>\n",
       "      <th>Employment</th>\n",
       "      <th>EdLevel</th>\n",
       "      <th>JobSat</th>\n",
       "      <th>YearsCodePro</th>\n",
       "      <th>RemoteWork</th>\n",
       "      <th>Country</th>\n",
       "      <th>LanguageHaveWorkedWith</th>\n",
       "      <th>LanguageWantToWorkWith</th>\n",
       "    </tr>\n",
       "  </thead>\n",
       "  <tbody>\n",
       "    <tr>\n",
       "      <th>0</th>\n",
       "      <td>1</td>\n",
       "      <td>Employed, full-time</td>\n",
       "      <td>Primary/elementary school</td>\n",
       "      <td>NaN</td>\n",
       "      <td>NaN</td>\n",
       "      <td>Remote</td>\n",
       "      <td>United States of America</td>\n",
       "      <td>NaN</td>\n",
       "      <td>NaN</td>\n",
       "    </tr>\n",
       "    <tr>\n",
       "      <th>1</th>\n",
       "      <td>2</td>\n",
       "      <td>Employed, full-time</td>\n",
       "      <td>Bachelor’s degree (B.A., B.S., B.Eng., etc.)</td>\n",
       "      <td>NaN</td>\n",
       "      <td>17</td>\n",
       "      <td>Remote</td>\n",
       "      <td>United Kingdom of Great Britain and Northern I...</td>\n",
       "      <td>Bash/Shell (all shells);Go;HTML/CSS;Java;JavaS...</td>\n",
       "      <td>Bash/Shell (all shells);Go;HTML/CSS;Java;JavaS...</td>\n",
       "    </tr>\n",
       "    <tr>\n",
       "      <th>2</th>\n",
       "      <td>3</td>\n",
       "      <td>Employed, full-time</td>\n",
       "      <td>Master’s degree (M.A., M.S., M.Eng., MBA, etc.)</td>\n",
       "      <td>NaN</td>\n",
       "      <td>27</td>\n",
       "      <td>Remote</td>\n",
       "      <td>United Kingdom of Great Britain and Northern I...</td>\n",
       "      <td>C#</td>\n",
       "      <td>C#</td>\n",
       "    </tr>\n",
       "    <tr>\n",
       "      <th>3</th>\n",
       "      <td>4</td>\n",
       "      <td>Student, full-time</td>\n",
       "      <td>Some college/university study without earning ...</td>\n",
       "      <td>NaN</td>\n",
       "      <td>NaN</td>\n",
       "      <td>NaN</td>\n",
       "      <td>Canada</td>\n",
       "      <td>C;C++;HTML/CSS;Java;JavaScript;PHP;PowerShell;...</td>\n",
       "      <td>HTML/CSS;Java;JavaScript;PowerShell;Python;SQL...</td>\n",
       "    </tr>\n",
       "    <tr>\n",
       "      <th>4</th>\n",
       "      <td>5</td>\n",
       "      <td>Student, full-time</td>\n",
       "      <td>Secondary school (e.g. American high school, G...</td>\n",
       "      <td>NaN</td>\n",
       "      <td>NaN</td>\n",
       "      <td>NaN</td>\n",
       "      <td>Norway</td>\n",
       "      <td>C++;HTML/CSS;JavaScript;Lua;Python;Rust</td>\n",
       "      <td>C++;HTML/CSS;JavaScript;Lua;Python</td>\n",
       "    </tr>\n",
       "  </tbody>\n",
       "</table>\n",
       "</div>"
      ],
      "text/plain": [
       "   ResponseId           Employment  \\\n",
       "0           1  Employed, full-time   \n",
       "1           2  Employed, full-time   \n",
       "2           3  Employed, full-time   \n",
       "3           4   Student, full-time   \n",
       "4           5   Student, full-time   \n",
       "\n",
       "                                             EdLevel  JobSat YearsCodePro  \\\n",
       "0                          Primary/elementary school     NaN          NaN   \n",
       "1       Bachelor’s degree (B.A., B.S., B.Eng., etc.)     NaN           17   \n",
       "2    Master’s degree (M.A., M.S., M.Eng., MBA, etc.)     NaN           27   \n",
       "3  Some college/university study without earning ...     NaN          NaN   \n",
       "4  Secondary school (e.g. American high school, G...     NaN          NaN   \n",
       "\n",
       "  RemoteWork                                            Country  \\\n",
       "0     Remote                           United States of America   \n",
       "1     Remote  United Kingdom of Great Britain and Northern I...   \n",
       "2     Remote  United Kingdom of Great Britain and Northern I...   \n",
       "3        NaN                                             Canada   \n",
       "4        NaN                                             Norway   \n",
       "\n",
       "                              LanguageHaveWorkedWith  \\\n",
       "0                                                NaN   \n",
       "1  Bash/Shell (all shells);Go;HTML/CSS;Java;JavaS...   \n",
       "2                                                 C#   \n",
       "3  C;C++;HTML/CSS;Java;JavaScript;PHP;PowerShell;...   \n",
       "4            C++;HTML/CSS;JavaScript;Lua;Python;Rust   \n",
       "\n",
       "                              LanguageWantToWorkWith  \n",
       "0                                                NaN  \n",
       "1  Bash/Shell (all shells);Go;HTML/CSS;Java;JavaS...  \n",
       "2                                                 C#  \n",
       "3  HTML/CSS;Java;JavaScript;PowerShell;Python;SQL...  \n",
       "4                 C++;HTML/CSS;JavaScript;Lua;Python  "
      ]
     },
     "execution_count": 7,
     "metadata": {},
     "output_type": "execute_result"
    }
   ],
   "source": [
    "selected_columns = ['ResponseId', 'Employment', 'EdLevel', 'JobSat', 'YearsCodePro', 'RemoteWork', 'Country', 'LanguageHaveWorkedWith', 'LanguageWantToWorkWith']\n",
    "data_subset = data[selected_columns]\n",
    "data_subset.head()"
   ]
  },
  {
   "cell_type": "code",
   "execution_count": 8,
   "metadata": {},
   "outputs": [
    {
     "name": "stdout",
     "output_type": "stream",
     "text": [
      "Total rows: 65437\n"
     ]
    },
    {
     "data": {
      "text/plain": [
       "ResponseId                    0\n",
       "Employment                    0\n",
       "EdLevel                    4653\n",
       "JobSat                    36311\n",
       "YearsCodePro              13827\n",
       "RemoteWork                10631\n",
       "Country                    6507\n",
       "LanguageHaveWorkedWith     5692\n",
       "LanguageWantToWorkWith     9685\n",
       "dtype: int64"
      ]
     },
     "execution_count": 8,
     "metadata": {},
     "output_type": "execute_result"
    }
   ],
   "source": [
    "print('Total rows:', data_subset.shape[0])\n",
    "data_subset.isnull().sum()"
   ]
  },
  {
   "cell_type": "code",
   "execution_count": 9,
   "metadata": {},
   "outputs": [
    {
     "name": "stdout",
     "output_type": "stream",
     "text": [
      "Total rows: 29126\n"
     ]
    },
    {
     "data": {
      "text/plain": [
       "ResponseId                   0\n",
       "Employment                   0\n",
       "EdLevel                      0\n",
       "JobSat                       0\n",
       "YearsCodePro               770\n",
       "RemoteWork                   9\n",
       "Country                      0\n",
       "LanguageHaveWorkedWith     129\n",
       "LanguageWantToWorkWith    1546\n",
       "dtype: int64"
      ]
     },
     "execution_count": 9,
     "metadata": {},
     "output_type": "execute_result"
    }
   ],
   "source": [
    "# Remove rows where JobSat is null\n",
    "data_subset = data_subset.dropna(subset=['JobSat']).reset_index(drop=True)\n",
    "\n",
    "print('Total rows:', data_subset.shape[0])\n",
    "data_subset.isnull().sum()"
   ]
  },
  {
   "cell_type": "code",
   "execution_count": 10,
   "metadata": {},
   "outputs": [
    {
     "name": "stdout",
     "output_type": "stream",
     "text": [
      "Total rows: 29126\n"
     ]
    },
    {
     "data": {
      "text/plain": [
       "ResponseId                   0\n",
       "Employment                   0\n",
       "EdLevel                      0\n",
       "JobSat                       0\n",
       "YearsCodePro                 0\n",
       "RemoteWork                   9\n",
       "Country                      0\n",
       "LanguageHaveWorkedWith     129\n",
       "LanguageWantToWorkWith    1546\n",
       "dtype: int64"
      ]
     },
     "execution_count": 10,
     "metadata": {},
     "output_type": "execute_result"
    }
   ],
   "source": [
    "# Standardize and impute YearsCodePro\n",
    "\n",
    "# Replace strings with approximate numeric values\n",
    "data_subset['YearsCodePro'] = data_subset['YearsCodePro'].replace({\n",
    "    'Less than 1 year': '0',\n",
    "    'More than 50 years': '51'\n",
    "})\n",
    "# Convert to numeric\n",
    "data_subset['YearsCodePro'] = pd.to_numeric(data_subset['YearsCodePro'], errors='coerce')\n",
    "# Impute YearsCodePro using mean\n",
    "mean_YearsCodePro = data_subset['YearsCodePro'].mean()\n",
    "data_subset.fillna({'YearsCodePro': mean_YearsCodePro}, inplace=True)\n",
    "\n",
    "# Verify\n",
    "print('Total rows:', data_subset.shape[0])\n",
    "data_subset.isnull().sum()"
   ]
  },
  {
   "cell_type": "markdown",
   "id": "52af3e5f-200a-40c0-b55e-eea1eaf6fbb0",
   "metadata": {},
   "source": [
    "### Step 4: Analyze Key Columns\n"
   ]
  },
  {
   "cell_type": "markdown",
   "id": "2156cdb8-6368-454d-a2ea-d5568fbdcc32",
   "metadata": {},
   "source": [
    "- Examine key columns such as `Employment`, `JobSat` (Job Satisfaction), and `YearsCodePro` (Professional Coding Experience).\n",
    "\n",
    "- **Instruction**: Calculate the value counts for each column to understand the distribution of responses.\n",
    "\n"
   ]
  },
  {
   "cell_type": "code",
   "execution_count": 11,
   "metadata": {},
   "outputs": [
    {
     "data": {
      "text/plain": [
       "JobSat\n",
       "8.0     7509\n",
       "7.0     6379\n",
       "6.0     3751\n",
       "9.0     3626\n",
       "10.0    2251\n",
       "5.0     1956\n",
       "3.0     1165\n",
       "4.0     1130\n",
       "2.0      772\n",
       "0.0      311\n",
       "1.0      276\n",
       "Name: count, dtype: int64"
      ]
     },
     "execution_count": 11,
     "metadata": {},
     "output_type": "execute_result"
    }
   ],
   "source": [
    "data_subset['JobSat'].value_counts()"
   ]
  },
  {
   "cell_type": "code",
   "execution_count": 12,
   "metadata": {},
   "outputs": [
    {
     "data": {
      "text/plain": [
       "YearsCodePro\n",
       "3.000000     2261\n",
       "2.000000     2153\n",
       "5.000000     2016\n",
       "10.000000    1918\n",
       "4.000000     1866\n",
       "6.000000     1725\n",
       "8.000000     1588\n",
       "7.000000     1533\n",
       "1.000000     1173\n",
       "12.000000    1111\n",
       "9.000000      973\n",
       "15.000000     935\n",
       "20.000000     819\n",
       "11.000000     806\n",
       "0.000000      780\n",
       "10.294611     770\n",
       "13.000000     703\n",
       "14.000000     629\n",
       "16.000000     577\n",
       "18.000000     526\n",
       "25.000000     505\n",
       "17.000000     481\n",
       "24.000000     343\n",
       "30.000000     318\n",
       "19.000000     312\n",
       "22.000000     275\n",
       "23.000000     258\n",
       "26.000000     243\n",
       "21.000000     216\n",
       "27.000000     212\n",
       "28.000000     170\n",
       "35.000000     122\n",
       "29.000000     100\n",
       "32.000000     100\n",
       "40.000000      90\n",
       "33.000000      72\n",
       "34.000000      72\n",
       "36.000000      64\n",
       "31.000000      55\n",
       "38.000000      53\n",
       "37.000000      44\n",
       "45.000000      30\n",
       "39.000000      29\n",
       "42.000000      24\n",
       "41.000000      22\n",
       "43.000000      16\n",
       "44.000000      13\n",
       "51.000000       8\n",
       "46.000000       6\n",
       "49.000000       4\n",
       "48.000000       3\n",
       "50.000000       2\n",
       "47.000000       2\n",
       "Name: count, dtype: int64"
      ]
     },
     "execution_count": 12,
     "metadata": {},
     "output_type": "execute_result"
    }
   ],
   "source": [
    "data_subset['YearsCodePro'].value_counts()"
   ]
  },
  {
   "cell_type": "code",
   "execution_count": 13,
   "metadata": {},
   "outputs": [],
   "source": [
    "# Standardize Employment column\n",
    "employment_map = {\n",
    "    'Employed, full-time': 'Employed',\n",
    "    'Employed, part-time': 'Employed',\n",
    "    'Independent contractor, freelancer, or self-employed': 'Self-employed',\n",
    "    'Student, full-time': 'Student',\n",
    "    'Student, part-time': 'Student',\n",
    "    'Not employed, but looking for work': 'Unemployed',\n",
    "    'Not employed, and not looking for work': 'Unemployed',\n",
    "    'Retired': 'Retired',\n",
    "    'I prefer not to say': 'Prefer not to say'}\n",
    "\n",
    "# Function to categorize employment\n",
    "def summarize_employment(entry):\n",
    "    if pd.isnull(entry):\n",
    "        return 'Unknown'\n",
    "    roles = [r.strip() for r in str(entry).split(';')]\n",
    "    mapped = set(employment_map.get(role, 'Other') for role in roles)\n",
    "    return 'Multiple' if len(mapped) > 1 else list(mapped)[0]\n",
    "\n",
    "# Create new column in your main dataframe\n",
    "data_subset['Employment'] = data_subset['Employment'].apply(summarize_employment)"
   ]
  },
  {
   "cell_type": "code",
   "execution_count": 14,
   "metadata": {},
   "outputs": [
    {
     "data": {
      "text/plain": [
       "Employment\n",
       "Employed         23198\n",
       "Multiple          4682\n",
       "Self-employed     1245\n",
       "Unemployed           1\n",
       "Name: count, dtype: int64"
      ]
     },
     "execution_count": 14,
     "metadata": {},
     "output_type": "execute_result"
    }
   ],
   "source": [
    "data_subset['Employment'].value_counts()"
   ]
  },
  {
   "cell_type": "markdown",
   "id": "14e14f76-fd56-456b-b240-6f8b216b3f94",
   "metadata": {},
   "source": [
    "### Step 5: Visualize Job Satisfaction (Focus on JobSat)\n"
   ]
  },
  {
   "cell_type": "markdown",
   "id": "ba93380b-3ced-45a2-87f2-062126341ef1",
   "metadata": {},
   "source": [
    "- Create a pie chart or KDE plot to visualize the distribution of `JobSat`.\n",
    "\n",
    "- Provide an interpretation of the plot, highlighting key trends in job satisfaction.\n"
   ]
  },
  {
   "cell_type": "code",
   "execution_count": 15,
   "id": "99a7526d-47e2-45d2-8336-46db95988e98",
   "metadata": {},
   "outputs": [
    {
     "data": {
      "image/png": "[encoded data removed]",
      "text/plain": [
       "<Figure size 1400x700 with 2 Axes>"
      ]
     },
     "metadata": {},
     "output_type": "display_data"
    }
   ],
   "source": [
    "plt.figure(figsize=(14, 7))\n",
    "# Pie Chart\n",
    "plt.subplot(1, 2, 1)\n",
    "sns.histplot(data_subset['JobSat'], bins=10, kde=False, color='grey', discrete=True)\n",
    "plt.title('Job Satisfaction Histogram')\n",
    "plt.xlabel('Job Satisfaction Score (1–10)')\n",
    "plt.ylabel('Count')\n",
    "# KDE Plot\n",
    "plt.subplot(1, 2, 2)\n",
    "sns.kdeplot(data_subset['JobSat'], fill=True, bw_adjust=0.5, color='grey')\n",
    "plt.title('KDE Plot of Job Satisfaction')\n",
    "plt.xlabel('Job Satisfaction Score (1–10)')\n",
    "plt.ylabel('Density')\n",
    "\n",
    "plt.show()"
   ]
  },
  {
   "cell_type": "markdown",
   "id": "80ac762c-e73f-469b-a29c-b9a131fae356",
   "metadata": {},
   "source": [
    "### Step 6: Programming Languages Analysis\n"
   ]
  },
  {
   "cell_type": "markdown",
   "id": "4b0fd0ce-f6d0-4994-ad61-3b15abb2e772",
   "metadata": {},
   "source": [
    "- Compare the frequency of programming languages in `LanguageHaveWorkedWith` and `LanguageWantToWorkWith`.\n",
    "  \n",
    "- Visualize the overlap or differences using a Venn diagram or a grouped bar chart.\n"
   ]
  },
  {
   "cell_type": "code",
   "execution_count": 16,
   "id": "f51cbe60-a744-4dc9-a09b-0bc5ca6c3fc3",
   "metadata": {},
   "outputs": [
    {
     "data": {
      "text/html": [
       "<div>\n",
       "<style scoped>\n",
       "    .dataframe tbody tr th:only-of-type {\n",
       "        vertical-align: middle;\n",
       "    }\n",
       "\n",
       "    .dataframe tbody tr th {\n",
       "        vertical-align: top;\n",
       "    }\n",
       "\n",
       "    .dataframe thead th {\n",
       "        text-align: right;\n",
       "    }\n",
       "</style>\n",
       "<table border=\"1\" class=\"dataframe\">\n",
       "  <thead>\n",
       "    <tr style=\"text-align: right;\">\n",
       "      <th></th>\n",
       "      <th>LanguageHaveWorkedWith</th>\n",
       "      <th>LanguageWantToWorkWith</th>\n",
       "    </tr>\n",
       "  </thead>\n",
       "  <tbody>\n",
       "    <tr>\n",
       "      <th>0</th>\n",
       "      <td>JavaScript;Python;Ruby</td>\n",
       "      <td>C#;Crystal;Java;JavaScript;Python;Ruby</td>\n",
       "    </tr>\n",
       "    <tr>\n",
       "      <th>1</th>\n",
       "      <td>Bash/Shell (all shells);C#;JavaScript;PowerShe...</td>\n",
       "      <td>Bash/Shell (all shells);JavaScript;VBA</td>\n",
       "    </tr>\n",
       "    <tr>\n",
       "      <th>2</th>\n",
       "      <td>C#;HTML/CSS;JavaScript;PowerShell;SQL;TypeScri...</td>\n",
       "      <td>C#;SQL</td>\n",
       "    </tr>\n",
       "    <tr>\n",
       "      <th>3</th>\n",
       "      <td>C#;HTML/CSS;JavaScript;PHP;Python;SQL</td>\n",
       "      <td>C#;HTML/CSS;JavaScript;SQL</td>\n",
       "    </tr>\n",
       "    <tr>\n",
       "      <th>4</th>\n",
       "      <td>Bash/Shell (all shells);HTML/CSS;PHP;Python;SQ...</td>\n",
       "      <td>C++;Java;JavaScript;PHP;PowerShell;Python;R;SQL</td>\n",
       "    </tr>\n",
       "  </tbody>\n",
       "</table>\n",
       "</div>"
      ],
      "text/plain": [
       "                              LanguageHaveWorkedWith  \\\n",
       "0                             JavaScript;Python;Ruby   \n",
       "1  Bash/Shell (all shells);C#;JavaScript;PowerShe...   \n",
       "2  C#;HTML/CSS;JavaScript;PowerShell;SQL;TypeScri...   \n",
       "3              C#;HTML/CSS;JavaScript;PHP;Python;SQL   \n",
       "4  Bash/Shell (all shells);HTML/CSS;PHP;Python;SQ...   \n",
       "\n",
       "                            LanguageWantToWorkWith  \n",
       "0           C#;Crystal;Java;JavaScript;Python;Ruby  \n",
       "1           Bash/Shell (all shells);JavaScript;VBA  \n",
       "2                                           C#;SQL  \n",
       "3                       C#;HTML/CSS;JavaScript;SQL  \n",
       "4  C++;Java;JavaScript;PHP;PowerShell;Python;R;SQL  "
      ]
     },
     "execution_count": 16,
     "metadata": {},
     "output_type": "execute_result"
    }
   ],
   "source": [
    "data_language = data_subset[['LanguageHaveWorkedWith', 'LanguageWantToWorkWith']].dropna().reset_index(drop=True)\n",
    "data_language.head()"
   ]
  },
  {
   "cell_type": "code",
   "execution_count": 17,
   "metadata": {},
   "outputs": [
    {
     "data": {
      "text/plain": [
       "LanguageHaveWorkedWith\n",
       "HTML/CSS;JavaScript;TypeScript                                                                                  512\n",
       "Python                                                                                                          281\n",
       "C#;HTML/CSS;JavaScript;SQL;TypeScript                                                                           246\n",
       "HTML/CSS;JavaScript;PHP;SQL                                                                                     215\n",
       "C#                                                                                                              208\n",
       "                                                                                                               ... \n",
       "Bash/Shell (all shells);Go;HTML/CSS;Java;JavaScript;PowerShell;Rust;TypeScript;Zig                                1\n",
       "Assembly;Bash/Shell (all shells);C;C++;HTML/CSS;Java;JavaScript;Julia;Lua;MATLAB;MicroPython;Python;Rust;VBA      1\n",
       "Java;MATLAB;Python;SQL                                                                                            1\n",
       "Bash/Shell (all shells);Go;Java;PowerShell                                                                        1\n",
       "Bash/Shell (all shells);C#;F#;JavaScript;PowerShell;SQL                                                           1\n",
       "Name: count, Length: 12323, dtype: int64"
      ]
     },
     "execution_count": 17,
     "metadata": {},
     "output_type": "execute_result"
    }
   ],
   "source": [
    "data_language['LanguageHaveWorkedWith'].value_counts()"
   ]
  },
  {
   "cell_type": "code",
   "execution_count": 18,
   "metadata": {},
   "outputs": [
    {
     "data": {
      "text/plain": [
       "LanguageWantToWorkWith\n",
       "Rust                                                                                                360\n",
       "HTML/CSS;JavaScript;TypeScript                                                                      332\n",
       "Python                                                                                              319\n",
       "C#                                                                                                  250\n",
       "Go                                                                                                  238\n",
       "                                                                                                   ... \n",
       "Bash/Shell (all shells);Dart;Erlang;Go;HTML/CSS;JavaScript;Kotlin;PHP;Python;Rust;SQL;TypeScript      1\n",
       "C;C++;Elixir;Go;HTML/CSS;Java;JavaScript;Rust;TypeScript;Zig                                          1\n",
       "Bash/Shell (all shells);C;C#;C++;HTML/CSS;Lua;PowerShell;SQL;TypeScript                               1\n",
       "Elixir;HTML/CSS;JavaScript;Kotlin;Rust;Swift                                                          1\n",
       "Ada;Go;Java;Kotlin;TypeScript;Zig                                                                     1\n",
       "Name: count, Length: 12557, dtype: int64"
      ]
     },
     "execution_count": 18,
     "metadata": {},
     "output_type": "execute_result"
    }
   ],
   "source": [
    "data_language['LanguageWantToWorkWith'].value_counts()"
   ]
  },
  {
   "cell_type": "code",
   "execution_count": 19,
   "metadata": {},
   "outputs": [
    {
     "name": "stdout",
     "output_type": "stream",
     "text": [
      "{'JavaScript': 17498, 'SQL': 15328, 'HTML/CSS': 14601, 'Python': 13696, 'TypeScript': 11971, 'Bash/Shell (all shells)': 10303, 'Java': 8266, 'C#': 8116, 'C++': 5552, 'PHP': 5013}\n",
      "{'Python': 12056, 'SQL': 11884, 'JavaScript': 11775, 'TypeScript': 10909, 'HTML/CSS': 10239, 'Rust': 8821, 'Go': 7457, 'Bash/Shell (all shells)': 7117, 'C#': 6859, 'Java': 5168}\n"
     ]
    }
   ],
   "source": [
    "from collections import Counter\n",
    "\n",
    "# Split languages and count occurences\n",
    "have_worked = [lang.strip() for langs in data_language['LanguageHaveWorkedWith'].str.split(';') for lang in langs if lang.strip()]\n",
    "want_to_work = [lang.strip() for langs in data_language['LanguageWantToWorkWith'].str.split(';') for lang in langs if lang.strip()]\n",
    "have_worked_counts = dict(Counter(have_worked).most_common(10)) # 10 most common only\n",
    "want_to_work_counts = dict(Counter(want_to_work).most_common(10))\n",
    "\n",
    "print(have_worked_counts)\n",
    "print(want_to_work_counts)"
   ]
  },
  {
   "cell_type": "code",
   "execution_count": 20,
   "metadata": {},
   "outputs": [
    {
     "data": {
      "image/png": "[encoded data removed]",
      "text/plain": [
       "<Figure size 640x480 with 1 Axes>"
      ]
     },
     "metadata": {},
     "output_type": "display_data"
    }
   ],
   "source": [
    "from matplotlib_venn import venn2\n",
    "\n",
    "# Venn Diagram\n",
    "venn = venn2([set(have_worked_counts), set(want_to_work_counts)], set_labels=('Have Worked With', 'Want to Work With'))\n",
    "venn.get_label_by_id('100').set_text('\\n'.join(set(have_worked_counts) - set(want_to_work_counts)))\n",
    "venn.get_label_by_id('010').set_text('\\n'.join(set(want_to_work_counts) - set(have_worked_counts)))\n",
    "venn.get_label_by_id('110').set_text('\\n'.join(set(have_worked_counts) & set(want_to_work_counts)))\n",
    "plt.title('Top 10 Programming Languages: Worked With vs. Want to Work With')\n",
    "plt.show()"
   ]
  },
  {
   "cell_type": "code",
   "execution_count": 21,
   "metadata": {},
   "outputs": [
    {
     "data": {
      "image/png": "[encoded data removed]",
      "text/plain": [
       "<Figure size 1400x700 with 1 Axes>"
      ]
     },
     "metadata": {},
     "output_type": "display_data"
    }
   ],
   "source": [
    "# Grouped Bar Chart\n",
    "languages = sorted(set(have_worked_counts) | set(want_to_work_counts))\n",
    "have_counts = [have_worked_counts.get(lang, 0) for lang in languages]\n",
    "want_counts = [want_to_work_counts.get(lang, 0) for lang in languages]\n",
    "x = range(len(languages))\n",
    "width = 0.35\n",
    "\n",
    "fig, ax = plt.subplots(figsize=(14, 7))\n",
    "rects1 = ax.bar([i - width/2 for i in x], have_counts, width, label='Have Worked With')\n",
    "rects2 = ax.bar([i + width/2 for i in x], want_counts, width, label='Want to Work With')\n",
    "ax.set_ylabel('Number of Respondents')\n",
    "ax.set_title('Comparison of Top 10 Programming Languages')\n",
    "ax.set_xticks(x)\n",
    "ax.set_xticklabels(languages, rotation=45, ha='right')\n",
    "ax.legend()\n",
    "plt.show()"
   ]
  },
  {
   "cell_type": "markdown",
   "id": "96d4a673-d784-437b-8145-4bc8c98c29f2",
   "metadata": {},
   "source": [
    "### Step 7: Analyze Remote Work Trends\n"
   ]
  },
  {
   "cell_type": "markdown",
   "id": "fb765a14-5d10-4018-bd97-5244499d984d",
   "metadata": {},
   "source": [
    "- Visualize the distribution of RemoteWork by region using a grouped bar chart or heatmap.\n"
   ]
  },
  {
   "cell_type": "code",
   "execution_count": 22,
   "id": "8e62793b-0982-4d16-a151-18d0e05a93e1",
   "metadata": {},
   "outputs": [
    {
     "data": {
      "text/html": [
       "<div>\n",
       "<style scoped>\n",
       "    .dataframe tbody tr th:only-of-type {\n",
       "        vertical-align: middle;\n",
       "    }\n",
       "\n",
       "    .dataframe tbody tr th {\n",
       "        vertical-align: top;\n",
       "    }\n",
       "\n",
       "    .dataframe thead th {\n",
       "        text-align: right;\n",
       "    }\n",
       "</style>\n",
       "<table border=\"1\" class=\"dataframe\">\n",
       "  <thead>\n",
       "    <tr style=\"text-align: right;\">\n",
       "      <th></th>\n",
       "      <th>RemoteWork</th>\n",
       "      <th>Country</th>\n",
       "    </tr>\n",
       "  </thead>\n",
       "  <tbody>\n",
       "    <tr>\n",
       "      <th>0</th>\n",
       "      <td>Remote</td>\n",
       "      <td>United States of America</td>\n",
       "    </tr>\n",
       "    <tr>\n",
       "      <th>1</th>\n",
       "      <td>Hybrid (some remote, some in-person)</td>\n",
       "      <td>United States of America</td>\n",
       "    </tr>\n",
       "    <tr>\n",
       "      <th>2</th>\n",
       "      <td>Hybrid (some remote, some in-person)</td>\n",
       "      <td>Switzerland</td>\n",
       "    </tr>\n",
       "    <tr>\n",
       "      <th>3</th>\n",
       "      <td>Hybrid (some remote, some in-person)</td>\n",
       "      <td>Germany</td>\n",
       "    </tr>\n",
       "    <tr>\n",
       "      <th>4</th>\n",
       "      <td>Hybrid (some remote, some in-person)</td>\n",
       "      <td>Germany</td>\n",
       "    </tr>\n",
       "  </tbody>\n",
       "</table>\n",
       "</div>"
      ],
      "text/plain": [
       "                             RemoteWork                   Country\n",
       "0                                Remote  United States of America\n",
       "1  Hybrid (some remote, some in-person)  United States of America\n",
       "2  Hybrid (some remote, some in-person)               Switzerland\n",
       "3  Hybrid (some remote, some in-person)                   Germany\n",
       "4  Hybrid (some remote, some in-person)                   Germany"
      ]
     },
     "execution_count": 22,
     "metadata": {},
     "output_type": "execute_result"
    }
   ],
   "source": [
    "remotework = data_subset[['RemoteWork', 'Country']].dropna().reset_index(drop=True)\n",
    "remotework.head()"
   ]
  },
  {
   "cell_type": "code",
   "execution_count": 23,
   "metadata": {},
   "outputs": [
    {
     "data": {
      "text/plain": [
       "RemoteWork\n",
       "Hybrid       12622\n",
       "Remote       11103\n",
       "In-person     5392\n",
       "Name: count, dtype: int64"
      ]
     },
     "execution_count": 23,
     "metadata": {},
     "output_type": "execute_result"
    }
   ],
   "source": [
    "remotework['RemoteWork'] = remotework['RemoteWork'].replace('Hybrid (some remote, some in-person)', 'Hybrid')\n",
    "remotework['RemoteWork'].value_counts()"
   ]
  },
  {
   "cell_type": "code",
   "execution_count": 24,
   "metadata": {},
   "outputs": [
    {
     "data": {
      "text/plain": [
       "Country\n",
       "United States of America                                5533\n",
       "Germany                                                 2589\n",
       "India                                                   2009\n",
       "United Kingdom of Great Britain and Northern Ireland    1597\n",
       "Ukraine                                                 1235\n",
       "                                                        ... \n",
       "Niger                                                      1\n",
       "Lesotho                                                    1\n",
       "Botswana                                                   1\n",
       "Monaco                                                     1\n",
       "Haiti                                                      1\n",
       "Name: count, Length: 166, dtype: int64"
      ]
     },
     "execution_count": 24,
     "metadata": {},
     "output_type": "execute_result"
    }
   ],
   "source": [
    "remotework['Country'].value_counts()"
   ]
  },
  {
   "cell_type": "code",
   "execution_count": 25,
   "metadata": {},
   "outputs": [
    {
     "data": {
      "text/html": [
       "<div>\n",
       "<style scoped>\n",
       "    .dataframe tbody tr th:only-of-type {\n",
       "        vertical-align: middle;\n",
       "    }\n",
       "\n",
       "    .dataframe tbody tr th {\n",
       "        vertical-align: top;\n",
       "    }\n",
       "\n",
       "    .dataframe thead th {\n",
       "        text-align: right;\n",
       "    }\n",
       "</style>\n",
       "<table border=\"1\" class=\"dataframe\">\n",
       "  <thead>\n",
       "    <tr style=\"text-align: right;\">\n",
       "      <th>Country</th>\n",
       "      <th>Germany</th>\n",
       "      <th>India</th>\n",
       "      <th>Ukraine</th>\n",
       "    </tr>\n",
       "    <tr>\n",
       "      <th>RemoteWork</th>\n",
       "      <th></th>\n",
       "      <th></th>\n",
       "      <th></th>\n",
       "    </tr>\n",
       "  </thead>\n",
       "  <tbody>\n",
       "    <tr>\n",
       "      <th>Hybrid</th>\n",
       "      <td>0.582078</td>\n",
       "      <td>0.396715</td>\n",
       "      <td>0.203239</td>\n",
       "    </tr>\n",
       "    <tr>\n",
       "      <th>In-person</th>\n",
       "      <td>0.142912</td>\n",
       "      <td>0.361374</td>\n",
       "      <td>0.041296</td>\n",
       "    </tr>\n",
       "    <tr>\n",
       "      <th>Remote</th>\n",
       "      <td>0.275010</td>\n",
       "      <td>0.241911</td>\n",
       "      <td>0.755466</td>\n",
       "    </tr>\n",
       "  </tbody>\n",
       "</table>\n",
       "</div>"
      ],
      "text/plain": [
       "Country      Germany     India   Ukraine\n",
       "RemoteWork                              \n",
       "Hybrid      0.582078  0.396715  0.203239\n",
       "In-person   0.142912  0.361374  0.041296\n",
       "Remote      0.275010  0.241911  0.755466"
      ]
     },
     "execution_count": 25,
     "metadata": {},
     "output_type": "execute_result"
    }
   ],
   "source": [
    "countries = ['USA', 'Germany', 'India', 'Ukraine']\n",
    "remotework = remotework[remotework['Country'].isin(countries)]\n",
    "remotework_cross = pd.crosstab(remotework['RemoteWork'], remotework['Country'], normalize='columns')\n",
    "remotework_cross"
   ]
  },
  {
   "cell_type": "code",
   "execution_count": 26,
   "metadata": {},
   "outputs": [
    {
     "data": {
      "image/png": "[encoded data removed]",
      "text/plain": [
       "<Figure size 640x480 with 2 Axes>"
      ]
     },
     "metadata": {},
     "output_type": "display_data"
    }
   ],
   "source": [
    "sns.heatmap(remotework_cross, annot=True, fmt='.1%', cmap='YlGnBu')\n",
    "plt.title('Distribution of Work Arrangement by Country')\n",
    "plt.xlabel('Country')\n",
    "plt.ylabel('Work Arrangement')\n",
    "plt.show()"
   ]
  },
  {
   "cell_type": "markdown",
   "id": "e18b5e89-f7d6-4ac6-bf6c-e5317d7e523f",
   "metadata": {},
   "source": [
    "### Step 8: Correlation between Job Satisfaction and Experience\n"
   ]
  },
  {
   "cell_type": "markdown",
   "id": "10c71589-0b90-45f9-8c24-1a91a35adad4",
   "metadata": {},
   "source": [
    "- Analyze the correlation between overall job satisfaction (`JobSat`) and `YearsCodePro`.\n",
    "  \n",
    "- Calculate the Pearson or Spearman correlation coefficient.\n"
   ]
  },
  {
   "cell_type": "code",
   "execution_count": 27,
   "id": "08fd52c4-c87c-497d-8048-46361240e57e",
   "metadata": {},
   "outputs": [],
   "source": [
    "jobsat_corr = data_subset[['JobSat', 'YearsCodePro']].dropna().reset_index(drop=True)"
   ]
  },
  {
   "cell_type": "code",
   "execution_count": 28,
   "metadata": {},
   "outputs": [
    {
     "data": {
      "image/png": "[encoded data removed]",
      "text/plain": [
       "<Figure size 640x480 with 1 Axes>"
      ]
     },
     "metadata": {},
     "output_type": "display_data"
    }
   ],
   "source": [
    "sns.regplot(data=jobsat_corr, x='YearsCodePro', y='JobSat', line_kws={'color': 'red'})\n",
    "plt.title('Relation Between Coding Experience and Job Satisfaction')\n",
    "plt.xlabel('Years of Coding Experience')\n",
    "plt.ylabel('Job Satisfaction Score (Q1)')\n",
    "plt.tight_layout()\n",
    "plt.show()"
   ]
  },
  {
   "cell_type": "code",
   "execution_count": 29,
   "metadata": {},
   "outputs": [
    {
     "name": "stdout",
     "output_type": "stream",
     "text": [
      "Pearson correlation coefficient: 0.10210764725384082\n",
      "Spearman correlation coefficient: 0.11461195407579211\n"
     ]
    }
   ],
   "source": [
    "# Pearson correlation coefficient\n",
    "correlation_pearson = jobsat_corr['JobSat'].corr(jobsat_corr['YearsCodePro'], method='pearson')\n",
    "print(f\"Pearson correlation coefficient: {correlation_pearson}\")\n",
    "\n",
    "# Spearman correlation coefficient\n",
    "correlation_spearman = jobsat_corr['JobSat'].corr(jobsat_corr['YearsCodePro'], method='spearman')\n",
    "print(f\"Spearman correlation coefficient: {correlation_spearman}\")"
   ]
  },
  {
   "cell_type": "markdown",
   "id": "667bc348-3af3-4260-8304-636f5cba3f3a",
   "metadata": {},
   "source": [
    "### Step 9: Cross-tabulation Analysis (Employment vs. Education Level)\n"
   ]
  },
  {
   "cell_type": "markdown",
   "id": "46fbc1d0-7954-4e3b-8587-ef56c9980481",
   "metadata": {},
   "source": [
    "- Analyze the relationship between employment status (`Employment`) and education level (`EdLevel`).\n",
    "\n",
    "- **Instruction**: Create a cross-tabulation using `pd.crosstab()` and visualize it with a stacked bar plot if possible.\n"
   ]
  },
  {
   "cell_type": "code",
   "execution_count": 30,
   "id": "f6a8c598-0255-4b0c-b321-fd584f216eb1",
   "metadata": {},
   "outputs": [
    {
     "data": {
      "text/plain": [
       "EdLevel\n",
       "Bachelor’s degree (B.A., B.S., B.Eng., etc.)                                          13126\n",
       "Master’s degree (M.A., M.S., M.Eng., MBA, etc.)                                        8414\n",
       "Some college/university study without earning a degree                                 3340\n",
       "Secondary school (e.g. American high school, German Realschule or Gymnasium, etc.)     1508\n",
       "Professional degree (JD, MD, Ph.D, Ed.D, etc.)                                         1401\n",
       "Associate degree (A.A., A.S., etc.)                                                     903\n",
       "Something else                                                                          289\n",
       "Primary/elementary school                                                               145\n",
       "Name: count, dtype: int64"
      ]
     },
     "execution_count": 30,
     "metadata": {},
     "output_type": "execute_result"
    }
   ],
   "source": [
    "data_subset['EdLevel'].value_counts()"
   ]
  },
  {
   "cell_type": "code",
   "execution_count": 31,
   "metadata": {},
   "outputs": [
    {
     "data": {
      "text/plain": [
       "EdLevel\n",
       "Bachelor’s Degree         13126\n",
       "Master’s Degree            8414\n",
       "Some College               3340\n",
       "High School                1508\n",
       "Doctorate/Prof. Degree     1401\n",
       "Associate Degree            903\n",
       "Other                       289\n",
       "Primary School              145\n",
       "Name: count, dtype: int64"
      ]
     },
     "execution_count": 31,
     "metadata": {},
     "output_type": "execute_result"
    }
   ],
   "source": [
    "# Standardize education Level\n",
    "edlevel_mapping = {\n",
    "    'Primary/elementary school': 'Primary School',\n",
    "    'Secondary school (e.g. American high school, German Realschule or Gymnasium, etc.)': 'High School',\n",
    "    'Some college/university study without earning a degree': 'Some College',\n",
    "    'Associate degree (A.A., A.S., etc.)': 'Associate Degree',\n",
    "    'Bachelor’s degree (B.A., B.S., B.Eng., etc.)': 'Bachelor’s Degree',\n",
    "    'Master’s degree (M.A., M.S., M.Eng., MBA, etc.)': 'Master’s Degree',\n",
    "    'Professional degree (JD, MD, Ph.D, Ed.D, etc.)': 'Doctorate/Prof. Degree',\n",
    "    'Something else': 'Other'\n",
    "}\n",
    "\n",
    "data_subset['EdLevel'] = data_subset['EdLevel'].replace(edlevel_mapping)\n",
    "data_subset['EdLevel'].value_counts()"
   ]
  },
  {
   "cell_type": "code",
   "execution_count": 32,
   "metadata": {},
   "outputs": [
    {
     "data": {
      "text/html": [
       "<div>\n",
       "<style scoped>\n",
       "    .dataframe tbody tr th:only-of-type {\n",
       "        vertical-align: middle;\n",
       "    }\n",
       "\n",
       "    .dataframe tbody tr th {\n",
       "        vertical-align: top;\n",
       "    }\n",
       "\n",
       "    .dataframe thead th {\n",
       "        text-align: right;\n",
       "    }\n",
       "</style>\n",
       "<table border=\"1\" class=\"dataframe\">\n",
       "  <thead>\n",
       "    <tr style=\"text-align: right;\">\n",
       "      <th></th>\n",
       "      <th>Employment</th>\n",
       "      <th>EdLevel</th>\n",
       "    </tr>\n",
       "  </thead>\n",
       "  <tbody>\n",
       "    <tr>\n",
       "      <th>0</th>\n",
       "      <td>Employed</td>\n",
       "      <td>Bachelor’s Degree</td>\n",
       "    </tr>\n",
       "    <tr>\n",
       "      <th>1</th>\n",
       "      <td>Employed</td>\n",
       "      <td>Bachelor’s Degree</td>\n",
       "    </tr>\n",
       "    <tr>\n",
       "      <th>2</th>\n",
       "      <td>Employed</td>\n",
       "      <td>Some College</td>\n",
       "    </tr>\n",
       "    <tr>\n",
       "      <th>3</th>\n",
       "      <td>Employed</td>\n",
       "      <td>Some College</td>\n",
       "    </tr>\n",
       "    <tr>\n",
       "      <th>4</th>\n",
       "      <td>Employed</td>\n",
       "      <td>Master’s Degree</td>\n",
       "    </tr>\n",
       "  </tbody>\n",
       "</table>\n",
       "</div>"
      ],
      "text/plain": [
       "  Employment            EdLevel\n",
       "0   Employed  Bachelor’s Degree\n",
       "1   Employed  Bachelor’s Degree\n",
       "2   Employed       Some College\n",
       "3   Employed       Some College\n",
       "4   Employed    Master’s Degree"
      ]
     },
     "execution_count": 32,
     "metadata": {},
     "output_type": "execute_result"
    }
   ],
   "source": [
    "emp_cross = data_subset[['Employment', 'EdLevel']].dropna().reset_index(drop=True)\n",
    "emp_cross.head()"
   ]
  },
  {
   "cell_type": "code",
   "execution_count": 33,
   "metadata": {},
   "outputs": [
    {
     "data": {
      "text/html": [
       "<div>\n",
       "<style scoped>\n",
       "    .dataframe tbody tr th:only-of-type {\n",
       "        vertical-align: middle;\n",
       "    }\n",
       "\n",
       "    .dataframe tbody tr th {\n",
       "        vertical-align: top;\n",
       "    }\n",
       "\n",
       "    .dataframe thead th {\n",
       "        text-align: right;\n",
       "    }\n",
       "</style>\n",
       "<table border=\"1\" class=\"dataframe\">\n",
       "  <thead>\n",
       "    <tr style=\"text-align: right;\">\n",
       "      <th>EdLevel</th>\n",
       "      <th>Associate Degree</th>\n",
       "      <th>Bachelor’s Degree</th>\n",
       "      <th>Doctorate/Prof. Degree</th>\n",
       "      <th>High School</th>\n",
       "      <th>Master’s Degree</th>\n",
       "      <th>Other</th>\n",
       "      <th>Primary School</th>\n",
       "      <th>Some College</th>\n",
       "    </tr>\n",
       "    <tr>\n",
       "      <th>Employment</th>\n",
       "      <th></th>\n",
       "      <th></th>\n",
       "      <th></th>\n",
       "      <th></th>\n",
       "      <th></th>\n",
       "      <th></th>\n",
       "      <th></th>\n",
       "      <th></th>\n",
       "    </tr>\n",
       "  </thead>\n",
       "  <tbody>\n",
       "    <tr>\n",
       "      <th>Employed</th>\n",
       "      <td>0.029959</td>\n",
       "      <td>0.463057</td>\n",
       "      <td>0.051168</td>\n",
       "      <td>0.041038</td>\n",
       "      <td>0.298948</td>\n",
       "      <td>0.009527</td>\n",
       "      <td>0.004526</td>\n",
       "      <td>0.101776</td>\n",
       "    </tr>\n",
       "    <tr>\n",
       "      <th>Multiple</th>\n",
       "      <td>0.037164</td>\n",
       "      <td>0.409654</td>\n",
       "      <td>0.035028</td>\n",
       "      <td>0.099957</td>\n",
       "      <td>0.227040</td>\n",
       "      <td>0.012815</td>\n",
       "      <td>0.007689</td>\n",
       "      <td>0.170654</td>\n",
       "    </tr>\n",
       "    <tr>\n",
       "      <th>Self-employed</th>\n",
       "      <td>0.027309</td>\n",
       "      <td>0.374297</td>\n",
       "      <td>0.040161</td>\n",
       "      <td>0.070683</td>\n",
       "      <td>0.333333</td>\n",
       "      <td>0.006426</td>\n",
       "      <td>0.003213</td>\n",
       "      <td>0.144578</td>\n",
       "    </tr>\n",
       "    <tr>\n",
       "      <th>Unemployed</th>\n",
       "      <td>0.000000</td>\n",
       "      <td>0.000000</td>\n",
       "      <td>0.000000</td>\n",
       "      <td>0.000000</td>\n",
       "      <td>1.000000</td>\n",
       "      <td>0.000000</td>\n",
       "      <td>0.000000</td>\n",
       "      <td>0.000000</td>\n",
       "    </tr>\n",
       "  </tbody>\n",
       "</table>\n",
       "</div>"
      ],
      "text/plain": [
       "EdLevel        Associate Degree  Bachelor’s Degree  Doctorate/Prof. Degree  \\\n",
       "Employment                                                                   \n",
       "Employed               0.029959           0.463057                0.051168   \n",
       "Multiple               0.037164           0.409654                0.035028   \n",
       "Self-employed          0.027309           0.374297                0.040161   \n",
       "Unemployed             0.000000           0.000000                0.000000   \n",
       "\n",
       "EdLevel        High School  Master’s Degree     Other  Primary School  \\\n",
       "Employment                                                              \n",
       "Employed          0.041038         0.298948  0.009527        0.004526   \n",
       "Multiple          0.099957         0.227040  0.012815        0.007689   \n",
       "Self-employed     0.070683         0.333333  0.006426        0.003213   \n",
       "Unemployed        0.000000         1.000000  0.000000        0.000000   \n",
       "\n",
       "EdLevel        Some College  \n",
       "Employment                   \n",
       "Employed           0.101776  \n",
       "Multiple           0.170654  \n",
       "Self-employed      0.144578  \n",
       "Unemployed         0.000000  "
      ]
     },
     "execution_count": 33,
     "metadata": {},
     "output_type": "execute_result"
    }
   ],
   "source": [
    "emp_cross = pd.crosstab(data_subset['Employment'], data_subset['EdLevel'], normalize='index')\n",
    "emp_cross"
   ]
  },
  {
   "cell_type": "code",
   "execution_count": 34,
   "metadata": {},
   "outputs": [
    {
     "data": {
      "image/png": "[encoded data removed]",
      "text/plain": [
       "<Figure size 640x480 with 1 Axes>"
      ]
     },
     "metadata": {},
     "output_type": "display_data"
    }
   ],
   "source": [
    "emp_cross.plot(kind='bar', stacked=True)\n",
    "plt.title('Employment Status by Education Level')\n",
    "plt.xlabel('Employment Status')\n",
    "plt.ylabel('Percentage of Respondents')\n",
    "plt.xticks(rotation=45)\n",
    "plt.legend(title='Education Level', bbox_to_anchor=(1.05, 1), loc='upper left')\n",
    "plt.show()"
   ]
  },
  {
   "cell_type": "markdown",
   "id": "8c7af7a4-2289-4da5-9d83-90b117682c00",
   "metadata": {},
   "source": [
    "### Step 10: Export Cleaned Data\n"
   ]
  },
  {
   "cell_type": "markdown",
   "id": "2fc6a832-dd1d-434a-9157-00d9edc5bd93",
   "metadata": {},
   "source": [
    "- Save the cleaned dataset to a new CSV file for further use or sharing.\n"
   ]
  },
  {
   "cell_type": "code",
   "execution_count": 35,
   "id": "c271d03f-bde1-4895-99b7-02e4445636eb",
   "metadata": {},
   "outputs": [],
   "source": [
    "data_subset.to_csv('cleaned_survey_data.csv', index=False)"
   ]
  },
  {
   "cell_type": "markdown",
   "id": "235ee8dd-edb1-4fa8-889a-df573c323be7",
   "metadata": {},
   "source": [
    "### Summary:\n"
   ]
  },
  {
   "cell_type": "markdown",
   "id": "fd71e05c-b664-4fc8-8cce-b69bfdb7d076",
   "metadata": {},
   "source": [
    "In this lab, you practiced key skills in exploratory data analysis, including:\n"
   ]
  },
  {
   "cell_type": "markdown",
   "id": "8b85030c-be9e-465e-8096-49343d0af099",
   "metadata": {},
   "source": [
    "- Examining the structure and content of the Stack Overflow survey dataset to understand its variables and data types.\n",
    "\n",
    "- Identifying and addressing missing data to ensure the dataset's quality and completeness.\n",
    "\n",
    "- Summarizing and visualizing key variables such as job satisfaction, programming languages, and remote work trends.\n",
    "\n",
    "- Analyzing relationships in the data using techniques like:\n",
    "    - Comparing programming languages respondents have worked with versus those they want to work with.\n",
    "      \n",
    "    - Exploring remote work preferences by region.\n",
    "\n",
    "- Investigating correlations between professional coding experience and job satisfaction.\n",
    "\n",
    "- Performing cross-tabulations to analyze relationships between employment status and education levels.\n"
   ]
  },
  {
   "cell_type": "markdown",
   "id": "3b66ebba-a907-43e0-94c9-bb211060681d",
   "metadata": {},
   "source": [
    "## Authors:\n",
    "Ayushi Jain\n"
   ]
  },
  {
   "cell_type": "markdown",
   "id": "f980ca44-bfef-42b1-a3fa-b3d13ffa1f12",
   "metadata": {},
   "source": [
    "### Other Contributors:\n",
    "Rav Ahuja\n",
    "Lakshmi Holla\n",
    "Malika\n"
   ]
  },
  {
   "cell_type": "markdown",
   "id": "8eaf56b8-9de2-4a84-8de7-9473998cc36f",
   "metadata": {},
   "source": [
    "Copyright © IBM Corporation. All rights reserved.\n"
   ]
  }
 ],
 "metadata": {
  "kernelspec": {
   "display_name": "Python 3",
   "language": "python",
   "name": "python3"
  },
  "language_info": {
   "codemirror_mode": {
    "name": "ipython",
    "version": 3
   },
   "file_extension": ".py",
   "mimetype": "text/x-python",
   "name": "python",
   "nbconvert_exporter": "python",
   "pygments_lexer": "ipython3",
   "version": "3.12.10"
  },
  "prev_pub_hash": "1d85068db2e9321c0f82f53364642bad437fc727f27ebcc94dcddab25e9a8289"
 },
 "nbformat": 4,
 "nbformat_minor": 4
}
