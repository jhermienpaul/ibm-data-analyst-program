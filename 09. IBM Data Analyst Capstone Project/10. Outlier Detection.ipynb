{
 "cells": [
  {
   "cell_type": "markdown",
   "id": "c9d7a3c5-4078-415e-896c-f01eb0a5d448",
   "metadata": {},
   "source": [
    "<p style=\"text-align:center\">\n",
    "    <a href=\"https://skills.network\" target=\"_blank\">\n",
    "    <img src=\"https://cf-courses-data.s3.us.cloud-object-storage.appdomain.cloud/assets/logos/SN_web_lightmode.png\" width=\"200\" alt=\"Skills Network Logo\"  />\n",
    "    </a>\n",
    "</p>\n"
   ]
  },
  {
   "cell_type": "markdown",
   "id": "6ed57a31-fcd1-48e9-99b1-3cd5e628b060",
   "metadata": {},
   "source": [
    "# **Outlier Detection**\n"
   ]
  },
  {
   "cell_type": "markdown",
   "id": "048cc4a5-f44a-4db6-819d-69f645e98ec0",
   "metadata": {},
   "source": [
    "Estimated time needed: **30** minutes\n"
   ]
  },
  {
   "cell_type": "markdown",
   "id": "5f4bce34-fe79-456a-b56a-b3dceb6e8b3f",
   "metadata": {},
   "source": [
    "In this lab, you will work with a cleaned dataset to perform exploratory data analysis or EDA. \n",
    "You will explore the distribution of key variables and focus on identifying outliers in this lab.\n"
   ]
  },
  {
   "cell_type": "markdown",
   "id": "81ed08ed-e382-4253-906b-3d09d00fbe09",
   "metadata": {},
   "source": [
    "## Objectives\n"
   ]
  },
  {
   "cell_type": "markdown",
   "id": "50ac3c08-f20a-4495-b4fe-2103867fb591",
   "metadata": {},
   "source": [
    "In this lab, you will perform the following:\n"
   ]
  },
  {
   "cell_type": "markdown",
   "id": "8474852c-c5a8-4d47-b749-245e3ffe31f5",
   "metadata": {},
   "source": [
    "-  Analyze the distribution of key variables in the dataset.\n",
    "\n",
    "-  Identify and remove outliers using statistical methods.\n",
    "\n",
    "-  Perform relevant statistical and correlation analysis.\n"
   ]
  },
  {
   "cell_type": "markdown",
   "id": "c3067397-2604-4c2d-b4c0-8e70ff706104",
   "metadata": {},
   "source": [
    "#### Install and import the required libraries\n"
   ]
  },
  {
   "cell_type": "code",
   "execution_count": 1,
   "id": "777e2d56-5d29-412b-b654-5b5e497a81e5",
   "metadata": {},
   "outputs": [],
   "source": [
    "# !pip install pandas\n",
    "# !pip install matplotlib\n",
    "# !pip install seaborn\n",
    "\n",
    "import pandas as pd\n",
    "import matplotlib.pyplot as plt\n",
    "import seaborn as sns"
   ]
  },
  {
   "cell_type": "markdown",
   "id": "87b836f2-b42c-45b0-a10d-8bdec3b2d173",
   "metadata": {},
   "source": [
    "<h3>Step 1: Load and Explore the Dataset</h3>\n"
   ]
  },
  {
   "cell_type": "markdown",
   "id": "789fb6a5-bc53-4991-b679-61bd99a534fc",
   "metadata": {},
   "source": [
    "Load the dataset into a DataFrame and examine the structure of the data.\n"
   ]
  },
  {
   "cell_type": "code",
   "execution_count": 2,
   "id": "24f3406c-48c7-4776-969c-1bcac591816d",
   "metadata": {},
   "outputs": [
    {
     "data": {
      "text/html": [
       "<div>\n",
       "<style scoped>\n",
       "    .dataframe tbody tr th:only-of-type {\n",
       "        vertical-align: middle;\n",
       "    }\n",
       "\n",
       "    .dataframe tbody tr th {\n",
       "        vertical-align: top;\n",
       "    }\n",
       "\n",
       "    .dataframe thead th {\n",
       "        text-align: right;\n",
       "    }\n",
       "</style>\n",
       "<table border=\"1\" class=\"dataframe\">\n",
       "  <thead>\n",
       "    <tr style=\"text-align: right;\">\n",
       "      <th></th>\n",
       "      <th>ResponseId</th>\n",
       "      <th>MainBranch</th>\n",
       "      <th>Age</th>\n",
       "      <th>Employment</th>\n",
       "      <th>RemoteWork</th>\n",
       "      <th>Check</th>\n",
       "      <th>CodingActivities</th>\n",
       "      <th>EdLevel</th>\n",
       "      <th>LearnCode</th>\n",
       "      <th>LearnCodeOnline</th>\n",
       "      <th>...</th>\n",
       "      <th>JobSatPoints_6</th>\n",
       "      <th>JobSatPoints_7</th>\n",
       "      <th>JobSatPoints_8</th>\n",
       "      <th>JobSatPoints_9</th>\n",
       "      <th>JobSatPoints_10</th>\n",
       "      <th>JobSatPoints_11</th>\n",
       "      <th>SurveyLength</th>\n",
       "      <th>SurveyEase</th>\n",
       "      <th>ConvertedCompYearly</th>\n",
       "      <th>JobSat</th>\n",
       "    </tr>\n",
       "  </thead>\n",
       "  <tbody>\n",
       "    <tr>\n",
       "      <th>0</th>\n",
       "      <td>1</td>\n",
       "      <td>I am a developer by profession</td>\n",
       "      <td>Under 18 years old</td>\n",
       "      <td>Employed, full-time</td>\n",
       "      <td>Remote</td>\n",
       "      <td>Apples</td>\n",
       "      <td>Hobby</td>\n",
       "      <td>Primary/elementary school</td>\n",
       "      <td>Books / Physical media</td>\n",
       "      <td>NaN</td>\n",
       "      <td>...</td>\n",
       "      <td>NaN</td>\n",
       "      <td>NaN</td>\n",
       "      <td>NaN</td>\n",
       "      <td>NaN</td>\n",
       "      <td>NaN</td>\n",
       "      <td>NaN</td>\n",
       "      <td>NaN</td>\n",
       "      <td>NaN</td>\n",
       "      <td>NaN</td>\n",
       "      <td>NaN</td>\n",
       "    </tr>\n",
       "    <tr>\n",
       "      <th>1</th>\n",
       "      <td>2</td>\n",
       "      <td>I am a developer by profession</td>\n",
       "      <td>35-44 years old</td>\n",
       "      <td>Employed, full-time</td>\n",
       "      <td>Remote</td>\n",
       "      <td>Apples</td>\n",
       "      <td>Hobby;Contribute to open-source projects;Other...</td>\n",
       "      <td>Bachelor’s degree (B.A., B.S., B.Eng., etc.)</td>\n",
       "      <td>Books / Physical media;Colleague;On the job tr...</td>\n",
       "      <td>Technical documentation;Blogs;Books;Written Tu...</td>\n",
       "      <td>...</td>\n",
       "      <td>0.0</td>\n",
       "      <td>0.0</td>\n",
       "      <td>0.0</td>\n",
       "      <td>0.0</td>\n",
       "      <td>0.0</td>\n",
       "      <td>0.0</td>\n",
       "      <td>NaN</td>\n",
       "      <td>NaN</td>\n",
       "      <td>NaN</td>\n",
       "      <td>NaN</td>\n",
       "    </tr>\n",
       "    <tr>\n",
       "      <th>2</th>\n",
       "      <td>3</td>\n",
       "      <td>I am a developer by profession</td>\n",
       "      <td>45-54 years old</td>\n",
       "      <td>Employed, full-time</td>\n",
       "      <td>Remote</td>\n",
       "      <td>Apples</td>\n",
       "      <td>Hobby;Contribute to open-source projects;Other...</td>\n",
       "      <td>Master’s degree (M.A., M.S., M.Eng., MBA, etc.)</td>\n",
       "      <td>Books / Physical media;Colleague;On the job tr...</td>\n",
       "      <td>Technical documentation;Blogs;Books;Written Tu...</td>\n",
       "      <td>...</td>\n",
       "      <td>NaN</td>\n",
       "      <td>NaN</td>\n",
       "      <td>NaN</td>\n",
       "      <td>NaN</td>\n",
       "      <td>NaN</td>\n",
       "      <td>NaN</td>\n",
       "      <td>Appropriate in length</td>\n",
       "      <td>Easy</td>\n",
       "      <td>NaN</td>\n",
       "      <td>NaN</td>\n",
       "    </tr>\n",
       "    <tr>\n",
       "      <th>3</th>\n",
       "      <td>4</td>\n",
       "      <td>I am learning to code</td>\n",
       "      <td>18-24 years old</td>\n",
       "      <td>Student, full-time</td>\n",
       "      <td>NaN</td>\n",
       "      <td>Apples</td>\n",
       "      <td>NaN</td>\n",
       "      <td>Some college/university study without earning ...</td>\n",
       "      <td>Other online resources (e.g., videos, blogs, f...</td>\n",
       "      <td>Stack Overflow;How-to videos;Interactive tutorial</td>\n",
       "      <td>...</td>\n",
       "      <td>NaN</td>\n",
       "      <td>NaN</td>\n",
       "      <td>NaN</td>\n",
       "      <td>NaN</td>\n",
       "      <td>NaN</td>\n",
       "      <td>NaN</td>\n",
       "      <td>Too long</td>\n",
       "      <td>Easy</td>\n",
       "      <td>NaN</td>\n",
       "      <td>NaN</td>\n",
       "    </tr>\n",
       "    <tr>\n",
       "      <th>4</th>\n",
       "      <td>5</td>\n",
       "      <td>I am a developer by profession</td>\n",
       "      <td>18-24 years old</td>\n",
       "      <td>Student, full-time</td>\n",
       "      <td>NaN</td>\n",
       "      <td>Apples</td>\n",
       "      <td>NaN</td>\n",
       "      <td>Secondary school (e.g. American high school, G...</td>\n",
       "      <td>Other online resources (e.g., videos, blogs, f...</td>\n",
       "      <td>Technical documentation;Blogs;Written Tutorial...</td>\n",
       "      <td>...</td>\n",
       "      <td>NaN</td>\n",
       "      <td>NaN</td>\n",
       "      <td>NaN</td>\n",
       "      <td>NaN</td>\n",
       "      <td>NaN</td>\n",
       "      <td>NaN</td>\n",
       "      <td>Too short</td>\n",
       "      <td>Easy</td>\n",
       "      <td>NaN</td>\n",
       "      <td>NaN</td>\n",
       "    </tr>\n",
       "  </tbody>\n",
       "</table>\n",
       "<p>5 rows × 114 columns</p>\n",
       "</div>"
      ],
      "text/plain": [
       "   ResponseId                      MainBranch                 Age  \\\n",
       "0           1  I am a developer by profession  Under 18 years old   \n",
       "1           2  I am a developer by profession     35-44 years old   \n",
       "2           3  I am a developer by profession     45-54 years old   \n",
       "3           4           I am learning to code     18-24 years old   \n",
       "4           5  I am a developer by profession     18-24 years old   \n",
       "\n",
       "            Employment RemoteWork   Check  \\\n",
       "0  Employed, full-time     Remote  Apples   \n",
       "1  Employed, full-time     Remote  Apples   \n",
       "2  Employed, full-time     Remote  Apples   \n",
       "3   Student, full-time        NaN  Apples   \n",
       "4   Student, full-time        NaN  Apples   \n",
       "\n",
       "                                    CodingActivities  \\\n",
       "0                                              Hobby   \n",
       "1  Hobby;Contribute to open-source projects;Other...   \n",
       "2  Hobby;Contribute to open-source projects;Other...   \n",
       "3                                                NaN   \n",
       "4                                                NaN   \n",
       "\n",
       "                                             EdLevel  \\\n",
       "0                          Primary/elementary school   \n",
       "1       Bachelor’s degree (B.A., B.S., B.Eng., etc.)   \n",
       "2    Master’s degree (M.A., M.S., M.Eng., MBA, etc.)   \n",
       "3  Some college/university study without earning ...   \n",
       "4  Secondary school (e.g. American high school, G...   \n",
       "\n",
       "                                           LearnCode  \\\n",
       "0                             Books / Physical media   \n",
       "1  Books / Physical media;Colleague;On the job tr...   \n",
       "2  Books / Physical media;Colleague;On the job tr...   \n",
       "3  Other online resources (e.g., videos, blogs, f...   \n",
       "4  Other online resources (e.g., videos, blogs, f...   \n",
       "\n",
       "                                     LearnCodeOnline  ... JobSatPoints_6  \\\n",
       "0                                                NaN  ...            NaN   \n",
       "1  Technical documentation;Blogs;Books;Written Tu...  ...            0.0   \n",
       "2  Technical documentation;Blogs;Books;Written Tu...  ...            NaN   \n",
       "3  Stack Overflow;How-to videos;Interactive tutorial  ...            NaN   \n",
       "4  Technical documentation;Blogs;Written Tutorial...  ...            NaN   \n",
       "\n",
       "  JobSatPoints_7 JobSatPoints_8 JobSatPoints_9 JobSatPoints_10  \\\n",
       "0            NaN            NaN            NaN             NaN   \n",
       "1            0.0            0.0            0.0             0.0   \n",
       "2            NaN            NaN            NaN             NaN   \n",
       "3            NaN            NaN            NaN             NaN   \n",
       "4            NaN            NaN            NaN             NaN   \n",
       "\n",
       "  JobSatPoints_11           SurveyLength SurveyEase ConvertedCompYearly JobSat  \n",
       "0             NaN                    NaN        NaN                 NaN    NaN  \n",
       "1             0.0                    NaN        NaN                 NaN    NaN  \n",
       "2             NaN  Appropriate in length       Easy                 NaN    NaN  \n",
       "3             NaN               Too long       Easy                 NaN    NaN  \n",
       "4             NaN              Too short       Easy                 NaN    NaN  \n",
       "\n",
       "[5 rows x 114 columns]"
      ]
     },
     "execution_count": 2,
     "metadata": {},
     "output_type": "execute_result"
    }
   ],
   "source": [
    "file_url = \"https://cf-courses-data.s3.us.cloud-object-storage.appdomain.cloud/n01PQ9pSmiRX6520flujwQ/survey-data.csv\"\n",
    "\n",
    "#Create the dataframe\n",
    "df = pd.read_csv(file_url)\n",
    "\n",
    "#Display the top 10 records\n",
    "df.head()"
   ]
  },
  {
   "cell_type": "code",
   "execution_count": 3,
   "metadata": {},
   "outputs": [],
   "source": [
    "data = df.copy()"
   ]
  },
  {
   "cell_type": "markdown",
   "id": "5e841c9d-2f20-4c15-a85b-8db0ce788eca",
   "metadata": {},
   "source": [
    "<h3>Step 2: Plot the Distribution of Industry</h3>\n"
   ]
  },
  {
   "cell_type": "markdown",
   "id": "1fd0441f-ea23-479a-a3dd-fcd9295539cf",
   "metadata": {},
   "source": [
    "Explore how respondents are distributed across different industries.\n",
    "\n",
    "- Plot a bar chart to visualize the distribution of respondents by industry.\n",
    "\n",
    "- Highlight any notable trends.\n"
   ]
  },
  {
   "cell_type": "code",
   "execution_count": 4,
   "id": "ac4b3a57-a3d0-495c-bf6f-3dfd5b983cbc",
   "metadata": {},
   "outputs": [
    {
     "data": {
      "image/png": "[encoded data removed]",
      "text/plain": [
       "<Figure size 640x480 with 1 Axes>"
      ]
     },
     "metadata": {},
     "output_type": "display_data"
    }
   ],
   "source": [
    "dist_industry = data['Industry'].value_counts(ascending=True)\n",
    "dist_industry.plot(kind='barh')\n",
    "plt.title('Distribution of Respondents by Industry')\n",
    "plt.ylabel('Number of Respondents')\n",
    "plt.xlabel('Industry')\n",
    "plt.show()"
   ]
  },
  {
   "cell_type": "markdown",
   "id": "8576c7c7-12b1-4a15-a9d4-5118299238a7",
   "metadata": {},
   "source": [
    "<h3>Step 3: Identify High Compensation Outliers</h3>\n"
   ]
  },
  {
   "cell_type": "markdown",
   "id": "a314f5ad-bf29-4a61-92fd-4c5e3dff8578",
   "metadata": {},
   "source": [
    "Identify respondents with extremely high yearly compensation.\n",
    "\n",
    "- Calculate basic statistics (mean, median, and standard deviation) for `ConvertedCompYearly`.\n",
    "\n",
    "- Identify compensation values exceeding a defined threshold (e.g., 3 standard deviations above the mean).\n"
   ]
  },
  {
   "cell_type": "code",
   "execution_count": 5,
   "id": "7ddecc37-62b4-431f-906d-9e0f9d85b7bf",
   "metadata": {},
   "outputs": [
    {
     "data": {
      "text/plain": [
       "count    2.343500e+04\n",
       "mean     8.615529e+04\n",
       "std      1.867570e+05\n",
       "min      1.000000e+00\n",
       "25%      3.271200e+04\n",
       "50%      6.500000e+04\n",
       "75%      1.079715e+05\n",
       "max      1.625660e+07\n",
       "Name: ConvertedCompYearly, dtype: float64"
      ]
     },
     "execution_count": 5,
     "metadata": {},
     "output_type": "execute_result"
    }
   ],
   "source": [
    "# Calculate basic statistics for ConvertedCompYearly\n",
    "data['ConvertedCompYearly'].describe()"
   ]
  },
  {
   "cell_type": "code",
   "execution_count": 6,
   "metadata": {},
   "outputs": [
    {
     "name": "stdout",
     "output_type": "stream",
     "text": [
      "42002\n"
     ]
    }
   ],
   "source": [
    "# Count nulls\n",
    "print(data['ConvertedCompYearly'].isnull().sum())"
   ]
  },
  {
   "cell_type": "code",
   "execution_count": null,
   "metadata": {},
   "outputs": [],
   "source": [
    "# Remove rows with null ConvertedCompYearly\n",
    "data_clean = data.dropna(subset=['ConvertedCompYearly'])"
   ]
  },
  {
   "cell_type": "code",
   "execution_count": 8,
   "metadata": {},
   "outputs": [
    {
     "name": "stdout",
     "output_type": "stream",
     "text": [
      "Number of outliers (3 STD): 89\n",
      "{2000000.0, 800000.0, 1200000.0, 720000.0, 1140481.0, 1295242.0, 1074062.0, 650000.0, 810000.0, 1562898.0, 2237846.0, 1273879.0, 980887.0, 1728025.0, 713372.0, 900000.0, 1302817.0, 1188001.0, 1300000.0, 3367716.0, 1052581.0, 13818022.0, 740517.0, 764327.0, 1288874.0, 1250348.0, 2048046.0, 750000.0, 798000.0, 670000.0, 660660.0, 2584118.0, 1550391.0, 675000.0, 912953.0, 1031099.0, 1000000.0, 9000000.0, 1332930.0, 1184707.0, 4936778.0, 850000.0, 6340564.0, 803285.0, 2153432.0, 16256603.0, 1750749.0, 1500000.0, 700000.0, 712801.0, 1900000.0, 945000.0, 2014062.0, 950000.0, 1750000.0, 859250.0, 875000.0}\n"
     ]
    }
   ],
   "source": [
    "# Identify compensation values exceeding a defined threshold\n",
    "comp_mean = data_clean['ConvertedCompYearly'].mean()\n",
    "comp_std = data_clean['ConvertedCompYearly'].std()\n",
    "comp_theshold = comp_mean + (3*comp_std)\n",
    "outliers_3std = data_clean[data_clean['ConvertedCompYearly'] > comp_theshold]\n",
    "outliers_list = set(outliers_3std['ConvertedCompYearly'])\n",
    "\n",
    "print(f\"Number of outliers (3 STD): {len(outliers_3std)}\")\n",
    "print(outliers_list)"
   ]
  },
  {
   "cell_type": "markdown",
   "id": "16ed51a2-f59b-4ce0-9e79-8bc25c9c785d",
   "metadata": {},
   "source": [
    "<h3>Step 4: Detect Outliers in Compensation</h3>\n"
   ]
  },
  {
   "cell_type": "markdown",
   "id": "473e1a28-0cab-4582-87c3-334ff8e7cd74",
   "metadata": {},
   "source": [
    "Identify outliers in the `ConvertedCompYearly` column using the IQR method.\n",
    "\n",
    "- Calculate the Interquartile Range (IQR).\n",
    "\n",
    "- Determine the upper and lower bounds for outliers.\n",
    "\n",
    "- Count and visualize outliers using a box plot.\n"
   ]
  },
  {
   "cell_type": "code",
   "execution_count": 9,
   "id": "aee14da9-2ac9-4ce4-ac56-da7e152b4c7c",
   "metadata": {},
   "outputs": [],
   "source": [
    "# Calculate the Interquartile Range (IQR)\n",
    "Q1 = data_clean['ConvertedCompYearly'].quantile(0.25)\n",
    "Q3 = data_clean['ConvertedCompYearly'].quantile(0.75)\n",
    "IQR = Q3 - Q1"
   ]
  },
  {
   "cell_type": "code",
   "execution_count": 10,
   "metadata": {},
   "outputs": [],
   "source": [
    "# Determine the upper and lower bounds for outliers\n",
    "lower_bound = Q1 - 1.5 * IQR\n",
    "upper_bound = Q3 + 1.5 * IQR"
   ]
  },
  {
   "cell_type": "code",
   "execution_count": 11,
   "metadata": {},
   "outputs": [
    {
     "name": "stdout",
     "output_type": "stream",
     "text": [
      "Number of outliers (IQR): 978\n"
     ]
    }
   ],
   "source": [
    "# Count outliers\n",
    "outliers_IQR = data_clean[(data_clean['ConvertedCompYearly'] < lower_bound) | (data_clean['ConvertedCompYearly'] > upper_bound)]\n",
    "print(f\"Number of outliers (IQR): {len(outliers_IQR)}\")"
   ]
  },
  {
   "cell_type": "code",
   "execution_count": null,
   "metadata": {},
   "outputs": [
    {
     "data": {
      "image/png": "[encoded data removed]",
      "text/plain": [
       "<Figure size 1600x400 with 1 Axes>"
      ]
     },
     "metadata": {},
     "output_type": "display_data"
    }
   ],
   "source": [
    "# Visualize outliers using a box plot\n",
    "plt.figure(figsize=(16, 4))\n",
    "sns.boxplot(data=data_clean, x='ConvertedCompYearly')\n",
    "plt.title('Box Plot of Annual Compensation with Outliers')\n",
    "plt.xlabel('log(ConvertedCompYearly)')\n",
    "plt.xscale('log') # for better visualization of spread\n",
    "plt.show()"
   ]
  },
  {
   "cell_type": "markdown",
   "id": "05f5a110-2fa5-406d-88f3-a55a95a80cd8",
   "metadata": {},
   "source": [
    "<h3>Step 5: Remove Outliers and Create a New DataFrame</h3>\n"
   ]
  },
  {
   "cell_type": "markdown",
   "id": "3c8b6b4e-7cad-4e7c-ab24-791da8c9cbc4",
   "metadata": {},
   "source": [
    "Remove outliers from the dataset.\n",
    "\n",
    "- Create a new DataFrame excluding rows with outliers in `ConvertedCompYearly`.\n",
    "- Validate the size of the new DataFrame.\n"
   ]
  },
  {
   "cell_type": "code",
   "execution_count": 13,
   "id": "13d2c6c9-45f3-450c-9cb0-adf97c6e4947",
   "metadata": {},
   "outputs": [
    {
     "name": "stdout",
     "output_type": "stream",
     "text": [
      "Before outlier removal: 23435\n",
      "Number of outliers (IQR): 978\n",
      "After outlier removal: 22457\n"
     ]
    }
   ],
   "source": [
    "data_no_outliers = data_clean[(data_clean['ConvertedCompYearly'] >= lower_bound) & (data_clean['ConvertedCompYearly'] <= upper_bound)]\n",
    "print(f\"Before outlier removal: {len(data_clean)}\")\n",
    "print(f\"Number of outliers (IQR): {len(outliers_IQR)}\")\n",
    "print(f\"After outlier removal: {len(data_no_outliers)}\")"
   ]
  },
  {
   "cell_type": "code",
   "execution_count": null,
   "metadata": {},
   "outputs": [
    {
     "data": {
      "image/png": "[encoded data removed]",
      "text/plain": [
       "<Figure size 1600x400 with 1 Axes>"
      ]
     },
     "metadata": {},
     "output_type": "display_data"
    }
   ],
   "source": [
    "# Visualize the data without outliers\n",
    "plt.figure(figsize=(16, 4))\n",
    "sns.boxplot(data=data_no_outliers, x='ConvertedCompYearly')\n",
    "plt.title('Box Plot of Annual Compensation with Outliers')\n",
    "plt.xlabel('log(ConvertedCompYearly)')\n",
    "plt.xscale('log') # for better visualization of spread\n",
    "plt.show()"
   ]
  },
  {
   "cell_type": "markdown",
   "id": "a27b833b-8441-4d09-ac88-2a805667d44c",
   "metadata": {},
   "source": [
    "<h3>Step 6: Correlation Analysis</h3>\n"
   ]
  },
  {
   "cell_type": "markdown",
   "id": "ace2e536-b4dd-4d67-a28c-8a1c0b88ebb1",
   "metadata": {},
   "source": [
    "Analyze the correlation between `Age` (transformed) and other numerical columns.\n",
    "\n",
    "- Map the `Age` column to approximate numeric values.\n",
    "\n",
    "- Compute correlations between `Age` and other numeric variables.\n",
    "\n",
    "- Visualize the correlation matrix.\n"
   ]
  },
  {
   "cell_type": "code",
   "execution_count": 15,
   "metadata": {},
   "outputs": [
    {
     "data": {
      "text/plain": [
       "array(['Under 18 years old', '35-44 years old', '45-54 years old',\n",
       "       '18-24 years old', '25-34 years old', '55-64 years old',\n",
       "       'Prefer not to say', '65 years or older'], dtype=object)"
      ]
     },
     "execution_count": 15,
     "metadata": {},
     "output_type": "execute_result"
    }
   ],
   "source": [
    "data['Age'].unique()"
   ]
  },
  {
   "cell_type": "code",
   "execution_count": 16,
   "id": "1304950f-88cf-46b4-b8bb-9624dd11c612",
   "metadata": {},
   "outputs": [
    {
     "data": {
      "text/plain": [
       "AgeGroup\n",
       "30.0    23911\n",
       "40.0    14942\n",
       "21.0    14098\n",
       "50.0     6249\n",
       "60.0     2575\n",
       "15.0     2568\n",
       "70.0      772\n",
       "Name: count, dtype: int64"
      ]
     },
     "execution_count": 16,
     "metadata": {},
     "output_type": "execute_result"
    }
   ],
   "source": [
    "# Map the Age column to approximate numeric values\n",
    "age_mapping = {\n",
    "    'Under 18 years old': 15,\n",
    "    '18-24 years old': 21,\n",
    "    '25-34 years old': 30,\n",
    "    '35-44 years old': 40,\n",
    "    '45-54 years old': 50,\n",
    "    '55-64 years old': 60,\n",
    "    '65 years or older': 70,\n",
    "    'Prefer not to say': None\n",
    "}\n",
    "data['AgeGroup'] = data['Age'].map(age_mapping)\n",
    "data['AgeGroup'].value_counts()"
   ]
  },
  {
   "cell_type": "code",
   "execution_count": 17,
   "metadata": {},
   "outputs": [
    {
     "data": {
      "text/html": [
       "<div>\n",
       "<style scoped>\n",
       "    .dataframe tbody tr th:only-of-type {\n",
       "        vertical-align: middle;\n",
       "    }\n",
       "\n",
       "    .dataframe tbody tr th {\n",
       "        vertical-align: top;\n",
       "    }\n",
       "\n",
       "    .dataframe thead th {\n",
       "        text-align: right;\n",
       "    }\n",
       "</style>\n",
       "<table border=\"1\" class=\"dataframe\">\n",
       "  <thead>\n",
       "    <tr style=\"text-align: right;\">\n",
       "      <th></th>\n",
       "      <th>CompTotal</th>\n",
       "      <th>WorkExp</th>\n",
       "      <th>JobSatPoints_1</th>\n",
       "      <th>JobSatPoints_4</th>\n",
       "      <th>JobSatPoints_5</th>\n",
       "      <th>JobSatPoints_6</th>\n",
       "      <th>JobSatPoints_7</th>\n",
       "      <th>JobSatPoints_8</th>\n",
       "      <th>JobSatPoints_9</th>\n",
       "      <th>JobSatPoints_10</th>\n",
       "      <th>JobSatPoints_11</th>\n",
       "      <th>ConvertedCompYearly</th>\n",
       "      <th>JobSat</th>\n",
       "      <th>AgeGroup</th>\n",
       "    </tr>\n",
       "  </thead>\n",
       "  <tbody>\n",
       "    <tr>\n",
       "      <th>CompTotal</th>\n",
       "      <td>0.000000</td>\n",
       "      <td>0.028766</td>\n",
       "      <td>-0.004891</td>\n",
       "      <td>-0.002719</td>\n",
       "      <td>-0.003033</td>\n",
       "      <td>-0.006311</td>\n",
       "      <td>-0.005893</td>\n",
       "      <td>-0.004585</td>\n",
       "      <td>-0.004494</td>\n",
       "      <td>-0.003198</td>\n",
       "      <td>-0.003045</td>\n",
       "      <td>0.080457</td>\n",
       "      <td>-0.015770</td>\n",
       "      <td>-0.002695</td>\n",
       "    </tr>\n",
       "    <tr>\n",
       "      <th>WorkExp</th>\n",
       "      <td>0.028766</td>\n",
       "      <td>1.000000</td>\n",
       "      <td>-0.026490</td>\n",
       "      <td>-0.067241</td>\n",
       "      <td>-0.104525</td>\n",
       "      <td>-0.065352</td>\n",
       "      <td>-0.101461</td>\n",
       "      <td>-0.046958</td>\n",
       "      <td>-0.088090</td>\n",
       "      <td>-0.113707</td>\n",
       "      <td>-0.108279</td>\n",
       "      <td>0.154114</td>\n",
       "      <td>0.097322</td>\n",
       "      <td>0.848567</td>\n",
       "    </tr>\n",
       "    <tr>\n",
       "      <th>JobSatPoints_1</th>\n",
       "      <td>-0.004891</td>\n",
       "      <td>-0.026490</td>\n",
       "      <td>1.000000</td>\n",
       "      <td>0.445710</td>\n",
       "      <td>0.633765</td>\n",
       "      <td>0.618618</td>\n",
       "      <td>0.603157</td>\n",
       "      <td>0.627385</td>\n",
       "      <td>0.597527</td>\n",
       "      <td>0.585087</td>\n",
       "      <td>0.607792</td>\n",
       "      <td>0.020306</td>\n",
       "      <td>0.094068</td>\n",
       "      <td>-0.027608</td>\n",
       "    </tr>\n",
       "    <tr>\n",
       "      <th>JobSatPoints_4</th>\n",
       "      <td>-0.002719</td>\n",
       "      <td>-0.067241</td>\n",
       "      <td>0.445710</td>\n",
       "      <td>1.000000</td>\n",
       "      <td>0.526254</td>\n",
       "      <td>0.449400</td>\n",
       "      <td>0.459253</td>\n",
       "      <td>0.438763</td>\n",
       "      <td>0.472516</td>\n",
       "      <td>0.499387</td>\n",
       "      <td>0.528395</td>\n",
       "      <td>0.018197</td>\n",
       "      <td>0.029677</td>\n",
       "      <td>-0.076200</td>\n",
       "    </tr>\n",
       "    <tr>\n",
       "      <th>JobSatPoints_5</th>\n",
       "      <td>-0.003033</td>\n",
       "      <td>-0.104525</td>\n",
       "      <td>0.633765</td>\n",
       "      <td>0.526254</td>\n",
       "      <td>1.000000</td>\n",
       "      <td>0.613933</td>\n",
       "      <td>0.607949</td>\n",
       "      <td>0.630353</td>\n",
       "      <td>0.619644</td>\n",
       "      <td>0.643538</td>\n",
       "      <td>0.690993</td>\n",
       "      <td>-0.023281</td>\n",
       "      <td>0.049224</td>\n",
       "      <td>-0.101506</td>\n",
       "    </tr>\n",
       "    <tr>\n",
       "      <th>JobSatPoints_6</th>\n",
       "      <td>-0.006311</td>\n",
       "      <td>-0.065352</td>\n",
       "      <td>0.618618</td>\n",
       "      <td>0.449400</td>\n",
       "      <td>0.613933</td>\n",
       "      <td>1.000000</td>\n",
       "      <td>0.692166</td>\n",
       "      <td>0.645094</td>\n",
       "      <td>0.632211</td>\n",
       "      <td>0.592528</td>\n",
       "      <td>0.604585</td>\n",
       "      <td>-0.008518</td>\n",
       "      <td>0.051341</td>\n",
       "      <td>-0.049930</td>\n",
       "    </tr>\n",
       "    <tr>\n",
       "      <th>JobSatPoints_7</th>\n",
       "      <td>-0.005893</td>\n",
       "      <td>-0.101461</td>\n",
       "      <td>0.603157</td>\n",
       "      <td>0.459253</td>\n",
       "      <td>0.607949</td>\n",
       "      <td>0.692166</td>\n",
       "      <td>1.000000</td>\n",
       "      <td>0.698240</td>\n",
       "      <td>0.659558</td>\n",
       "      <td>0.642905</td>\n",
       "      <td>0.618444</td>\n",
       "      <td>-0.036431</td>\n",
       "      <td>0.038339</td>\n",
       "      <td>-0.083166</td>\n",
       "    </tr>\n",
       "    <tr>\n",
       "      <th>JobSatPoints_8</th>\n",
       "      <td>-0.004585</td>\n",
       "      <td>-0.046958</td>\n",
       "      <td>0.627385</td>\n",
       "      <td>0.438763</td>\n",
       "      <td>0.630353</td>\n",
       "      <td>0.645094</td>\n",
       "      <td>0.698240</td>\n",
       "      <td>1.000000</td>\n",
       "      <td>0.655668</td>\n",
       "      <td>0.617320</td>\n",
       "      <td>0.625185</td>\n",
       "      <td>-0.011080</td>\n",
       "      <td>0.058258</td>\n",
       "      <td>-0.046113</td>\n",
       "    </tr>\n",
       "    <tr>\n",
       "      <th>JobSatPoints_9</th>\n",
       "      <td>-0.004494</td>\n",
       "      <td>-0.088090</td>\n",
       "      <td>0.597527</td>\n",
       "      <td>0.472516</td>\n",
       "      <td>0.619644</td>\n",
       "      <td>0.632211</td>\n",
       "      <td>0.659558</td>\n",
       "      <td>0.655668</td>\n",
       "      <td>1.000000</td>\n",
       "      <td>0.663628</td>\n",
       "      <td>0.650676</td>\n",
       "      <td>-0.015867</td>\n",
       "      <td>0.039173</td>\n",
       "      <td>-0.081717</td>\n",
       "    </tr>\n",
       "    <tr>\n",
       "      <th>JobSatPoints_10</th>\n",
       "      <td>-0.003198</td>\n",
       "      <td>-0.113707</td>\n",
       "      <td>0.585087</td>\n",
       "      <td>0.499387</td>\n",
       "      <td>0.643538</td>\n",
       "      <td>0.592528</td>\n",
       "      <td>0.642905</td>\n",
       "      <td>0.617320</td>\n",
       "      <td>0.663628</td>\n",
       "      <td>1.000000</td>\n",
       "      <td>0.737598</td>\n",
       "      <td>-0.022228</td>\n",
       "      <td>0.045063</td>\n",
       "      <td>-0.114556</td>\n",
       "    </tr>\n",
       "    <tr>\n",
       "      <th>JobSatPoints_11</th>\n",
       "      <td>-0.003045</td>\n",
       "      <td>-0.108279</td>\n",
       "      <td>0.607792</td>\n",
       "      <td>0.528395</td>\n",
       "      <td>0.690993</td>\n",
       "      <td>0.604585</td>\n",
       "      <td>0.618444</td>\n",
       "      <td>0.625185</td>\n",
       "      <td>0.650676</td>\n",
       "      <td>0.737598</td>\n",
       "      <td>1.000000</td>\n",
       "      <td>-0.010038</td>\n",
       "      <td>0.045093</td>\n",
       "      <td>-0.107109</td>\n",
       "    </tr>\n",
       "    <tr>\n",
       "      <th>ConvertedCompYearly</th>\n",
       "      <td>0.080457</td>\n",
       "      <td>0.154114</td>\n",
       "      <td>0.020306</td>\n",
       "      <td>0.018197</td>\n",
       "      <td>-0.023281</td>\n",
       "      <td>-0.008518</td>\n",
       "      <td>-0.036431</td>\n",
       "      <td>-0.011080</td>\n",
       "      <td>-0.015867</td>\n",
       "      <td>-0.022228</td>\n",
       "      <td>-0.010038</td>\n",
       "      <td>1.000000</td>\n",
       "      <td>0.048428</td>\n",
       "      <td>0.122167</td>\n",
       "    </tr>\n",
       "    <tr>\n",
       "      <th>JobSat</th>\n",
       "      <td>-0.015770</td>\n",
       "      <td>0.097322</td>\n",
       "      <td>0.094068</td>\n",
       "      <td>0.029677</td>\n",
       "      <td>0.049224</td>\n",
       "      <td>0.051341</td>\n",
       "      <td>0.038339</td>\n",
       "      <td>0.058258</td>\n",
       "      <td>0.039173</td>\n",
       "      <td>0.045063</td>\n",
       "      <td>0.045093</td>\n",
       "      <td>0.048428</td>\n",
       "      <td>1.000000</td>\n",
       "      <td>0.069753</td>\n",
       "    </tr>\n",
       "    <tr>\n",
       "      <th>AgeGroup</th>\n",
       "      <td>-0.002695</td>\n",
       "      <td>0.848567</td>\n",
       "      <td>-0.027608</td>\n",
       "      <td>-0.076200</td>\n",
       "      <td>-0.101506</td>\n",
       "      <td>-0.049930</td>\n",
       "      <td>-0.083166</td>\n",
       "      <td>-0.046113</td>\n",
       "      <td>-0.081717</td>\n",
       "      <td>-0.114556</td>\n",
       "      <td>-0.107109</td>\n",
       "      <td>0.122167</td>\n",
       "      <td>0.069753</td>\n",
       "      <td>1.000000</td>\n",
       "    </tr>\n",
       "  </tbody>\n",
       "</table>\n",
       "</div>"
      ],
      "text/plain": [
       "                     CompTotal   WorkExp  JobSatPoints_1  JobSatPoints_4  \\\n",
       "CompTotal             0.000000  0.028766       -0.004891       -0.002719   \n",
       "WorkExp               0.028766  1.000000       -0.026490       -0.067241   \n",
       "JobSatPoints_1       -0.004891 -0.026490        1.000000        0.445710   \n",
       "JobSatPoints_4       -0.002719 -0.067241        0.445710        1.000000   \n",
       "JobSatPoints_5       -0.003033 -0.104525        0.633765        0.526254   \n",
       "JobSatPoints_6       -0.006311 -0.065352        0.618618        0.449400   \n",
       "JobSatPoints_7       -0.005893 -0.101461        0.603157        0.459253   \n",
       "JobSatPoints_8       -0.004585 -0.046958        0.627385        0.438763   \n",
       "JobSatPoints_9       -0.004494 -0.088090        0.597527        0.472516   \n",
       "JobSatPoints_10      -0.003198 -0.113707        0.585087        0.499387   \n",
       "JobSatPoints_11      -0.003045 -0.108279        0.607792        0.528395   \n",
       "ConvertedCompYearly   0.080457  0.154114        0.020306        0.018197   \n",
       "JobSat               -0.015770  0.097322        0.094068        0.029677   \n",
       "AgeGroup             -0.002695  0.848567       -0.027608       -0.076200   \n",
       "\n",
       "                     JobSatPoints_5  JobSatPoints_6  JobSatPoints_7  \\\n",
       "CompTotal                 -0.003033       -0.006311       -0.005893   \n",
       "WorkExp                   -0.104525       -0.065352       -0.101461   \n",
       "JobSatPoints_1             0.633765        0.618618        0.603157   \n",
       "JobSatPoints_4             0.526254        0.449400        0.459253   \n",
       "JobSatPoints_5             1.000000        0.613933        0.607949   \n",
       "JobSatPoints_6             0.613933        1.000000        0.692166   \n",
       "JobSatPoints_7             0.607949        0.692166        1.000000   \n",
       "JobSatPoints_8             0.630353        0.645094        0.698240   \n",
       "JobSatPoints_9             0.619644        0.632211        0.659558   \n",
       "JobSatPoints_10            0.643538        0.592528        0.642905   \n",
       "JobSatPoints_11            0.690993        0.604585        0.618444   \n",
       "ConvertedCompYearly       -0.023281       -0.008518       -0.036431   \n",
       "JobSat                     0.049224        0.051341        0.038339   \n",
       "AgeGroup                  -0.101506       -0.049930       -0.083166   \n",
       "\n",
       "                     JobSatPoints_8  JobSatPoints_9  JobSatPoints_10  \\\n",
       "CompTotal                 -0.004585       -0.004494        -0.003198   \n",
       "WorkExp                   -0.046958       -0.088090        -0.113707   \n",
       "JobSatPoints_1             0.627385        0.597527         0.585087   \n",
       "JobSatPoints_4             0.438763        0.472516         0.499387   \n",
       "JobSatPoints_5             0.630353        0.619644         0.643538   \n",
       "JobSatPoints_6             0.645094        0.632211         0.592528   \n",
       "JobSatPoints_7             0.698240        0.659558         0.642905   \n",
       "JobSatPoints_8             1.000000        0.655668         0.617320   \n",
       "JobSatPoints_9             0.655668        1.000000         0.663628   \n",
       "JobSatPoints_10            0.617320        0.663628         1.000000   \n",
       "JobSatPoints_11            0.625185        0.650676         0.737598   \n",
       "ConvertedCompYearly       -0.011080       -0.015867        -0.022228   \n",
       "JobSat                     0.058258        0.039173         0.045063   \n",
       "AgeGroup                  -0.046113       -0.081717        -0.114556   \n",
       "\n",
       "                     JobSatPoints_11  ConvertedCompYearly    JobSat  AgeGroup  \n",
       "CompTotal                  -0.003045             0.080457 -0.015770 -0.002695  \n",
       "WorkExp                    -0.108279             0.154114  0.097322  0.848567  \n",
       "JobSatPoints_1              0.607792             0.020306  0.094068 -0.027608  \n",
       "JobSatPoints_4              0.528395             0.018197  0.029677 -0.076200  \n",
       "JobSatPoints_5              0.690993            -0.023281  0.049224 -0.101506  \n",
       "JobSatPoints_6              0.604585            -0.008518  0.051341 -0.049930  \n",
       "JobSatPoints_7              0.618444            -0.036431  0.038339 -0.083166  \n",
       "JobSatPoints_8              0.625185            -0.011080  0.058258 -0.046113  \n",
       "JobSatPoints_9              0.650676            -0.015867  0.039173 -0.081717  \n",
       "JobSatPoints_10             0.737598            -0.022228  0.045063 -0.114556  \n",
       "JobSatPoints_11             1.000000            -0.010038  0.045093 -0.107109  \n",
       "ConvertedCompYearly        -0.010038             1.000000  0.048428  0.122167  \n",
       "JobSat                      0.045093             0.048428  1.000000  0.069753  \n",
       "AgeGroup                   -0.107109             0.122167  0.069753  1.000000  "
      ]
     },
     "execution_count": 17,
     "metadata": {},
     "output_type": "execute_result"
    }
   ],
   "source": [
    "# Compute correlations between Age and other numeric variables\n",
    "numeric_cols = data.select_dtypes(include=['float64', 'int64']).columns\n",
    "numeric_cols = numeric_cols.drop('ResponseId') # exclude ResponseId\n",
    "corr_matrix = data[numeric_cols].corr()\n",
    "corr_matrix"
   ]
  },
  {
   "cell_type": "code",
   "execution_count": 18,
   "metadata": {},
   "outputs": [
    {
     "data": {
      "image/png": "[encoded data removed]",
      "text/plain": [
       "<Figure size 640x480 with 2 Axes>"
      ]
     },
     "metadata": {},
     "output_type": "display_data"
    }
   ],
   "source": [
    "# Visualize the correlation matrix\n",
    "sns.heatmap(corr_matrix, cmap='YlGnBu')\n",
    "plt.title('Correlation of Numerical Variables')\n",
    "plt.show()"
   ]
  },
  {
   "cell_type": "markdown",
   "id": "9d62f5d7-462a-43f1-90c1-7b1c768057aa",
   "metadata": {},
   "source": [
    "<h3> Summary </h3>\n"
   ]
  },
  {
   "cell_type": "markdown",
   "id": "b42f0874-1d1a-428d-8eb7-e3657e9970f1",
   "metadata": {},
   "source": [
    "In this lab, you developed essential skills in **Exploratory Data Analysis (EDA)** with a focus on outlier detection and removal. Specifically, you:\n"
   ]
  },
  {
   "cell_type": "markdown",
   "id": "d8518b0d-1558-4748-9cf8-302c32dbac17",
   "metadata": {},
   "source": [
    "- Loaded and explored the dataset to understand its structure.\n",
    "\n",
    "- Analyzed the distribution of respondents across industries.\n",
    "\n",
    "- Identified and removed high compensation outliers using statistical thresholds and the Interquartile Range (IQR) method.\n",
    "\n",
    "- Performed correlation analysis, including transforming the `Age` column into numeric values for better analysis.\n"
   ]
  },
  {
   "cell_type": "markdown",
   "id": "fb245dab-a69e-48f3-b1a7-fac30ea419a4",
   "metadata": {},
   "source": [
    "<!--\n",
    "## Change Log\n",
    "|Date (YYYY-MM-DD)|Version|Changed By|Change Description|\n",
    "|-|-|-|-|               \n",
    "|2024-10-1|1.1|Madhusudan Moole|Reviewed and updated lab|                                                                                    \n",
    "|2024-09-29|1.0|Raghul Ramesh|Created lab|\n",
    "--!>\n"
   ]
  },
  {
   "cell_type": "markdown",
   "id": "633e1ff0-14bb-4e00-8e6f-817f6f7f3166",
   "metadata": {},
   "source": [
    "Copyright © IBM Corporation. All rights reserved.\n"
   ]
  }
 ],
 "metadata": {
  "kernelspec": {
   "display_name": "Python 3",
   "language": "python",
   "name": "python3"
  },
  "language_info": {
   "codemirror_mode": {
    "name": "ipython",
    "version": 3
   },
   "file_extension": ".py",
   "mimetype": "text/x-python",
   "name": "python",
   "nbconvert_exporter": "python",
   "pygments_lexer": "ipython3",
   "version": "3.12.10"
  },
  "prev_pub_hash": "bfb6b5324ee15056f94c357f33a9f92b9c3ff0f4ad4b517e8e51e820f5595113"
 },
 "nbformat": 4,
 "nbformat_minor": 4
}
